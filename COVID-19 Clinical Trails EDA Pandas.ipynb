{
 "cells": [
  {
   "cell_type": "code",
   "execution_count": 44,
   "id": "2966d7e3-7456-4a09-b1f9-a7e6bea1b8d7",
   "metadata": {},
   "outputs": [
    {
     "name": "stdout",
     "output_type": "stream",
     "text": [
      "Requirement already satisfied: pandas in c:\\users\\vemul\\appdata\\local\\programs\\python\\python313\\lib\\site-packages (2.3.2)\n",
      "Requirement already satisfied: plotly in c:\\users\\vemul\\appdata\\local\\programs\\python\\python313\\lib\\site-packages (6.3.0)\n",
      "Requirement already satisfied: dash in c:\\users\\vemul\\appdata\\local\\programs\\python\\python313\\lib\\site-packages (3.2.0)\n",
      "Requirement already satisfied: numpy>=1.26.0 in c:\\users\\vemul\\appdata\\local\\programs\\python\\python313\\lib\\site-packages (from pandas) (2.3.2)\n",
      "Requirement already satisfied: python-dateutil>=2.8.2 in c:\\users\\vemul\\appdata\\local\\programs\\python\\python313\\lib\\site-packages (from pandas) (2.9.0.post0)\n",
      "Requirement already satisfied: pytz>=2020.1 in c:\\users\\vemul\\appdata\\local\\programs\\python\\python313\\lib\\site-packages (from pandas) (2025.2)\n",
      "Requirement already satisfied: tzdata>=2022.7 in c:\\users\\vemul\\appdata\\local\\programs\\python\\python313\\lib\\site-packages (from pandas) (2025.2)\n",
      "Requirement already satisfied: narwhals>=1.15.1 in c:\\users\\vemul\\appdata\\local\\programs\\python\\python313\\lib\\site-packages (from plotly) (2.3.0)\n",
      "Requirement already satisfied: packaging in c:\\users\\vemul\\appdata\\local\\programs\\python\\python313\\lib\\site-packages (from plotly) (25.0)\n",
      "Requirement already satisfied: Flask<3.2,>=1.0.4 in c:\\users\\vemul\\appdata\\local\\programs\\python\\python313\\lib\\site-packages (from dash) (3.1.2)\n",
      "Requirement already satisfied: Werkzeug<3.2 in c:\\users\\vemul\\appdata\\local\\programs\\python\\python313\\lib\\site-packages (from dash) (3.1.3)\n",
      "Requirement already satisfied: importlib-metadata in c:\\users\\vemul\\appdata\\local\\programs\\python\\python313\\lib\\site-packages (from dash) (8.7.0)\n",
      "Requirement already satisfied: typing-extensions>=4.1.1 in c:\\users\\vemul\\appdata\\local\\programs\\python\\python313\\lib\\site-packages (from dash) (4.15.0)\n",
      "Requirement already satisfied: requests in c:\\users\\vemul\\appdata\\local\\programs\\python\\python313\\lib\\site-packages (from dash) (2.32.5)\n",
      "Requirement already satisfied: retrying in c:\\users\\vemul\\appdata\\local\\programs\\python\\python313\\lib\\site-packages (from dash) (1.4.2)\n",
      "Requirement already satisfied: nest-asyncio in c:\\users\\vemul\\appdata\\local\\programs\\python\\python313\\lib\\site-packages (from dash) (1.6.0)\n",
      "Requirement already satisfied: setuptools in c:\\users\\vemul\\appdata\\local\\programs\\python\\python313\\lib\\site-packages (from dash) (80.9.0)\n",
      "Requirement already satisfied: blinker>=1.9.0 in c:\\users\\vemul\\appdata\\local\\programs\\python\\python313\\lib\\site-packages (from Flask<3.2,>=1.0.4->dash) (1.9.0)\n",
      "Requirement already satisfied: click>=8.1.3 in c:\\users\\vemul\\appdata\\local\\programs\\python\\python313\\lib\\site-packages (from Flask<3.2,>=1.0.4->dash) (8.2.1)\n",
      "Requirement already satisfied: itsdangerous>=2.2.0 in c:\\users\\vemul\\appdata\\local\\programs\\python\\python313\\lib\\site-packages (from Flask<3.2,>=1.0.4->dash) (2.2.0)\n",
      "Requirement already satisfied: jinja2>=3.1.2 in c:\\users\\vemul\\appdata\\local\\programs\\python\\python313\\lib\\site-packages (from Flask<3.2,>=1.0.4->dash) (3.1.6)\n",
      "Requirement already satisfied: markupsafe>=2.1.1 in c:\\users\\vemul\\appdata\\local\\programs\\python\\python313\\lib\\site-packages (from Flask<3.2,>=1.0.4->dash) (3.0.2)\n",
      "Requirement already satisfied: colorama in c:\\users\\vemul\\appdata\\local\\programs\\python\\python313\\lib\\site-packages (from click>=8.1.3->Flask<3.2,>=1.0.4->dash) (0.4.6)\n",
      "Requirement already satisfied: six>=1.5 in c:\\users\\vemul\\appdata\\local\\programs\\python\\python313\\lib\\site-packages (from python-dateutil>=2.8.2->pandas) (1.17.0)\n",
      "Requirement already satisfied: zipp>=3.20 in c:\\users\\vemul\\appdata\\local\\programs\\python\\python313\\lib\\site-packages (from importlib-metadata->dash) (3.23.0)\n",
      "Requirement already satisfied: charset_normalizer<4,>=2 in c:\\users\\vemul\\appdata\\local\\programs\\python\\python313\\lib\\site-packages (from requests->dash) (3.4.3)\n",
      "Requirement already satisfied: idna<4,>=2.5 in c:\\users\\vemul\\appdata\\local\\programs\\python\\python313\\lib\\site-packages (from requests->dash) (3.10)\n",
      "Requirement already satisfied: urllib3<3,>=1.21.1 in c:\\users\\vemul\\appdata\\local\\programs\\python\\python313\\lib\\site-packages (from requests->dash) (2.5.0)\n",
      "Requirement already satisfied: certifi>=2017.4.17 in c:\\users\\vemul\\appdata\\local\\programs\\python\\python313\\lib\\site-packages (from requests->dash) (2025.8.3)\n",
      "Requirement already satisfied: wordcloud in c:\\users\\vemul\\appdata\\local\\programs\\python\\python313\\lib\\site-packages (1.9.4)\n",
      "Requirement already satisfied: numpy>=1.6.1 in c:\\users\\vemul\\appdata\\local\\programs\\python\\python313\\lib\\site-packages (from wordcloud) (2.3.2)\n",
      "Requirement already satisfied: pillow in c:\\users\\vemul\\appdata\\local\\programs\\python\\python313\\lib\\site-packages (from wordcloud) (11.3.0)\n",
      "Requirement already satisfied: matplotlib in c:\\users\\vemul\\appdata\\local\\programs\\python\\python313\\lib\\site-packages (from wordcloud) (3.10.6)\n",
      "Requirement already satisfied: contourpy>=1.0.1 in c:\\users\\vemul\\appdata\\local\\programs\\python\\python313\\lib\\site-packages (from matplotlib->wordcloud) (1.3.3)\n",
      "Requirement already satisfied: cycler>=0.10 in c:\\users\\vemul\\appdata\\local\\programs\\python\\python313\\lib\\site-packages (from matplotlib->wordcloud) (0.12.1)\n",
      "Requirement already satisfied: fonttools>=4.22.0 in c:\\users\\vemul\\appdata\\local\\programs\\python\\python313\\lib\\site-packages (from matplotlib->wordcloud) (4.59.2)\n",
      "Requirement already satisfied: kiwisolver>=1.3.1 in c:\\users\\vemul\\appdata\\local\\programs\\python\\python313\\lib\\site-packages (from matplotlib->wordcloud) (1.4.9)\n",
      "Requirement already satisfied: packaging>=20.0 in c:\\users\\vemul\\appdata\\local\\programs\\python\\python313\\lib\\site-packages (from matplotlib->wordcloud) (25.0)\n",
      "Requirement already satisfied: pyparsing>=2.3.1 in c:\\users\\vemul\\appdata\\local\\programs\\python\\python313\\lib\\site-packages (from matplotlib->wordcloud) (3.2.3)\n",
      "Requirement already satisfied: python-dateutil>=2.7 in c:\\users\\vemul\\appdata\\local\\programs\\python\\python313\\lib\\site-packages (from matplotlib->wordcloud) (2.9.0.post0)\n",
      "Requirement already satisfied: six>=1.5 in c:\\users\\vemul\\appdata\\local\\programs\\python\\python313\\lib\\site-packages (from python-dateutil>=2.7->matplotlib->wordcloud) (1.17.0)\n",
      "Requirement already satisfied: squarify in c:\\users\\vemul\\appdata\\local\\programs\\python\\python313\\lib\\site-packages (0.4.4)\n",
      "Collecting joypy\n",
      "  Downloading joypy-0.2.6-py2.py3-none-any.whl.metadata (812 bytes)\n",
      "Requirement already satisfied: numpy>=1.16.5 in c:\\users\\vemul\\appdata\\local\\programs\\python\\python313\\lib\\site-packages (from joypy) (2.3.2)\n",
      "Requirement already satisfied: scipy>=0.11.0 in c:\\users\\vemul\\appdata\\local\\programs\\python\\python313\\lib\\site-packages (from joypy) (1.16.1)\n",
      "Requirement already satisfied: pandas>=0.20.0 in c:\\users\\vemul\\appdata\\local\\programs\\python\\python313\\lib\\site-packages (from joypy) (2.3.2)\n",
      "Requirement already satisfied: matplotlib in c:\\users\\vemul\\appdata\\local\\programs\\python\\python313\\lib\\site-packages (from joypy) (3.10.6)\n",
      "Requirement already satisfied: python-dateutil>=2.8.2 in c:\\users\\vemul\\appdata\\local\\programs\\python\\python313\\lib\\site-packages (from pandas>=0.20.0->joypy) (2.9.0.post0)\n",
      "Requirement already satisfied: pytz>=2020.1 in c:\\users\\vemul\\appdata\\local\\programs\\python\\python313\\lib\\site-packages (from pandas>=0.20.0->joypy) (2025.2)\n",
      "Requirement already satisfied: tzdata>=2022.7 in c:\\users\\vemul\\appdata\\local\\programs\\python\\python313\\lib\\site-packages (from pandas>=0.20.0->joypy) (2025.2)\n",
      "Requirement already satisfied: six>=1.5 in c:\\users\\vemul\\appdata\\local\\programs\\python\\python313\\lib\\site-packages (from python-dateutil>=2.8.2->pandas>=0.20.0->joypy) (1.17.0)\n",
      "Requirement already satisfied: contourpy>=1.0.1 in c:\\users\\vemul\\appdata\\local\\programs\\python\\python313\\lib\\site-packages (from matplotlib->joypy) (1.3.3)\n",
      "Requirement already satisfied: cycler>=0.10 in c:\\users\\vemul\\appdata\\local\\programs\\python\\python313\\lib\\site-packages (from matplotlib->joypy) (0.12.1)\n",
      "Requirement already satisfied: fonttools>=4.22.0 in c:\\users\\vemul\\appdata\\local\\programs\\python\\python313\\lib\\site-packages (from matplotlib->joypy) (4.59.2)\n",
      "Requirement already satisfied: kiwisolver>=1.3.1 in c:\\users\\vemul\\appdata\\local\\programs\\python\\python313\\lib\\site-packages (from matplotlib->joypy) (1.4.9)\n",
      "Requirement already satisfied: packaging>=20.0 in c:\\users\\vemul\\appdata\\local\\programs\\python\\python313\\lib\\site-packages (from matplotlib->joypy) (25.0)\n",
      "Requirement already satisfied: pillow>=8 in c:\\users\\vemul\\appdata\\local\\programs\\python\\python313\\lib\\site-packages (from matplotlib->joypy) (11.3.0)\n",
      "Requirement already satisfied: pyparsing>=2.3.1 in c:\\users\\vemul\\appdata\\local\\programs\\python\\python313\\lib\\site-packages (from matplotlib->joypy) (3.2.3)\n",
      "Downloading joypy-0.2.6-py2.py3-none-any.whl (8.6 kB)\n",
      "Installing collected packages: joypy\n",
      "Successfully installed joypy-0.2.6\n"
     ]
    }
   ],
   "source": [
    "# STEP 1: Import Required Libraries\n",
    "!pip install pandas plotly dash\n",
    "!pip install wordcloud\n",
    "!pip install squarify\n",
    "!pip install joypy\n",
    "\n",
    "\n",
    "import pandas as pd\n",
    "import numpy as np\n",
    "import matplotlib.pyplot as plt\n",
    "import seaborn as sns\n",
    "from wordcloud import WordCloud\n",
    "import squarify   # for treemap\n",
    "from sklearn.model_selection import train_test_split\n",
    "from sklearn.preprocessing import LabelEncoder, StandardScaler\n",
    "from sklearn.ensemble import RandomForestClassifier\n",
    "from sklearn.metrics import classification_report, confusion_matrix\n",
    "import plotly.express as px\n",
    "import warnings\n",
    "warnings.filterwarnings(\"ignore\")"
   ]
  },
  {
   "cell_type": "code",
   "execution_count": 2,
   "id": "2a91c190-366a-4f42-a481-f5548b33ad4d",
   "metadata": {},
   "outputs": [
    {
     "name": "stdout",
     "output_type": "stream",
     "text": [
      "Initial Shape: (5783, 27)\n"
     ]
    },
    {
     "data": {
      "text/html": [
       "<div>\n",
       "<style scoped>\n",
       "    .dataframe tbody tr th:only-of-type {\n",
       "        vertical-align: middle;\n",
       "    }\n",
       "\n",
       "    .dataframe tbody tr th {\n",
       "        vertical-align: top;\n",
       "    }\n",
       "\n",
       "    .dataframe thead th {\n",
       "        text-align: right;\n",
       "    }\n",
       "</style>\n",
       "<table border=\"1\" class=\"dataframe\">\n",
       "  <thead>\n",
       "    <tr style=\"text-align: right;\">\n",
       "      <th></th>\n",
       "      <th>Rank</th>\n",
       "      <th>NCT Number</th>\n",
       "      <th>Title</th>\n",
       "      <th>Acronym</th>\n",
       "      <th>Status</th>\n",
       "      <th>Study Results</th>\n",
       "      <th>Conditions</th>\n",
       "      <th>Interventions</th>\n",
       "      <th>Outcome Measures</th>\n",
       "      <th>Sponsor/Collaborators</th>\n",
       "      <th>...</th>\n",
       "      <th>Other IDs</th>\n",
       "      <th>Start Date</th>\n",
       "      <th>Primary Completion Date</th>\n",
       "      <th>Completion Date</th>\n",
       "      <th>First Posted</th>\n",
       "      <th>Results First Posted</th>\n",
       "      <th>Last Update Posted</th>\n",
       "      <th>Locations</th>\n",
       "      <th>Study Documents</th>\n",
       "      <th>URL</th>\n",
       "    </tr>\n",
       "  </thead>\n",
       "  <tbody>\n",
       "    <tr>\n",
       "      <th>0</th>\n",
       "      <td>1</td>\n",
       "      <td>NCT04785898</td>\n",
       "      <td>Diagnostic Performance of the ID Now™ COVID-19...</td>\n",
       "      <td>COVID-IDNow</td>\n",
       "      <td>Active, not recruiting</td>\n",
       "      <td>No Results Available</td>\n",
       "      <td>Covid19</td>\n",
       "      <td>Diagnostic Test: ID Now™ COVID-19 Screening Test</td>\n",
       "      <td>Evaluate the diagnostic performance of the ID ...</td>\n",
       "      <td>Groupe Hospitalier Paris Saint Joseph</td>\n",
       "      <td>...</td>\n",
       "      <td>COVID-IDNow</td>\n",
       "      <td>November 9, 2020</td>\n",
       "      <td>December 22, 2020</td>\n",
       "      <td>April 30, 2021</td>\n",
       "      <td>March 8, 2021</td>\n",
       "      <td>NaN</td>\n",
       "      <td>March 8, 2021</td>\n",
       "      <td>Groupe Hospitalier Paris Saint-Joseph, Paris, ...</td>\n",
       "      <td>NaN</td>\n",
       "      <td>https://ClinicalTrials.gov/show/NCT04785898</td>\n",
       "    </tr>\n",
       "    <tr>\n",
       "      <th>1</th>\n",
       "      <td>2</td>\n",
       "      <td>NCT04595136</td>\n",
       "      <td>Study to Evaluate the Efficacy of COVID19-0001...</td>\n",
       "      <td>COVID-19</td>\n",
       "      <td>Not yet recruiting</td>\n",
       "      <td>No Results Available</td>\n",
       "      <td>SARS-CoV-2 Infection</td>\n",
       "      <td>Drug: Drug COVID19-0001-USR|Drug: normal saline</td>\n",
       "      <td>Change on viral load results from baseline aft...</td>\n",
       "      <td>United Medical Specialties</td>\n",
       "      <td>...</td>\n",
       "      <td>COVID19-0001-USR</td>\n",
       "      <td>November 2, 2020</td>\n",
       "      <td>December 15, 2020</td>\n",
       "      <td>January 29, 2021</td>\n",
       "      <td>October 20, 2020</td>\n",
       "      <td>NaN</td>\n",
       "      <td>October 20, 2020</td>\n",
       "      <td>Cimedical, Barranquilla, Atlantico, Colombia</td>\n",
       "      <td>NaN</td>\n",
       "      <td>https://ClinicalTrials.gov/show/NCT04595136</td>\n",
       "    </tr>\n",
       "    <tr>\n",
       "      <th>2</th>\n",
       "      <td>3</td>\n",
       "      <td>NCT04395482</td>\n",
       "      <td>Lung CT Scan Analysis of SARS-CoV2 Induced Lun...</td>\n",
       "      <td>TAC-COVID19</td>\n",
       "      <td>Recruiting</td>\n",
       "      <td>No Results Available</td>\n",
       "      <td>covid19</td>\n",
       "      <td>Other: Lung CT scan analysis in COVID-19 patients</td>\n",
       "      <td>A qualitative analysis of parenchymal lung dam...</td>\n",
       "      <td>University of Milano Bicocca</td>\n",
       "      <td>...</td>\n",
       "      <td>TAC-COVID19</td>\n",
       "      <td>May 7, 2020</td>\n",
       "      <td>June 15, 2021</td>\n",
       "      <td>June 15, 2021</td>\n",
       "      <td>May 20, 2020</td>\n",
       "      <td>NaN</td>\n",
       "      <td>November 9, 2020</td>\n",
       "      <td>Ospedale Papa Giovanni XXIII, Bergamo, Italy|P...</td>\n",
       "      <td>NaN</td>\n",
       "      <td>https://ClinicalTrials.gov/show/NCT04395482</td>\n",
       "    </tr>\n",
       "    <tr>\n",
       "      <th>3</th>\n",
       "      <td>4</td>\n",
       "      <td>NCT04416061</td>\n",
       "      <td>The Role of a Private Hospital in Hong Kong Am...</td>\n",
       "      <td>COVID-19</td>\n",
       "      <td>Active, not recruiting</td>\n",
       "      <td>No Results Available</td>\n",
       "      <td>COVID</td>\n",
       "      <td>Diagnostic Test: COVID 19 Diagnostic Test</td>\n",
       "      <td>Proportion of asymptomatic subjects|Proportion...</td>\n",
       "      <td>Hong Kong Sanatorium &amp; Hospital</td>\n",
       "      <td>...</td>\n",
       "      <td>RC-2020-08</td>\n",
       "      <td>May 25, 2020</td>\n",
       "      <td>July 31, 2020</td>\n",
       "      <td>August 31, 2020</td>\n",
       "      <td>June 4, 2020</td>\n",
       "      <td>NaN</td>\n",
       "      <td>June 4, 2020</td>\n",
       "      <td>Hong Kong Sanatorium &amp; Hospital, Hong Kong, Ho...</td>\n",
       "      <td>NaN</td>\n",
       "      <td>https://ClinicalTrials.gov/show/NCT04416061</td>\n",
       "    </tr>\n",
       "    <tr>\n",
       "      <th>4</th>\n",
       "      <td>5</td>\n",
       "      <td>NCT04395924</td>\n",
       "      <td>Maternal-foetal Transmission of SARS-Cov-2</td>\n",
       "      <td>TMF-COVID-19</td>\n",
       "      <td>Recruiting</td>\n",
       "      <td>No Results Available</td>\n",
       "      <td>Maternal Fetal Infection Transmission|COVID-19...</td>\n",
       "      <td>Diagnostic Test: Diagnosis of SARS-Cov2 by RT-...</td>\n",
       "      <td>COVID-19 by positive PCR in cord blood and / o...</td>\n",
       "      <td>Centre Hospitalier Régional d'Orléans|Centre d...</td>\n",
       "      <td>...</td>\n",
       "      <td>CHRO-2020-10</td>\n",
       "      <td>May 5, 2020</td>\n",
       "      <td>May 2021</td>\n",
       "      <td>May 2021</td>\n",
       "      <td>May 20, 2020</td>\n",
       "      <td>NaN</td>\n",
       "      <td>June 4, 2020</td>\n",
       "      <td>CHR Orléans, Orléans, France</td>\n",
       "      <td>NaN</td>\n",
       "      <td>https://ClinicalTrials.gov/show/NCT04395924</td>\n",
       "    </tr>\n",
       "  </tbody>\n",
       "</table>\n",
       "<p>5 rows × 27 columns</p>\n",
       "</div>"
      ],
      "text/plain": [
       "   Rank   NCT Number                                              Title  \\\n",
       "0     1  NCT04785898  Diagnostic Performance of the ID Now™ COVID-19...   \n",
       "1     2  NCT04595136  Study to Evaluate the Efficacy of COVID19-0001...   \n",
       "2     3  NCT04395482  Lung CT Scan Analysis of SARS-CoV2 Induced Lun...   \n",
       "3     4  NCT04416061  The Role of a Private Hospital in Hong Kong Am...   \n",
       "4     5  NCT04395924         Maternal-foetal Transmission of SARS-Cov-2   \n",
       "\n",
       "        Acronym                  Status         Study Results  \\\n",
       "0   COVID-IDNow  Active, not recruiting  No Results Available   \n",
       "1      COVID-19      Not yet recruiting  No Results Available   \n",
       "2   TAC-COVID19              Recruiting  No Results Available   \n",
       "3      COVID-19  Active, not recruiting  No Results Available   \n",
       "4  TMF-COVID-19              Recruiting  No Results Available   \n",
       "\n",
       "                                          Conditions  \\\n",
       "0                                            Covid19   \n",
       "1                               SARS-CoV-2 Infection   \n",
       "2                                            covid19   \n",
       "3                                              COVID   \n",
       "4  Maternal Fetal Infection Transmission|COVID-19...   \n",
       "\n",
       "                                       Interventions  \\\n",
       "0   Diagnostic Test: ID Now™ COVID-19 Screening Test   \n",
       "1    Drug: Drug COVID19-0001-USR|Drug: normal saline   \n",
       "2  Other: Lung CT scan analysis in COVID-19 patients   \n",
       "3          Diagnostic Test: COVID 19 Diagnostic Test   \n",
       "4  Diagnostic Test: Diagnosis of SARS-Cov2 by RT-...   \n",
       "\n",
       "                                    Outcome Measures  \\\n",
       "0  Evaluate the diagnostic performance of the ID ...   \n",
       "1  Change on viral load results from baseline aft...   \n",
       "2  A qualitative analysis of parenchymal lung dam...   \n",
       "3  Proportion of asymptomatic subjects|Proportion...   \n",
       "4  COVID-19 by positive PCR in cord blood and / o...   \n",
       "\n",
       "                               Sponsor/Collaborators  ...         Other IDs  \\\n",
       "0              Groupe Hospitalier Paris Saint Joseph  ...       COVID-IDNow   \n",
       "1                         United Medical Specialties  ...  COVID19-0001-USR   \n",
       "2                       University of Milano Bicocca  ...       TAC-COVID19   \n",
       "3                    Hong Kong Sanatorium & Hospital  ...        RC-2020-08   \n",
       "4  Centre Hospitalier Régional d'Orléans|Centre d...  ...      CHRO-2020-10   \n",
       "\n",
       "         Start Date Primary Completion Date   Completion Date  \\\n",
       "0  November 9, 2020       December 22, 2020    April 30, 2021   \n",
       "1  November 2, 2020       December 15, 2020  January 29, 2021   \n",
       "2       May 7, 2020           June 15, 2021     June 15, 2021   \n",
       "3      May 25, 2020           July 31, 2020   August 31, 2020   \n",
       "4       May 5, 2020                May 2021          May 2021   \n",
       "\n",
       "       First Posted Results First Posted Last Update Posted  \\\n",
       "0     March 8, 2021                  NaN      March 8, 2021   \n",
       "1  October 20, 2020                  NaN   October 20, 2020   \n",
       "2      May 20, 2020                  NaN   November 9, 2020   \n",
       "3      June 4, 2020                  NaN       June 4, 2020   \n",
       "4      May 20, 2020                  NaN       June 4, 2020   \n",
       "\n",
       "                                           Locations Study Documents  \\\n",
       "0  Groupe Hospitalier Paris Saint-Joseph, Paris, ...             NaN   \n",
       "1       Cimedical, Barranquilla, Atlantico, Colombia             NaN   \n",
       "2  Ospedale Papa Giovanni XXIII, Bergamo, Italy|P...             NaN   \n",
       "3  Hong Kong Sanatorium & Hospital, Hong Kong, Ho...             NaN   \n",
       "4                       CHR Orléans, Orléans, France             NaN   \n",
       "\n",
       "                                           URL  \n",
       "0  https://ClinicalTrials.gov/show/NCT04785898  \n",
       "1  https://ClinicalTrials.gov/show/NCT04595136  \n",
       "2  https://ClinicalTrials.gov/show/NCT04395482  \n",
       "3  https://ClinicalTrials.gov/show/NCT04416061  \n",
       "4  https://ClinicalTrials.gov/show/NCT04395924  \n",
       "\n",
       "[5 rows x 27 columns]"
      ]
     },
     "execution_count": 2,
     "metadata": {},
     "output_type": "execute_result"
    }
   ],
   "source": [
    "# STEP 2: Load the Dataset\n",
    "df = pd.read_csv('COVID clinical trials.csv')\n",
    "print(\"Initial Shape:\", df.shape)\n",
    "df.head()"
   ]
  },
  {
   "cell_type": "code",
   "execution_count": 9,
   "id": "323b2b9e-ce20-4832-b313-b32150c51f38",
   "metadata": {},
   "outputs": [
    {
     "name": "stdout",
     "output_type": "stream",
     "text": [
      "['Rank', 'NCT Number', 'Title', 'Acronym', 'Status', 'Study Results', 'Conditions', 'Interventions', 'Outcome Measures', 'Sponsor/Collaborators', 'Gender', 'Age', 'Phases', 'Enrollment', 'Funded Bys', 'Study Type', 'Study Designs', 'Other IDs', 'Start Date', 'Primary Completion Date', 'Completion Date', 'First Posted', 'Results First Posted', 'Last Update Posted', 'Locations', 'Study Documents', 'URL']\n"
     ]
    }
   ],
   "source": [
    "print(df.columns.tolist())\n",
    "# Safe feature selection\n",
    "features = [col for col in [\"Phases\",\"Enrollment\",\"Gender\",\"Age\",\"Study Type\",\"Country\"] if col in df.columns]\n",
    "\n",
    "data = df[features].copy()\n"
   ]
  },
  {
   "cell_type": "code",
   "execution_count": 10,
   "id": "ba50dc48-854e-4735-82ab-d5b11a85eaff",
   "metadata": {},
   "outputs": [],
   "source": [
    "# Handle missing + encode\n",
    "for col in data.columns:\n",
    "    data[col] = data[col].astype(str)\n",
    "\n",
    "le_dict = {}\n",
    "for col in data.select_dtypes(include='object').columns:\n",
    "    le = LabelEncoder()\n",
    "    data[col] = le.fit_transform(data[col])\n",
    "    le_dict[col] = le"
   ]
  },
  {
   "cell_type": "code",
   "execution_count": 11,
   "id": "d250ca11-b873-46b0-9311-421eccf32c35",
   "metadata": {},
   "outputs": [],
   "source": [
    "# Scale Enrollment\n",
    "scaler = StandardScaler()\n",
    "if \"Enrollment\" in data.columns:\n",
    "    data[\"Enrollment\"] = scaler.fit_transform(data[[\"Enrollment\"]])"
   ]
  },
  {
   "cell_type": "code",
   "execution_count": 13,
   "id": "18c2436c-f6b9-459f-a42a-f7cc35e43ae1",
   "metadata": {},
   "outputs": [
    {
     "name": "stdout",
     "output_type": "stream",
     "text": [
      "['Rank', 'NCT Number', 'Title', 'Acronym', 'Status', 'Study Results', 'Conditions', 'Interventions', 'Outcome Measures', 'Sponsor/Collaborators', 'Gender', 'Age', 'Phases', 'Enrollment', 'Funded Bys', 'Study Type', 'Study Designs', 'Other IDs', 'Start Date', 'Primary Completion Date', 'Completion Date', 'First Posted', 'Results First Posted', 'Last Update Posted', 'Locations', 'Study Documents', 'URL']\n"
     ]
    }
   ],
   "source": [
    "print(df.columns.tolist())\n",
    "# If column is named \"Status\"\n",
    "df[\"Target\"] = df[\"Status\"].apply(\n",
    "    lambda x: \"Completed\" if \"Completed\" in str(x) else \"Not_Completed\"\n",
    ")\n",
    "\n",
    "# If column is named differently (example: \"Recruitment Status\")\n",
    "# df[\"Target\"] = df[\"Recruitment Status\"].apply(\n",
    "#     lambda x: \"Completed\" if \"Completed\" in str(x) else \"Not_Completed\"\n",
    "# )\n",
    "X = data\n",
    "y = df[\"Target\"]\n",
    "\n",
    "X_train, X_test, y_train, y_test = train_test_split(\n",
    "    X, y, test_size=0.2, stratify=y, random_state=42\n",
    ")\n"
   ]
  },
  {
   "cell_type": "code",
   "execution_count": 14,
   "id": "e75d7cc6-f293-4205-bd89-b45d1eb7577e",
   "metadata": {},
   "outputs": [],
   "source": [
    "# Train Model\n",
    "model = RandomForestClassifier(n_estimators=250, random_state=42, class_weight=\"balanced\")\n",
    "model.fit(X_train, y_train)\n",
    "y_pred = model.predict(X_test)"
   ]
  },
  {
   "cell_type": "code",
   "execution_count": 15,
   "id": "7aeea39c-b4a6-45cf-a261-9c01860ae015",
   "metadata": {},
   "outputs": [
    {
     "data": {
      "image/png": "[encoded data removed]",
      "text/plain": [
       "<Figure size 640x480 with 2 Axes>"
      ]
     },
     "metadata": {},
     "output_type": "display_data"
    }
   ],
   "source": [
    "# 1. Confusion Matrix Heatmap\n",
    "cm = confusion_matrix(y_test, y_pred, labels=[\"Completed\",\"Not_Completed\"])\n",
    "sns.heatmap(cm, annot=True, fmt=\"d\", cmap=\"Blues\", xticklabels=[\"Completed\",\"Not_Completed\"], yticklabels=[\"Completed\",\"Not_Completed\"])\n",
    "plt.title(\"Confusion Matrix\", fontsize=14)\n",
    "plt.ylabel(\"True Label\")\n",
    "plt.xlabel(\"Predicted Label\")\n",
    "plt.show()\n"
   ]
  },
  {
   "cell_type": "code",
   "execution_count": 19,
   "id": "17f3b084-8c88-422e-9b62-48092710a42d",
   "metadata": {},
   "outputs": [
    {
     "data": {
      "application/vnd.plotly.v1+json": {
       "config": {
        "plotlyServerURL": "https://plot.ly"
       },
       "data": [
        {
         "hovertemplate": "index=%{y}<br>x=%{x}<extra></extra>",
         "legendgroup": "Gender",
         "marker": {
          "color": "rgb(102,194,165)",
          "pattern": {
           "shape": ""
          }
         },
         "name": "Gender",
         "orientation": "h",
         "showlegend": true,
         "textposition": "auto",
         "type": "bar",
         "x": {
          "bdata": "h/u6lIGIkD8=",
          "dtype": "f8"
         },
         "xaxis": "x",
         "y": [
          "Gender"
         ],
         "yaxis": "y"
        },
        {
         "hovertemplate": "index=%{y}<br>x=%{x}<extra></extra>",
         "legendgroup": "Study Type",
         "marker": {
          "color": "rgb(252,141,98)",
          "pattern": {
           "shape": ""
          }
         },
         "name": "Study Type",
         "orientation": "h",
         "showlegend": true,
         "textposition": "auto",
         "type": "bar",
         "x": {
          "bdata": "NuBX05Ofkz8=",
          "dtype": "f8"
         },
         "xaxis": "x",
         "y": [
          "Study Type"
         ],
         "yaxis": "y"
        },
        {
         "hovertemplate": "index=%{y}<br>x=%{x}<extra></extra>",
         "legendgroup": "Phases",
         "marker": {
          "color": "rgb(141,160,203)",
          "pattern": {
           "shape": ""
          }
         },
         "name": "Phases",
         "orientation": "h",
         "showlegend": true,
         "textposition": "auto",
         "type": "bar",
         "x": {
          "bdata": "2Upfm7marz8=",
          "dtype": "f8"
         },
         "xaxis": "x",
         "y": [
          "Phases"
         ],
         "yaxis": "y"
        },
        {
         "hovertemplate": "index=%{y}<br>x=%{x}<extra></extra>",
         "legendgroup": "Age",
         "marker": {
          "color": "rgb(231,138,195)",
          "pattern": {
           "shape": ""
          }
         },
         "name": "Age",
         "orientation": "h",
         "showlegend": true,
         "textposition": "auto",
         "type": "bar",
         "x": {
          "bdata": "ZpeSkz6Yzj8=",
          "dtype": "f8"
         },
         "xaxis": "x",
         "y": [
          "Age"
         ],
         "yaxis": "y"
        },
        {
         "hovertemplate": "index=%{y}<br>x=%{x}<extra></extra>",
         "legendgroup": "Enrollment",
         "marker": {
          "color": "rgb(166,216,84)",
          "pattern": {
           "shape": ""
          }
         },
         "name": "Enrollment",
         "orientation": "h",
         "showlegend": true,
         "textposition": "auto",
         "type": "bar",
         "x": {
          "bdata": "ms4kFgQ/5T8=",
          "dtype": "f8"
         },
         "xaxis": "x",
         "y": [
          "Enrollment"
         ],
         "yaxis": "y"
        }
       ],
       "layout": {
        "barmode": "relative",
        "legend": {
         "title": {
          "text": "index"
         },
         "tracegroupgap": 0
        },
        "showlegend": false,
        "template": {
         "data": {
          "bar": [
           {
            "error_x": {
             "color": "#2a3f5f"
            },
            "error_y": {
             "color": "#2a3f5f"
            },
            "marker": {
             "line": {
              "color": "#E5ECF6",
              "width": 0.5
             },
             "pattern": {
              "fillmode": "overlay",
              "size": 10,
              "solidity": 0.2
             }
            },
            "type": "bar"
           }
          ],
          "barpolar": [
           {
            "marker": {
             "line": {
              "color": "#E5ECF6",
              "width": 0.5
             },
             "pattern": {
              "fillmode": "overlay",
              "size": 10,
              "solidity": 0.2
             }
            },
            "type": "barpolar"
           }
          ],
          "carpet": [
           {
            "aaxis": {
             "endlinecolor": "#2a3f5f",
             "gridcolor": "white",
             "linecolor": "white",
             "minorgridcolor": "white",
             "startlinecolor": "#2a3f5f"
            },
            "baxis": {
             "endlinecolor": "#2a3f5f",
             "gridcolor": "white",
             "linecolor": "white",
             "minorgridcolor": "white",
             "startlinecolor": "#2a3f5f"
            },
            "type": "carpet"
           }
          ],
          "choropleth": [
           {
            "colorbar": {
             "outlinewidth": 0,
             "ticks": ""
            },
            "type": "choropleth"
           }
          ],
          "contour": [
           {
            "colorbar": {
             "outlinewidth": 0,
             "ticks": ""
            },
            "colorscale": [
             [
              0,
              "#0d0887"
             ],
             [
              0.1111111111111111,
              "#46039f"
             ],
             [
              0.2222222222222222,
              "#7201a8"
             ],
             [
              0.3333333333333333,
              "#9c179e"
             ],
             [
              0.4444444444444444,
              "#bd3786"
             ],
             [
              0.5555555555555556,
              "#d8576b"
             ],
             [
              0.6666666666666666,
              "#ed7953"
             ],
             [
              0.7777777777777778,
              "#fb9f3a"
             ],
             [
              0.8888888888888888,
              "#fdca26"
             ],
             [
              1,
              "#f0f921"
             ]
            ],
            "type": "contour"
           }
          ],
          "contourcarpet": [
           {
            "colorbar": {
             "outlinewidth": 0,
             "ticks": ""
            },
            "type": "contourcarpet"
           }
          ],
          "heatmap": [
           {
            "colorbar": {
             "outlinewidth": 0,
             "ticks": ""
            },
            "colorscale": [
             [
              0,
              "#0d0887"
             ],
             [
              0.1111111111111111,
              "#46039f"
             ],
             [
              0.2222222222222222,
              "#7201a8"
             ],
             [
              0.3333333333333333,
              "#9c179e"
             ],
             [
              0.4444444444444444,
              "#bd3786"
             ],
             [
              0.5555555555555556,
              "#d8576b"
             ],
             [
              0.6666666666666666,
              "#ed7953"
             ],
             [
              0.7777777777777778,
              "#fb9f3a"
             ],
             [
              0.8888888888888888,
              "#fdca26"
             ],
             [
              1,
              "#f0f921"
             ]
            ],
            "type": "heatmap"
           }
          ],
          "histogram": [
           {
            "marker": {
             "pattern": {
              "fillmode": "overlay",
              "size": 10,
              "solidity": 0.2
             }
            },
            "type": "histogram"
           }
          ],
          "histogram2d": [
           {
            "colorbar": {
             "outlinewidth": 0,
             "ticks": ""
            },
            "colorscale": [
             [
              0,
              "#0d0887"
             ],
             [
              0.1111111111111111,
              "#46039f"
             ],
             [
              0.2222222222222222,
              "#7201a8"
             ],
             [
              0.3333333333333333,
              "#9c179e"
             ],
             [
              0.4444444444444444,
              "#bd3786"
             ],
             [
              0.5555555555555556,
              "#d8576b"
             ],
             [
              0.6666666666666666,
              "#ed7953"
             ],
             [
              0.7777777777777778,
              "#fb9f3a"
             ],
             [
              0.8888888888888888,
              "#fdca26"
             ],
             [
              1,
              "#f0f921"
             ]
            ],
            "type": "histogram2d"
           }
          ],
          "histogram2dcontour": [
           {
            "colorbar": {
             "outlinewidth": 0,
             "ticks": ""
            },
            "colorscale": [
             [
              0,
              "#0d0887"
             ],
             [
              0.1111111111111111,
              "#46039f"
             ],
             [
              0.2222222222222222,
              "#7201a8"
             ],
             [
              0.3333333333333333,
              "#9c179e"
             ],
             [
              0.4444444444444444,
              "#bd3786"
             ],
             [
              0.5555555555555556,
              "#d8576b"
             ],
             [
              0.6666666666666666,
              "#ed7953"
             ],
             [
              0.7777777777777778,
              "#fb9f3a"
             ],
             [
              0.8888888888888888,
              "#fdca26"
             ],
             [
              1,
              "#f0f921"
             ]
            ],
            "type": "histogram2dcontour"
           }
          ],
          "mesh3d": [
           {
            "colorbar": {
             "outlinewidth": 0,
             "ticks": ""
            },
            "type": "mesh3d"
           }
          ],
          "parcoords": [
           {
            "line": {
             "colorbar": {
              "outlinewidth": 0,
              "ticks": ""
             }
            },
            "type": "parcoords"
           }
          ],
          "pie": [
           {
            "automargin": true,
            "type": "pie"
           }
          ],
          "scatter": [
           {
            "fillpattern": {
             "fillmode": "overlay",
             "size": 10,
             "solidity": 0.2
            },
            "type": "scatter"
           }
          ],
          "scatter3d": [
           {
            "line": {
             "colorbar": {
              "outlinewidth": 0,
              "ticks": ""
             }
            },
            "marker": {
             "colorbar": {
              "outlinewidth": 0,
              "ticks": ""
             }
            },
            "type": "scatter3d"
           }
          ],
          "scattercarpet": [
           {
            "marker": {
             "colorbar": {
              "outlinewidth": 0,
              "ticks": ""
             }
            },
            "type": "scattercarpet"
           }
          ],
          "scattergeo": [
           {
            "marker": {
             "colorbar": {
              "outlinewidth": 0,
              "ticks": ""
             }
            },
            "type": "scattergeo"
           }
          ],
          "scattergl": [
           {
            "marker": {
             "colorbar": {
              "outlinewidth": 0,
              "ticks": ""
             }
            },
            "type": "scattergl"
           }
          ],
          "scattermap": [
           {
            "marker": {
             "colorbar": {
              "outlinewidth": 0,
              "ticks": ""
             }
            },
            "type": "scattermap"
           }
          ],
          "scattermapbox": [
           {
            "marker": {
             "colorbar": {
              "outlinewidth": 0,
              "ticks": ""
             }
            },
            "type": "scattermapbox"
           }
          ],
          "scatterpolar": [
           {
            "marker": {
             "colorbar": {
              "outlinewidth": 0,
              "ticks": ""
             }
            },
            "type": "scatterpolar"
           }
          ],
          "scatterpolargl": [
           {
            "marker": {
             "colorbar": {
              "outlinewidth": 0,
              "ticks": ""
             }
            },
            "type": "scatterpolargl"
           }
          ],
          "scatterternary": [
           {
            "marker": {
             "colorbar": {
              "outlinewidth": 0,
              "ticks": ""
             }
            },
            "type": "scatterternary"
           }
          ],
          "surface": [
           {
            "colorbar": {
             "outlinewidth": 0,
             "ticks": ""
            },
            "colorscale": [
             [
              0,
              "#0d0887"
             ],
             [
              0.1111111111111111,
              "#46039f"
             ],
             [
              0.2222222222222222,
              "#7201a8"
             ],
             [
              0.3333333333333333,
              "#9c179e"
             ],
             [
              0.4444444444444444,
              "#bd3786"
             ],
             [
              0.5555555555555556,
              "#d8576b"
             ],
             [
              0.6666666666666666,
              "#ed7953"
             ],
             [
              0.7777777777777778,
              "#fb9f3a"
             ],
             [
              0.8888888888888888,
              "#fdca26"
             ],
             [
              1,
              "#f0f921"
             ]
            ],
            "type": "surface"
           }
          ],
          "table": [
           {
            "cells": {
             "fill": {
              "color": "#EBF0F8"
             },
             "line": {
              "color": "white"
             }
            },
            "header": {
             "fill": {
              "color": "#C8D4E3"
             },
             "line": {
              "color": "white"
             }
            },
            "type": "table"
           }
          ]
         },
         "layout": {
          "annotationdefaults": {
           "arrowcolor": "#2a3f5f",
           "arrowhead": 0,
           "arrowwidth": 1
          },
          "autotypenumbers": "strict",
          "coloraxis": {
           "colorbar": {
            "outlinewidth": 0,
            "ticks": ""
           }
          },
          "colorscale": {
           "diverging": [
            [
             0,
             "#8e0152"
            ],
            [
             0.1,
             "#c51b7d"
            ],
            [
             0.2,
             "#de77ae"
            ],
            [
             0.3,
             "#f1b6da"
            ],
            [
             0.4,
             "#fde0ef"
            ],
            [
             0.5,
             "#f7f7f7"
            ],
            [
             0.6,
             "#e6f5d0"
            ],
            [
             0.7,
             "#b8e186"
            ],
            [
             0.8,
             "#7fbc41"
            ],
            [
             0.9,
             "#4d9221"
            ],
            [
             1,
             "#276419"
            ]
           ],
           "sequential": [
            [
             0,
             "#0d0887"
            ],
            [
             0.1111111111111111,
             "#46039f"
            ],
            [
             0.2222222222222222,
             "#7201a8"
            ],
            [
             0.3333333333333333,
             "#9c179e"
            ],
            [
             0.4444444444444444,
             "#bd3786"
            ],
            [
             0.5555555555555556,
             "#d8576b"
            ],
            [
             0.6666666666666666,
             "#ed7953"
            ],
            [
             0.7777777777777778,
             "#fb9f3a"
            ],
            [
             0.8888888888888888,
             "#fdca26"
            ],
            [
             1,
             "#f0f921"
            ]
           ],
           "sequentialminus": [
            [
             0,
             "#0d0887"
            ],
            [
             0.1111111111111111,
             "#46039f"
            ],
            [
             0.2222222222222222,
             "#7201a8"
            ],
            [
             0.3333333333333333,
             "#9c179e"
            ],
            [
             0.4444444444444444,
             "#bd3786"
            ],
            [
             0.5555555555555556,
             "#d8576b"
            ],
            [
             0.6666666666666666,
             "#ed7953"
            ],
            [
             0.7777777777777778,
             "#fb9f3a"
            ],
            [
             0.8888888888888888,
             "#fdca26"
            ],
            [
             1,
             "#f0f921"
            ]
           ]
          },
          "colorway": [
           "#636efa",
           "#EF553B",
           "#00cc96",
           "#ab63fa",
           "#FFA15A",
           "#19d3f3",
           "#FF6692",
           "#B6E880",
           "#FF97FF",
           "#FECB52"
          ],
          "font": {
           "color": "#2a3f5f"
          },
          "geo": {
           "bgcolor": "white",
           "lakecolor": "white",
           "landcolor": "#E5ECF6",
           "showlakes": true,
           "showland": true,
           "subunitcolor": "white"
          },
          "hoverlabel": {
           "align": "left"
          },
          "hovermode": "closest",
          "mapbox": {
           "style": "light"
          },
          "paper_bgcolor": "white",
          "plot_bgcolor": "#E5ECF6",
          "polar": {
           "angularaxis": {
            "gridcolor": "white",
            "linecolor": "white",
            "ticks": ""
           },
           "bgcolor": "#E5ECF6",
           "radialaxis": {
            "gridcolor": "white",
            "linecolor": "white",
            "ticks": ""
           }
          },
          "scene": {
           "xaxis": {
            "backgroundcolor": "#E5ECF6",
            "gridcolor": "white",
            "gridwidth": 2,
            "linecolor": "white",
            "showbackground": true,
            "ticks": "",
            "zerolinecolor": "white"
           },
           "yaxis": {
            "backgroundcolor": "#E5ECF6",
            "gridcolor": "white",
            "gridwidth": 2,
            "linecolor": "white",
            "showbackground": true,
            "ticks": "",
            "zerolinecolor": "white"
           },
           "zaxis": {
            "backgroundcolor": "#E5ECF6",
            "gridcolor": "white",
            "gridwidth": 2,
            "linecolor": "white",
            "showbackground": true,
            "ticks": "",
            "zerolinecolor": "white"
           }
          },
          "shapedefaults": {
           "line": {
            "color": "#2a3f5f"
           }
          },
          "ternary": {
           "aaxis": {
            "gridcolor": "white",
            "linecolor": "white",
            "ticks": ""
           },
           "baxis": {
            "gridcolor": "white",
            "linecolor": "white",
            "ticks": ""
           },
           "bgcolor": "#E5ECF6",
           "caxis": {
            "gridcolor": "white",
            "linecolor": "white",
            "ticks": ""
           }
          },
          "title": {
           "x": 0.05
          },
          "xaxis": {
           "automargin": true,
           "gridcolor": "white",
           "linecolor": "white",
           "ticks": "",
           "title": {
            "standoff": 15
           },
           "zerolinecolor": "white",
           "zerolinewidth": 2
          },
          "yaxis": {
           "automargin": true,
           "gridcolor": "white",
           "linecolor": "white",
           "ticks": "",
           "title": {
            "standoff": 15
           },
           "zerolinecolor": "white",
           "zerolinewidth": 2
          }
         }
        },
        "title": {
         "text": "Feature Importance in Trial Completion Prediction"
        },
        "xaxis": {
         "anchor": "y",
         "domain": [
          0,
          1
         ],
         "title": {
          "text": "x"
         }
        },
        "yaxis": {
         "anchor": "x",
         "categoryarray": [
          "Enrollment",
          "Age",
          "Phases",
          "Study Type",
          "Gender"
         ],
         "categoryorder": "array",
         "domain": [
          0,
          1
         ],
         "title": {
          "text": "index"
         }
        }
       }
      },
      "image/png": "[encoded data removed]"
     },
     "metadata": {},
     "output_type": "display_data"
    }
   ],
   "source": [
    "importances = pd.Series(model.feature_importances_, index=X.columns).sort_values(ascending=True)\n",
    "\n",
    "fig = px.bar(\n",
    "    importances,\n",
    "    x=importances.values,\n",
    "    y=importances.index,\n",
    "    orientation=\"h\",\n",
    "    title=\"Feature Importance in Trial Completion Prediction\",\n",
    "    color=importances.index,   #  color by feature name (categorical)\n",
    "    color_discrete_sequence=px.colors.qualitative.Set2  # nice diverse palette\n",
    ")\n",
    "\n",
    "fig.update_layout(showlegend=False)  # legend not needed\n",
    "fig.show()\n"
   ]
  },
  {
   "cell_type": "code",
   "execution_count": 18,
   "id": "f802846d-829d-4048-b5b3-cc554269b278",
   "metadata": {},
   "outputs": [
    {
     "name": "stdout",
     "output_type": "stream",
     "text": [
      "Classification Report:\n",
      "\n",
      "               precision    recall  f1-score   support\n",
      "\n",
      "    Completed       0.33      0.28      0.30       205\n",
      "Not_Completed       0.85      0.88      0.86       952\n",
      "\n",
      "     accuracy                           0.77      1157\n",
      "    macro avg       0.59      0.58      0.58      1157\n",
      " weighted avg       0.76      0.77      0.76      1157\n",
      "\n"
     ]
    }
   ],
   "source": [
    "# 3. Classification Report\n",
    "print(\"Classification Report:\\n\")\n",
    "print(classification_report(y_test, y_pred))"
   ]
  },
  {
   "cell_type": "code",
   "execution_count": 23,
   "id": "551d9d43-a53a-40d4-b904-3706584e5649",
   "metadata": {},
   "outputs": [
    {
     "name": "stdout",
     "output_type": "stream",
     "text": [
      " Skipping Treemap (Country column or squarify not available).\n"
     ]
    }
   ],
   "source": [
    "# Treemap (Top Countries)\n",
    "# ------------------------------\n",
    "if \"Country\" in df.columns and squarify:\n",
    "    country_counts = df[\"Country\"].value_counts().head(15)\n",
    "    plt.figure(figsize=(10,6))\n",
    "    squarify.plot(sizes=country_counts.values, label=country_counts.index,\n",
    "                  alpha=0.8, color=sns.color_palette(\"Spectral\", 15))\n",
    "    plt.title(\"Top 15 Countries by Clinical Trials (Treemap)\", fontsize=14)\n",
    "    plt.axis('off')\n",
    "    plt.show()\n",
    "else:\n",
    "    print(\" Skipping Treemap (Country column or squarify not available).\")"
   ]
  },
  {
   "cell_type": "code",
   "execution_count": 26,
   "id": "d7cce03e-a9e4-4696-a364-7e7b574fb3e3",
   "metadata": {},
   "outputs": [
    {
     "data": {
      "application/vnd.plotly.v1+json": {
       "config": {
        "plotlyServerURL": "https://plot.ly"
       },
       "data": [
        {
         "branchvalues": "total",
         "customdata": [
          [
           "Early Phase 1"
          ],
          [
           "Early Phase 1"
          ],
          [
           "Early Phase 1"
          ],
          [
           "Early Phase 1"
          ],
          [
           "Early Phase 1"
          ],
          [
           "Early Phase 1"
          ],
          [
           "Early Phase 1"
          ],
          [
           "Early Phase 1"
          ],
          [
           "Early Phase 1"
          ],
          [
           "Early Phase 1"
          ],
          [
           "Early Phase 1"
          ],
          [
           "Early Phase 1"
          ],
          [
           "Early Phase 1"
          ],
          [
           "Early Phase 1"
          ],
          [
           "Early Phase 1"
          ],
          [
           "Early Phase 1"
          ],
          [
           "Not Applicable"
          ],
          [
           "Not Applicable"
          ],
          [
           "Not Applicable"
          ],
          [
           "Not Applicable"
          ],
          [
           "Not Applicable"
          ],
          [
           "Not Applicable"
          ],
          [
           "Not Applicable"
          ],
          [
           "Not Applicable"
          ],
          [
           "Not Applicable"
          ],
          [
           "Not Applicable"
          ],
          [
           "Not Applicable"
          ],
          [
           "Not Applicable"
          ],
          [
           "Not Applicable"
          ],
          [
           "Not Applicable"
          ],
          [
           "Not Applicable"
          ],
          [
           "Not Applicable"
          ],
          [
           "Not Applicable"
          ],
          [
           "Not Applicable"
          ],
          [
           "Not Applicable"
          ],
          [
           "Not Applicable"
          ],
          [
           "Not Applicable"
          ],
          [
           "Not Applicable"
          ],
          [
           "Not Applicable"
          ],
          [
           "Not Applicable"
          ],
          [
           "Not Applicable"
          ],
          [
           "Not Reported"
          ],
          [
           "Not Reported"
          ],
          [
           "Not Reported"
          ],
          [
           "Not Reported"
          ],
          [
           "Not Reported"
          ],
          [
           "Not Reported"
          ],
          [
           "Not Reported"
          ],
          [
           "Not Reported"
          ],
          [
           "Not Reported"
          ],
          [
           "Not Reported"
          ],
          [
           "Not Reported"
          ],
          [
           "Not Reported"
          ],
          [
           "Not Reported"
          ],
          [
           "Not Reported"
          ],
          [
           "Not Reported"
          ],
          [
           "Not Reported"
          ],
          [
           "Not Reported"
          ],
          [
           "Not Reported"
          ],
          [
           "Not Reported"
          ],
          [
           "Not Reported"
          ],
          [
           "Not Reported"
          ],
          [
           "Not Reported"
          ],
          [
           "Not Reported"
          ],
          [
           "Not Reported"
          ],
          [
           "Not Reported"
          ],
          [
           "Not Reported"
          ],
          [
           "Not Reported"
          ],
          [
           "Not Reported"
          ],
          [
           "Not Reported"
          ],
          [
           "Not Reported"
          ],
          [
           "Not Reported"
          ],
          [
           "Not Reported"
          ],
          [
           "Not Reported"
          ],
          [
           "Not Reported"
          ],
          [
           "Not Reported"
          ],
          [
           "Not Reported"
          ],
          [
           "Not Reported"
          ],
          [
           "Not Reported"
          ],
          [
           "Not Reported"
          ],
          [
           "Not Reported"
          ],
          [
           "Phase 1"
          ],
          [
           "Phase 1"
          ],
          [
           "Phase 1"
          ],
          [
           "Phase 1"
          ],
          [
           "Phase 1"
          ],
          [
           "Phase 1"
          ],
          [
           "Phase 1"
          ],
          [
           "Phase 1"
          ],
          [
           "Phase 1"
          ],
          [
           "Phase 1"
          ],
          [
           "Phase 1"
          ],
          [
           "Phase 1"
          ],
          [
           "Phase 1"
          ],
          [
           "Phase 1"
          ],
          [
           "Phase 1"
          ],
          [
           "Phase 1"
          ],
          [
           "Phase 1"
          ],
          [
           "Phase 1|Phase 2"
          ],
          [
           "Phase 1|Phase 2"
          ],
          [
           "Phase 1|Phase 2"
          ],
          [
           "Phase 1|Phase 2"
          ],
          [
           "Phase 1|Phase 2"
          ],
          [
           "Phase 1|Phase 2"
          ],
          [
           "Phase 1|Phase 2"
          ],
          [
           "Phase 1|Phase 2"
          ],
          [
           "Phase 1|Phase 2"
          ],
          [
           "Phase 1|Phase 2"
          ],
          [
           "Phase 1|Phase 2"
          ],
          [
           "Phase 1|Phase 2"
          ],
          [
           "Phase 1|Phase 2"
          ],
          [
           "Phase 1|Phase 2"
          ],
          [
           "Phase 1|Phase 2"
          ],
          [
           "Phase 1|Phase 2"
          ],
          [
           "Phase 1|Phase 2"
          ],
          [
           "Phase 1|Phase 2"
          ],
          [
           "Phase 1|Phase 2"
          ],
          [
           "Phase 2"
          ],
          [
           "Phase 2"
          ],
          [
           "Phase 2"
          ],
          [
           "Phase 2"
          ],
          [
           "Phase 2"
          ],
          [
           "Phase 2"
          ],
          [
           "Phase 2"
          ],
          [
           "Phase 2"
          ],
          [
           "Phase 2"
          ],
          [
           "Phase 2"
          ],
          [
           "Phase 2"
          ],
          [
           "Phase 2"
          ],
          [
           "Phase 2"
          ],
          [
           "Phase 2"
          ],
          [
           "Phase 2"
          ],
          [
           "Phase 2"
          ],
          [
           "Phase 2"
          ],
          [
           "Phase 2"
          ],
          [
           "Phase 2"
          ],
          [
           "Phase 2"
          ],
          [
           "Phase 2"
          ],
          [
           "Phase 2|Phase 3"
          ],
          [
           "Phase 2|Phase 3"
          ],
          [
           "Phase 2|Phase 3"
          ],
          [
           "Phase 2|Phase 3"
          ],
          [
           "Phase 2|Phase 3"
          ],
          [
           "Phase 2|Phase 3"
          ],
          [
           "Phase 2|Phase 3"
          ],
          [
           "Phase 2|Phase 3"
          ],
          [
           "Phase 2|Phase 3"
          ],
          [
           "Phase 2|Phase 3"
          ],
          [
           "Phase 2|Phase 3"
          ],
          [
           "Phase 2|Phase 3"
          ],
          [
           "Phase 2|Phase 3"
          ],
          [
           "Phase 2|Phase 3"
          ],
          [
           "Phase 2|Phase 3"
          ],
          [
           "Phase 2|Phase 3"
          ],
          [
           "Phase 2|Phase 3"
          ],
          [
           "Phase 2|Phase 3"
          ],
          [
           "Phase 3"
          ],
          [
           "Phase 3"
          ],
          [
           "Phase 3"
          ],
          [
           "Phase 3"
          ],
          [
           "Phase 3"
          ],
          [
           "Phase 3"
          ],
          [
           "Phase 3"
          ],
          [
           "Phase 3"
          ],
          [
           "Phase 3"
          ],
          [
           "Phase 3"
          ],
          [
           "Phase 3"
          ],
          [
           "Phase 3"
          ],
          [
           "Phase 3"
          ],
          [
           "Phase 3"
          ],
          [
           "Phase 3"
          ],
          [
           "Phase 3"
          ],
          [
           "Phase 3"
          ],
          [
           "Phase 3"
          ],
          [
           "Phase 3"
          ],
          [
           "Phase 3"
          ],
          [
           "Phase 3"
          ],
          [
           "Phase 4"
          ],
          [
           "Phase 4"
          ],
          [
           "Phase 4"
          ],
          [
           "Phase 4"
          ],
          [
           "Phase 4"
          ],
          [
           "Phase 4"
          ],
          [
           "Phase 4"
          ],
          [
           "Phase 4"
          ],
          [
           "Phase 4"
          ],
          [
           "Phase 4"
          ],
          [
           "Phase 4"
          ],
          [
           "Phase 4"
          ],
          [
           "Phase 4"
          ],
          [
           "Phase 4"
          ],
          [
           "Phase 4"
          ],
          [
           "Phase 4"
          ],
          [
           "Phase 4"
          ]
         ],
         "domain": {
          "x": [
           0,
           1
          ],
          "y": [
           0,
           1
          ]
         },
         "hovertemplate": "labels=%{label}<br>Enrollment=%{value}<br>parent=%{parent}<br>id=%{id}<br>Phases=%{customdata[0]}<extra></extra>",
         "ids": [
          "Early Phase 1/Recruiting",
          "Early Phase 1/Suspended",
          "Early Phase 1/Active, not recruiting",
          "Early Phase 1",
          "Early Phase 1/Withdrawn",
          "Early Phase 1/Not yet recruiting/All",
          "Early Phase 1/Completed/All",
          "Early Phase 1/Completed",
          "Early Phase 1/Not yet recruiting",
          "Early Phase 1/Recruiting/All",
          "Early Phase 1/Withdrawn/All",
          "Early Phase 1/Enrolling by invitation/All",
          "Early Phase 1/Enrolling by invitation",
          "Early Phase 1/Suspended/All",
          "Early Phase 1/Recruiting/Male",
          "Early Phase 1/Active, not recruiting/All",
          "Not Applicable/Completed/Female",
          "Not Applicable/Completed/Male",
          "Not Applicable/Active, not recruiting/Female",
          "Not Applicable/Recruiting/Male",
          "Not Applicable/Enrolling by invitation/Female",
          "Not Applicable/Completed",
          "Not Applicable/Active, not recruiting",
          "Not Applicable/Terminated/All",
          "Not Applicable/Recruiting",
          "Not Applicable/Terminated",
          "Not Applicable/Withdrawn/All",
          "Not Applicable/Withdrawn",
          "Not Applicable/Not yet recruiting",
          "Not Applicable/Suspended",
          "Not Applicable/Enrolling by invitation/All",
          "Not Applicable/Not yet recruiting/Male",
          "Not Applicable/Active, not recruiting/All",
          "Not Applicable/Recruiting/Female",
          "Not Applicable/Suspended/All",
          "Not Applicable/Not yet recruiting/Female",
          "Not Applicable/Recruiting/All",
          "Not Applicable/Completed/All",
          "Not Applicable/Not yet recruiting/All",
          "Not Applicable/Enrolling by invitation",
          "Not Applicable",
          "Not Reported/No longer available",
          "Not Reported/Suspended",
          "Not Reported/Approved for marketing/All",
          "Not Reported/Recruiting/Male",
          "Not Reported/Enrolling by invitation/Not Reported",
          "Not Reported/Not yet recruiting/Male",
          "Not Reported/Enrolling by invitation",
          "Not Reported/Not yet recruiting/All",
          "Not Reported/Completed/Male",
          "Not Reported/Withdrawn",
          "Not Reported/Approved for marketing",
          "Not Reported/Active, not recruiting/Male",
          "Not Reported/Completed/All",
          "Not Reported/Withdrawn/All",
          "Not Reported/Terminated",
          "Not Reported/Temporarily not available/All",
          "Not Reported/Available/Not Reported",
          "Not Reported/Available",
          "Not Reported/Withdrawn/Male",
          "Not Reported/Enrolling by invitation/All",
          "Not Reported/Not yet recruiting",
          "Not Reported/Completed/Not Reported",
          "Not Reported/Not yet recruiting/Female",
          "Not Reported/Active, not recruiting/Female",
          "Not Reported/Recruiting/All",
          "Not Reported/Active, not recruiting/All",
          "Not Reported/Active, not recruiting",
          "Not Reported/Recruiting",
          "Not Reported/Temporarily not available",
          "Not Reported/Enrolling by invitation/Male",
          "Not Reported/Enrolling by invitation/Female",
          "Not Reported/Completed",
          "Not Reported/No longer available/Not Reported",
          "Not Reported",
          "Not Reported/Completed/Female",
          "Not Reported/No longer available/All",
          "Not Reported/Suspended/All",
          "Not Reported/Available/All",
          "Not Reported/Terminated/All",
          "Not Reported/Recruiting/Female",
          "Phase 1",
          "Phase 1/Enrolling by invitation/All",
          "Phase 1/Active, not recruiting/Male",
          "Phase 1/Active, not recruiting",
          "Phase 1/Completed/Male",
          "Phase 1/Enrolling by invitation",
          "Phase 1/Withdrawn",
          "Phase 1/Terminated/All",
          "Phase 1/Recruiting/All",
          "Phase 1/Not yet recruiting/All",
          "Phase 1/Recruiting",
          "Phase 1/Withdrawn/All",
          "Phase 1/Active, not recruiting/All",
          "Phase 1/Completed/All",
          "Phase 1/Completed",
          "Phase 1/Terminated",
          "Phase 1/Not yet recruiting",
          "Phase 1|Phase 2/Terminated",
          "Phase 1|Phase 2/Recruiting/All",
          "Phase 1|Phase 2/Suspended",
          "Phase 1|Phase 2",
          "Phase 1|Phase 2/Active, not recruiting",
          "Phase 1|Phase 2/Not yet recruiting/All",
          "Phase 1|Phase 2/Not yet recruiting",
          "Phase 1|Phase 2/Enrolling by invitation/All",
          "Phase 1|Phase 2/Withdrawn",
          "Phase 1|Phase 2/Withdrawn/All",
          "Phase 1|Phase 2/Active, not recruiting/Male",
          "Phase 1|Phase 2/Terminated/All",
          "Phase 1|Phase 2/Not yet recruiting/Male",
          "Phase 1|Phase 2/Active, not recruiting/All",
          "Phase 1|Phase 2/Completed",
          "Phase 1|Phase 2/Completed/All",
          "Phase 1|Phase 2/Suspended/All",
          "Phase 1|Phase 2/Recruiting",
          "Phase 1|Phase 2/Enrolling by invitation",
          "Phase 2/Recruiting",
          "Phase 2/Enrolling by invitation",
          "Phase 2/Withdrawn",
          "Phase 2/Completed",
          "Phase 2/Terminated/All",
          "Phase 2",
          "Phase 2/Recruiting/All",
          "Phase 2/Completed/All",
          "Phase 2/Active, not recruiting/All",
          "Phase 2/Suspended",
          "Phase 2/Not yet recruiting/All",
          "Phase 2/Not yet recruiting/Female",
          "Phase 2/Enrolling by invitation/All",
          "Phase 2/Withdrawn/All",
          "Phase 2/Active, not recruiting",
          "Phase 2/Terminated",
          "Phase 2/Withdrawn/Female",
          "Phase 2/Recruiting/Male",
          "Phase 2/Suspended/All",
          "Phase 2/Not yet recruiting/Male",
          "Phase 2/Not yet recruiting",
          "Phase 2|Phase 3/Terminated",
          "Phase 2|Phase 3/Withdrawn",
          "Phase 2|Phase 3/Enrolling by invitation",
          "Phase 2|Phase 3/Active, not recruiting",
          "Phase 2|Phase 3",
          "Phase 2|Phase 3/Suspended",
          "Phase 2|Phase 3/Enrolling by invitation/All",
          "Phase 2|Phase 3/Recruiting/All",
          "Phase 2|Phase 3/Withdrawn/All",
          "Phase 2|Phase 3/Not yet recruiting/All",
          "Phase 2|Phase 3/Completed",
          "Phase 2|Phase 3/Completed/Male",
          "Phase 2|Phase 3/Completed/All",
          "Phase 2|Phase 3/Not yet recruiting",
          "Phase 2|Phase 3/Suspended/All",
          "Phase 2|Phase 3/Recruiting",
          "Phase 2|Phase 3/Active, not recruiting/All",
          "Phase 2|Phase 3/Terminated/All",
          "Phase 3/Withdrawn/Female",
          "Phase 3/Enrolling by invitation/All",
          "Phase 3/Suspended/All",
          "Phase 3/Withdrawn/All",
          "Phase 3/Completed/All",
          "Phase 3/Not yet recruiting/All",
          "Phase 3/Recruiting/All",
          "Phase 3/Active, not recruiting/All",
          "Phase 3/Terminated/All",
          "Phase 3/Recruiting/Female",
          "Phase 3",
          "Phase 3/Recruiting/Male",
          "Phase 3/Withdrawn",
          "Phase 3/Terminated",
          "Phase 3/Enrolling by invitation",
          "Phase 3/Completed",
          "Phase 3/Not yet recruiting",
          "Phase 3/Completed/Male",
          "Phase 3/Suspended",
          "Phase 3/Recruiting",
          "Phase 3/Active, not recruiting",
          "Phase 4/Completed",
          "Phase 4",
          "Phase 4/Active, not recruiting/All",
          "Phase 4/Suspended",
          "Phase 4/Not yet recruiting/All",
          "Phase 4/Enrolling by invitation/All",
          "Phase 4/Recruiting/All",
          "Phase 4/Suspended/All",
          "Phase 4/Terminated",
          "Phase 4/Terminated/All",
          "Phase 4/Withdrawn",
          "Phase 4/Withdrawn/All",
          "Phase 4/Enrolling by invitation",
          "Phase 4/Completed/All",
          "Phase 4/Not yet recruiting",
          "Phase 4/Active, not recruiting",
          "Phase 4/Recruiting"
         ],
         "labels": [
          "Recruiting",
          "Suspended",
          "Active, not recruiting",
          "Early Phase 1",
          "Withdrawn",
          "All",
          "All",
          "Completed",
          "Not yet recruiting",
          "All",
          "All",
          "All",
          "Enrolling by invitation",
          "All",
          "Male",
          "All",
          "Female",
          "Male",
          "Female",
          "Male",
          "Female",
          "Completed",
          "Active, not recruiting",
          "All",
          "Recruiting",
          "Terminated",
          "All",
          "Withdrawn",
          "Not yet recruiting",
          "Suspended",
          "All",
          "Male",
          "All",
          "Female",
          "All",
          "Female",
          "All",
          "All",
          "All",
          "Enrolling by invitation",
          "Not Applicable",
          "No longer available",
          "Suspended",
          "All",
          "Male",
          "Not Reported",
          "Male",
          "Enrolling by invitation",
          "All",
          "Male",
          "Withdrawn",
          "Approved for marketing",
          "Male",
          "All",
          "All",
          "Terminated",
          "All",
          "Not Reported",
          "Available",
          "Male",
          "All",
          "Not yet recruiting",
          "Not Reported",
          "Female",
          "Female",
          "All",
          "All",
          "Active, not recruiting",
          "Recruiting",
          "Temporarily not available",
          "Male",
          "Female",
          "Completed",
          "Not Reported",
          "Not Reported",
          "Female",
          "All",
          "All",
          "All",
          "All",
          "Female",
          "Phase 1",
          "All",
          "Male",
          "Active, not recruiting",
          "Male",
          "Enrolling by invitation",
          "Withdrawn",
          "All",
          "All",
          "All",
          "Recruiting",
          "All",
          "All",
          "All",
          "Completed",
          "Terminated",
          "Not yet recruiting",
          "Terminated",
          "All",
          "Suspended",
          "Phase 1|Phase 2",
          "Active, not recruiting",
          "All",
          "Not yet recruiting",
          "All",
          "Withdrawn",
          "All",
          "Male",
          "All",
          "Male",
          "All",
          "Completed",
          "All",
          "All",
          "Recruiting",
          "Enrolling by invitation",
          "Recruiting",
          "Enrolling by invitation",
          "Withdrawn",
          "Completed",
          "All",
          "Phase 2",
          "All",
          "All",
          "All",
          "Suspended",
          "All",
          "Female",
          "All",
          "All",
          "Active, not recruiting",
          "Terminated",
          "Female",
          "Male",
          "All",
          "Male",
          "Not yet recruiting",
          "Terminated",
          "Withdrawn",
          "Enrolling by invitation",
          "Active, not recruiting",
          "Phase 2|Phase 3",
          "Suspended",
          "All",
          "All",
          "All",
          "All",
          "Completed",
          "Male",
          "All",
          "Not yet recruiting",
          "All",
          "Recruiting",
          "All",
          "All",
          "Female",
          "All",
          "All",
          "All",
          "All",
          "All",
          "All",
          "All",
          "All",
          "Female",
          "Phase 3",
          "Male",
          "Withdrawn",
          "Terminated",
          "Enrolling by invitation",
          "Completed",
          "Not yet recruiting",
          "Male",
          "Suspended",
          "Recruiting",
          "Active, not recruiting",
          "Completed",
          "Phase 4",
          "All",
          "Suspended",
          "All",
          "All",
          "All",
          "All",
          "Terminated",
          "All",
          "Withdrawn",
          "All",
          "Enrolling by invitation",
          "All",
          "Not yet recruiting",
          "Active, not recruiting",
          "Recruiting"
         ],
         "marker": {
          "colors": [
           "rgb(127, 60, 141)",
           "rgb(127, 60, 141)",
           "rgb(127, 60, 141)",
           "rgb(127, 60, 141)",
           "rgb(127, 60, 141)",
           "rgb(127, 60, 141)",
           "rgb(127, 60, 141)",
           "rgb(127, 60, 141)",
           "rgb(127, 60, 141)",
           "rgb(127, 60, 141)",
           "rgb(127, 60, 141)",
           "rgb(127, 60, 141)",
           "rgb(127, 60, 141)",
           "rgb(127, 60, 141)",
           "rgb(127, 60, 141)",
           "rgb(127, 60, 141)",
           "rgb(17, 165, 121)",
           "rgb(17, 165, 121)",
           "rgb(17, 165, 121)",
           "rgb(17, 165, 121)",
           "rgb(17, 165, 121)",
           "rgb(17, 165, 121)",
           "rgb(17, 165, 121)",
           "rgb(17, 165, 121)",
           "rgb(17, 165, 121)",
           "rgb(17, 165, 121)",
           "rgb(17, 165, 121)",
           "rgb(17, 165, 121)",
           "rgb(17, 165, 121)",
           "rgb(17, 165, 121)",
           "rgb(17, 165, 121)",
           "rgb(17, 165, 121)",
           "rgb(17, 165, 121)",
           "rgb(17, 165, 121)",
           "rgb(17, 165, 121)",
           "rgb(17, 165, 121)",
           "rgb(17, 165, 121)",
           "rgb(17, 165, 121)",
           "rgb(17, 165, 121)",
           "rgb(17, 165, 121)",
           "rgb(17, 165, 121)",
           "rgb(57, 105, 172)",
           "rgb(57, 105, 172)",
           "rgb(57, 105, 172)",
           "rgb(57, 105, 172)",
           "rgb(57, 105, 172)",
           "rgb(57, 105, 172)",
           "rgb(57, 105, 172)",
           "rgb(57, 105, 172)",
           "rgb(57, 105, 172)",
           "rgb(57, 105, 172)",
           "rgb(57, 105, 172)",
           "rgb(57, 105, 172)",
           "rgb(57, 105, 172)",
           "rgb(57, 105, 172)",
           "rgb(57, 105, 172)",
           "rgb(57, 105, 172)",
           "rgb(57, 105, 172)",
           "rgb(57, 105, 172)",
           "rgb(57, 105, 172)",
           "rgb(57, 105, 172)",
           "rgb(57, 105, 172)",
           "rgb(57, 105, 172)",
           "rgb(57, 105, 172)",
           "rgb(57, 105, 172)",
           "rgb(57, 105, 172)",
           "rgb(57, 105, 172)",
           "rgb(57, 105, 172)",
           "rgb(57, 105, 172)",
           "rgb(57, 105, 172)",
           "rgb(57, 105, 172)",
           "rgb(57, 105, 172)",
           "rgb(57, 105, 172)",
           "rgb(57, 105, 172)",
           "rgb(57, 105, 172)",
           "rgb(57, 105, 172)",
           "rgb(57, 105, 172)",
           "rgb(57, 105, 172)",
           "rgb(57, 105, 172)",
           "rgb(57, 105, 172)",
           "rgb(57, 105, 172)",
           "rgb(242, 183, 1)",
           "rgb(242, 183, 1)",
           "rgb(242, 183, 1)",
           "rgb(242, 183, 1)",
           "rgb(242, 183, 1)",
           "rgb(242, 183, 1)",
           "rgb(242, 183, 1)",
           "rgb(242, 183, 1)",
           "rgb(242, 183, 1)",
           "rgb(242, 183, 1)",
           "rgb(242, 183, 1)",
           "rgb(242, 183, 1)",
           "rgb(242, 183, 1)",
           "rgb(242, 183, 1)",
           "rgb(242, 183, 1)",
           "rgb(242, 183, 1)",
           "rgb(242, 183, 1)",
           "rgb(231, 63, 116)",
           "rgb(231, 63, 116)",
           "rgb(231, 63, 116)",
           "rgb(231, 63, 116)",
           "rgb(231, 63, 116)",
           "rgb(231, 63, 116)",
           "rgb(231, 63, 116)",
           "rgb(231, 63, 116)",
           "rgb(231, 63, 116)",
           "rgb(231, 63, 116)",
           "rgb(231, 63, 116)",
           "rgb(231, 63, 116)",
           "rgb(231, 63, 116)",
           "rgb(231, 63, 116)",
           "rgb(231, 63, 116)",
           "rgb(231, 63, 116)",
           "rgb(231, 63, 116)",
           "rgb(231, 63, 116)",
           "rgb(231, 63, 116)",
           "rgb(128, 186, 90)",
           "rgb(128, 186, 90)",
           "rgb(128, 186, 90)",
           "rgb(128, 186, 90)",
           "rgb(128, 186, 90)",
           "rgb(128, 186, 90)",
           "rgb(128, 186, 90)",
           "rgb(128, 186, 90)",
           "rgb(128, 186, 90)",
           "rgb(128, 186, 90)",
           "rgb(128, 186, 90)",
           "rgb(128, 186, 90)",
           "rgb(128, 186, 90)",
           "rgb(128, 186, 90)",
           "rgb(128, 186, 90)",
           "rgb(128, 186, 90)",
           "rgb(128, 186, 90)",
           "rgb(128, 186, 90)",
           "rgb(128, 186, 90)",
           "rgb(128, 186, 90)",
           "rgb(128, 186, 90)",
           "rgb(230, 131, 16)",
           "rgb(230, 131, 16)",
           "rgb(230, 131, 16)",
           "rgb(230, 131, 16)",
           "rgb(230, 131, 16)",
           "rgb(230, 131, 16)",
           "rgb(230, 131, 16)",
           "rgb(230, 131, 16)",
           "rgb(230, 131, 16)",
           "rgb(230, 131, 16)",
           "rgb(230, 131, 16)",
           "rgb(230, 131, 16)",
           "rgb(230, 131, 16)",
           "rgb(230, 131, 16)",
           "rgb(230, 131, 16)",
           "rgb(230, 131, 16)",
           "rgb(230, 131, 16)",
           "rgb(230, 131, 16)",
           "rgb(0, 134, 149)",
           "rgb(0, 134, 149)",
           "rgb(0, 134, 149)",
           "rgb(0, 134, 149)",
           "rgb(0, 134, 149)",
           "rgb(0, 134, 149)",
           "rgb(0, 134, 149)",
           "rgb(0, 134, 149)",
           "rgb(0, 134, 149)",
           "rgb(0, 134, 149)",
           "rgb(0, 134, 149)",
           "rgb(0, 134, 149)",
           "rgb(0, 134, 149)",
           "rgb(0, 134, 149)",
           "rgb(0, 134, 149)",
           "rgb(0, 134, 149)",
           "rgb(0, 134, 149)",
           "rgb(0, 134, 149)",
           "rgb(0, 134, 149)",
           "rgb(0, 134, 149)",
           "rgb(0, 134, 149)",
           "rgb(207, 28, 144)",
           "rgb(207, 28, 144)",
           "rgb(207, 28, 144)",
           "rgb(207, 28, 144)",
           "rgb(207, 28, 144)",
           "rgb(207, 28, 144)",
           "rgb(207, 28, 144)",
           "rgb(207, 28, 144)",
           "rgb(207, 28, 144)",
           "rgb(207, 28, 144)",
           "rgb(207, 28, 144)",
           "rgb(207, 28, 144)",
           "rgb(207, 28, 144)",
           "rgb(207, 28, 144)",
           "rgb(207, 28, 144)",
           "rgb(207, 28, 144)",
           "rgb(207, 28, 144)"
          ]
         },
         "name": "",
         "parents": [
          "Early Phase 1",
          "Early Phase 1",
          "Early Phase 1",
          "",
          "Early Phase 1",
          "Early Phase 1/Not yet recruiting",
          "Early Phase 1/Completed",
          "Early Phase 1",
          "Early Phase 1",
          "Early Phase 1/Recruiting",
          "Early Phase 1/Withdrawn",
          "Early Phase 1/Enrolling by invitation",
          "Early Phase 1",
          "Early Phase 1/Suspended",
          "Early Phase 1/Recruiting",
          "Early Phase 1/Active, not recruiting",
          "Not Applicable/Completed",
          "Not Applicable/Completed",
          "Not Applicable/Active, not recruiting",
          "Not Applicable/Recruiting",
          "Not Applicable/Enrolling by invitation",
          "Not Applicable",
          "Not Applicable",
          "Not Applicable/Terminated",
          "Not Applicable",
          "Not Applicable",
          "Not Applicable/Withdrawn",
          "Not Applicable",
          "Not Applicable",
          "Not Applicable",
          "Not Applicable/Enrolling by invitation",
          "Not Applicable/Not yet recruiting",
          "Not Applicable/Active, not recruiting",
          "Not Applicable/Recruiting",
          "Not Applicable/Suspended",
          "Not Applicable/Not yet recruiting",
          "Not Applicable/Recruiting",
          "Not Applicable/Completed",
          "Not Applicable/Not yet recruiting",
          "Not Applicable",
          "",
          "Not Reported",
          "Not Reported",
          "Not Reported/Approved for marketing",
          "Not Reported/Recruiting",
          "Not Reported/Enrolling by invitation",
          "Not Reported/Not yet recruiting",
          "Not Reported",
          "Not Reported/Not yet recruiting",
          "Not Reported/Completed",
          "Not Reported",
          "Not Reported",
          "Not Reported/Active, not recruiting",
          "Not Reported/Completed",
          "Not Reported/Withdrawn",
          "Not Reported",
          "Not Reported/Temporarily not available",
          "Not Reported/Available",
          "Not Reported",
          "Not Reported/Withdrawn",
          "Not Reported/Enrolling by invitation",
          "Not Reported",
          "Not Reported/Completed",
          "Not Reported/Not yet recruiting",
          "Not Reported/Active, not recruiting",
          "Not Reported/Recruiting",
          "Not Reported/Active, not recruiting",
          "Not Reported",
          "Not Reported",
          "Not Reported",
          "Not Reported/Enrolling by invitation",
          "Not Reported/Enrolling by invitation",
          "Not Reported",
          "Not Reported/No longer available",
          "",
          "Not Reported/Completed",
          "Not Reported/No longer available",
          "Not Reported/Suspended",
          "Not Reported/Available",
          "Not Reported/Terminated",
          "Not Reported/Recruiting",
          "",
          "Phase 1/Enrolling by invitation",
          "Phase 1/Active, not recruiting",
          "Phase 1",
          "Phase 1/Completed",
          "Phase 1",
          "Phase 1",
          "Phase 1/Terminated",
          "Phase 1/Recruiting",
          "Phase 1/Not yet recruiting",
          "Phase 1",
          "Phase 1/Withdrawn",
          "Phase 1/Active, not recruiting",
          "Phase 1/Completed",
          "Phase 1",
          "Phase 1",
          "Phase 1",
          "Phase 1|Phase 2",
          "Phase 1|Phase 2/Recruiting",
          "Phase 1|Phase 2",
          "",
          "Phase 1|Phase 2",
          "Phase 1|Phase 2/Not yet recruiting",
          "Phase 1|Phase 2",
          "Phase 1|Phase 2/Enrolling by invitation",
          "Phase 1|Phase 2",
          "Phase 1|Phase 2/Withdrawn",
          "Phase 1|Phase 2/Active, not recruiting",
          "Phase 1|Phase 2/Terminated",
          "Phase 1|Phase 2/Not yet recruiting",
          "Phase 1|Phase 2/Active, not recruiting",
          "Phase 1|Phase 2",
          "Phase 1|Phase 2/Completed",
          "Phase 1|Phase 2/Suspended",
          "Phase 1|Phase 2",
          "Phase 1|Phase 2",
          "Phase 2",
          "Phase 2",
          "Phase 2",
          "Phase 2",
          "Phase 2/Terminated",
          "",
          "Phase 2/Recruiting",
          "Phase 2/Completed",
          "Phase 2/Active, not recruiting",
          "Phase 2",
          "Phase 2/Not yet recruiting",
          "Phase 2/Not yet recruiting",
          "Phase 2/Enrolling by invitation",
          "Phase 2/Withdrawn",
          "Phase 2",
          "Phase 2",
          "Phase 2/Withdrawn",
          "Phase 2/Recruiting",
          "Phase 2/Suspended",
          "Phase 2/Not yet recruiting",
          "Phase 2",
          "Phase 2|Phase 3",
          "Phase 2|Phase 3",
          "Phase 2|Phase 3",
          "Phase 2|Phase 3",
          "",
          "Phase 2|Phase 3",
          "Phase 2|Phase 3/Enrolling by invitation",
          "Phase 2|Phase 3/Recruiting",
          "Phase 2|Phase 3/Withdrawn",
          "Phase 2|Phase 3/Not yet recruiting",
          "Phase 2|Phase 3",
          "Phase 2|Phase 3/Completed",
          "Phase 2|Phase 3/Completed",
          "Phase 2|Phase 3",
          "Phase 2|Phase 3/Suspended",
          "Phase 2|Phase 3",
          "Phase 2|Phase 3/Active, not recruiting",
          "Phase 2|Phase 3/Terminated",
          "Phase 3/Withdrawn",
          "Phase 3/Enrolling by invitation",
          "Phase 3/Suspended",
          "Phase 3/Withdrawn",
          "Phase 3/Completed",
          "Phase 3/Not yet recruiting",
          "Phase 3/Recruiting",
          "Phase 3/Active, not recruiting",
          "Phase 3/Terminated",
          "Phase 3/Recruiting",
          "",
          "Phase 3/Recruiting",
          "Phase 3",
          "Phase 3",
          "Phase 3",
          "Phase 3",
          "Phase 3",
          "Phase 3/Completed",
          "Phase 3",
          "Phase 3",
          "Phase 3",
          "Phase 4",
          "",
          "Phase 4/Active, not recruiting",
          "Phase 4",
          "Phase 4/Not yet recruiting",
          "Phase 4/Enrolling by invitation",
          "Phase 4/Recruiting",
          "Phase 4/Suspended",
          "Phase 4",
          "Phase 4/Terminated",
          "Phase 4",
          "Phase 4/Withdrawn",
          "Phase 4",
          "Phase 4/Completed",
          "Phase 4",
          "Phase 4",
          "Phase 4"
         ],
         "type": "sunburst",
         "values": {
          "bdata": "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",
          "dtype": "f8"
         }
        }
       ],
       "layout": {
        "legend": {
         "tracegroupgap": 0
        },
        "sunburstcolorway": [
         "rgb(127, 60, 141)",
         "rgb(17, 165, 121)",
         "rgb(57, 105, 172)",
         "rgb(242, 183, 1)",
         "rgb(231, 63, 116)",
         "rgb(128, 186, 90)",
         "rgb(230, 131, 16)",
         "rgb(0, 134, 149)",
         "rgb(207, 28, 144)",
         "rgb(249, 123, 114)",
         "rgb(165, 170, 153)"
        ],
        "template": {
         "data": {
          "bar": [
           {
            "error_x": {
             "color": "#2a3f5f"
            },
            "error_y": {
             "color": "#2a3f5f"
            },
            "marker": {
             "line": {
              "color": "#E5ECF6",
              "width": 0.5
             },
             "pattern": {
              "fillmode": "overlay",
              "size": 10,
              "solidity": 0.2
             }
            },
            "type": "bar"
           }
          ],
          "barpolar": [
           {
            "marker": {
             "line": {
              "color": "#E5ECF6",
              "width": 0.5
             },
             "pattern": {
              "fillmode": "overlay",
              "size": 10,
              "solidity": 0.2
             }
            },
            "type": "barpolar"
           }
          ],
          "carpet": [
           {
            "aaxis": {
             "endlinecolor": "#2a3f5f",
             "gridcolor": "white",
             "linecolor": "white",
             "minorgridcolor": "white",
             "startlinecolor": "#2a3f5f"
            },
            "baxis": {
             "endlinecolor": "#2a3f5f",
             "gridcolor": "white",
             "linecolor": "white",
             "minorgridcolor": "white",
             "startlinecolor": "#2a3f5f"
            },
            "type": "carpet"
           }
          ],
          "choropleth": [
           {
            "colorbar": {
             "outlinewidth": 0,
             "ticks": ""
            },
            "type": "choropleth"
           }
          ],
          "contour": [
           {
            "colorbar": {
             "outlinewidth": 0,
             "ticks": ""
            },
            "colorscale": [
             [
              0,
              "#0d0887"
             ],
             [
              0.1111111111111111,
              "#46039f"
             ],
             [
              0.2222222222222222,
              "#7201a8"
             ],
             [
              0.3333333333333333,
              "#9c179e"
             ],
             [
              0.4444444444444444,
              "#bd3786"
             ],
             [
              0.5555555555555556,
              "#d8576b"
             ],
             [
              0.6666666666666666,
              "#ed7953"
             ],
             [
              0.7777777777777778,
              "#fb9f3a"
             ],
             [
              0.8888888888888888,
              "#fdca26"
             ],
             [
              1,
              "#f0f921"
             ]
            ],
            "type": "contour"
           }
          ],
          "contourcarpet": [
           {
            "colorbar": {
             "outlinewidth": 0,
             "ticks": ""
            },
            "type": "contourcarpet"
           }
          ],
          "heatmap": [
           {
            "colorbar": {
             "outlinewidth": 0,
             "ticks": ""
            },
            "colorscale": [
             [
              0,
              "#0d0887"
             ],
             [
              0.1111111111111111,
              "#46039f"
             ],
             [
              0.2222222222222222,
              "#7201a8"
             ],
             [
              0.3333333333333333,
              "#9c179e"
             ],
             [
              0.4444444444444444,
              "#bd3786"
             ],
             [
              0.5555555555555556,
              "#d8576b"
             ],
             [
              0.6666666666666666,
              "#ed7953"
             ],
             [
              0.7777777777777778,
              "#fb9f3a"
             ],
             [
              0.8888888888888888,
              "#fdca26"
             ],
             [
              1,
              "#f0f921"
             ]
            ],
            "type": "heatmap"
           }
          ],
          "histogram": [
           {
            "marker": {
             "pattern": {
              "fillmode": "overlay",
              "size": 10,
              "solidity": 0.2
             }
            },
            "type": "histogram"
           }
          ],
          "histogram2d": [
           {
            "colorbar": {
             "outlinewidth": 0,
             "ticks": ""
            },
            "colorscale": [
             [
              0,
              "#0d0887"
             ],
             [
              0.1111111111111111,
              "#46039f"
             ],
             [
              0.2222222222222222,
              "#7201a8"
             ],
             [
              0.3333333333333333,
              "#9c179e"
             ],
             [
              0.4444444444444444,
              "#bd3786"
             ],
             [
              0.5555555555555556,
              "#d8576b"
             ],
             [
              0.6666666666666666,
              "#ed7953"
             ],
             [
              0.7777777777777778,
              "#fb9f3a"
             ],
             [
              0.8888888888888888,
              "#fdca26"
             ],
             [
              1,
              "#f0f921"
             ]
            ],
            "type": "histogram2d"
           }
          ],
          "histogram2dcontour": [
           {
            "colorbar": {
             "outlinewidth": 0,
             "ticks": ""
            },
            "colorscale": [
             [
              0,
              "#0d0887"
             ],
             [
              0.1111111111111111,
              "#46039f"
             ],
             [
              0.2222222222222222,
              "#7201a8"
             ],
             [
              0.3333333333333333,
              "#9c179e"
             ],
             [
              0.4444444444444444,
              "#bd3786"
             ],
             [
              0.5555555555555556,
              "#d8576b"
             ],
             [
              0.6666666666666666,
              "#ed7953"
             ],
             [
              0.7777777777777778,
              "#fb9f3a"
             ],
             [
              0.8888888888888888,
              "#fdca26"
             ],
             [
              1,
              "#f0f921"
             ]
            ],
            "type": "histogram2dcontour"
           }
          ],
          "mesh3d": [
           {
            "colorbar": {
             "outlinewidth": 0,
             "ticks": ""
            },
            "type": "mesh3d"
           }
          ],
          "parcoords": [
           {
            "line": {
             "colorbar": {
              "outlinewidth": 0,
              "ticks": ""
             }
            },
            "type": "parcoords"
           }
          ],
          "pie": [
           {
            "automargin": true,
            "type": "pie"
           }
          ],
          "scatter": [
           {
            "fillpattern": {
             "fillmode": "overlay",
             "size": 10,
             "solidity": 0.2
            },
            "type": "scatter"
           }
          ],
          "scatter3d": [
           {
            "line": {
             "colorbar": {
              "outlinewidth": 0,
              "ticks": ""
             }
            },
            "marker": {
             "colorbar": {
              "outlinewidth": 0,
              "ticks": ""
             }
            },
            "type": "scatter3d"
           }
          ],
          "scattercarpet": [
           {
            "marker": {
             "colorbar": {
              "outlinewidth": 0,
              "ticks": ""
             }
            },
            "type": "scattercarpet"
           }
          ],
          "scattergeo": [
           {
            "marker": {
             "colorbar": {
              "outlinewidth": 0,
              "ticks": ""
             }
            },
            "type": "scattergeo"
           }
          ],
          "scattergl": [
           {
            "marker": {
             "colorbar": {
              "outlinewidth": 0,
              "ticks": ""
             }
            },
            "type": "scattergl"
           }
          ],
          "scattermap": [
           {
            "marker": {
             "colorbar": {
              "outlinewidth": 0,
              "ticks": ""
             }
            },
            "type": "scattermap"
           }
          ],
          "scattermapbox": [
           {
            "marker": {
             "colorbar": {
              "outlinewidth": 0,
              "ticks": ""
             }
            },
            "type": "scattermapbox"
           }
          ],
          "scatterpolar": [
           {
            "marker": {
             "colorbar": {
              "outlinewidth": 0,
              "ticks": ""
             }
            },
            "type": "scatterpolar"
           }
          ],
          "scatterpolargl": [
           {
            "marker": {
             "colorbar": {
              "outlinewidth": 0,
              "ticks": ""
             }
            },
            "type": "scatterpolargl"
           }
          ],
          "scatterternary": [
           {
            "marker": {
             "colorbar": {
              "outlinewidth": 0,
              "ticks": ""
             }
            },
            "type": "scatterternary"
           }
          ],
          "surface": [
           {
            "colorbar": {
             "outlinewidth": 0,
             "ticks": ""
            },
            "colorscale": [
             [
              0,
              "#0d0887"
             ],
             [
              0.1111111111111111,
              "#46039f"
             ],
             [
              0.2222222222222222,
              "#7201a8"
             ],
             [
              0.3333333333333333,
              "#9c179e"
             ],
             [
              0.4444444444444444,
              "#bd3786"
             ],
             [
              0.5555555555555556,
              "#d8576b"
             ],
             [
              0.6666666666666666,
              "#ed7953"
             ],
             [
              0.7777777777777778,
              "#fb9f3a"
             ],
             [
              0.8888888888888888,
              "#fdca26"
             ],
             [
              1,
              "#f0f921"
             ]
            ],
            "type": "surface"
           }
          ],
          "table": [
           {
            "cells": {
             "fill": {
              "color": "#EBF0F8"
             },
             "line": {
              "color": "white"
             }
            },
            "header": {
             "fill": {
              "color": "#C8D4E3"
             },
             "line": {
              "color": "white"
             }
            },
            "type": "table"
           }
          ]
         },
         "layout": {
          "annotationdefaults": {
           "arrowcolor": "#2a3f5f",
           "arrowhead": 0,
           "arrowwidth": 1
          },
          "autotypenumbers": "strict",
          "coloraxis": {
           "colorbar": {
            "outlinewidth": 0,
            "ticks": ""
           }
          },
          "colorscale": {
           "diverging": [
            [
             0,
             "#8e0152"
            ],
            [
             0.1,
             "#c51b7d"
            ],
            [
             0.2,
             "#de77ae"
            ],
            [
             0.3,
             "#f1b6da"
            ],
            [
             0.4,
             "#fde0ef"
            ],
            [
             0.5,
             "#f7f7f7"
            ],
            [
             0.6,
             "#e6f5d0"
            ],
            [
             0.7,
             "#b8e186"
            ],
            [
             0.8,
             "#7fbc41"
            ],
            [
             0.9,
             "#4d9221"
            ],
            [
             1,
             "#276419"
            ]
           ],
           "sequential": [
            [
             0,
             "#0d0887"
            ],
            [
             0.1111111111111111,
             "#46039f"
            ],
            [
             0.2222222222222222,
             "#7201a8"
            ],
            [
             0.3333333333333333,
             "#9c179e"
            ],
            [
             0.4444444444444444,
             "#bd3786"
            ],
            [
             0.5555555555555556,
             "#d8576b"
            ],
            [
             0.6666666666666666,
             "#ed7953"
            ],
            [
             0.7777777777777778,
             "#fb9f3a"
            ],
            [
             0.8888888888888888,
             "#fdca26"
            ],
            [
             1,
             "#f0f921"
            ]
           ],
           "sequentialminus": [
            [
             0,
             "#0d0887"
            ],
            [
             0.1111111111111111,
             "#46039f"
            ],
            [
             0.2222222222222222,
             "#7201a8"
            ],
            [
             0.3333333333333333,
             "#9c179e"
            ],
            [
             0.4444444444444444,
             "#bd3786"
            ],
            [
             0.5555555555555556,
             "#d8576b"
            ],
            [
             0.6666666666666666,
             "#ed7953"
            ],
            [
             0.7777777777777778,
             "#fb9f3a"
            ],
            [
             0.8888888888888888,
             "#fdca26"
            ],
            [
             1,
             "#f0f921"
            ]
           ]
          },
          "colorway": [
           "#636efa",
           "#EF553B",
           "#00cc96",
           "#ab63fa",
           "#FFA15A",
           "#19d3f3",
           "#FF6692",
           "#B6E880",
           "#FF97FF",
           "#FECB52"
          ],
          "font": {
           "color": "#2a3f5f"
          },
          "geo": {
           "bgcolor": "white",
           "lakecolor": "white",
           "landcolor": "#E5ECF6",
           "showlakes": true,
           "showland": true,
           "subunitcolor": "white"
          },
          "hoverlabel": {
           "align": "left"
          },
          "hovermode": "closest",
          "mapbox": {
           "style": "light"
          },
          "paper_bgcolor": "white",
          "plot_bgcolor": "#E5ECF6",
          "polar": {
           "angularaxis": {
            "gridcolor": "white",
            "linecolor": "white",
            "ticks": ""
           },
           "bgcolor": "#E5ECF6",
           "radialaxis": {
            "gridcolor": "white",
            "linecolor": "white",
            "ticks": ""
           }
          },
          "scene": {
           "xaxis": {
            "backgroundcolor": "#E5ECF6",
            "gridcolor": "white",
            "gridwidth": 2,
            "linecolor": "white",
            "showbackground": true,
            "ticks": "",
            "zerolinecolor": "white"
           },
           "yaxis": {
            "backgroundcolor": "#E5ECF6",
            "gridcolor": "white",
            "gridwidth": 2,
            "linecolor": "white",
            "showbackground": true,
            "ticks": "",
            "zerolinecolor": "white"
           },
           "zaxis": {
            "backgroundcolor": "#E5ECF6",
            "gridcolor": "white",
            "gridwidth": 2,
            "linecolor": "white",
            "showbackground": true,
            "ticks": "",
            "zerolinecolor": "white"
           }
          },
          "shapedefaults": {
           "line": {
            "color": "#2a3f5f"
           }
          },
          "ternary": {
           "aaxis": {
            "gridcolor": "white",
            "linecolor": "white",
            "ticks": ""
           },
           "baxis": {
            "gridcolor": "white",
            "linecolor": "white",
            "ticks": ""
           },
           "bgcolor": "#E5ECF6",
           "caxis": {
            "gridcolor": "white",
            "linecolor": "white",
            "ticks": ""
           }
          },
          "title": {
           "x": 0.05
          },
          "xaxis": {
           "automargin": true,
           "gridcolor": "white",
           "linecolor": "white",
           "ticks": "",
           "title": {
            "standoff": 15
           },
           "zerolinecolor": "white",
           "zerolinewidth": 2
          },
          "yaxis": {
           "automargin": true,
           "gridcolor": "white",
           "linecolor": "white",
           "ticks": "",
           "title": {
            "standoff": 15
           },
           "zerolinecolor": "white",
           "zerolinewidth": 2
          }
         }
        },
        "title": {
         "text": " Sunburst: Phases → Status → Gender"
        }
       }
      },
      "image/png": "[encoded data removed]"
     },
     "metadata": {},
     "output_type": "display_data"
    }
   ],
   "source": [
    "# Ensure no missing values in hierarchy columns\n",
    "for col in [\"Phases\",\"Status\",\"Gender\"]:\n",
    "    if col in df.columns:\n",
    "        df[col] = df[col].astype(str).replace([\"nan\",\"None\",\"Unknown\"], \"Not Reported\")\n",
    "        df[col] = df[col].fillna(\"Not Reported\")\n",
    "\n",
    "# Sunburst Chart\n",
    "if {\"Phases\",\"Status\",\"Gender\"}.issubset(df.columns):\n",
    "    fig = px.sunburst(\n",
    "        df,\n",
    "        path=[\"Phases\",\"Status\",\"Gender\"],\n",
    "        values=\"Enrollment\" if \"Enrollment\" in df.columns else None,\n",
    "        title=\" Sunburst: Phases → Status → Gender\",\n",
    "        color=\"Phases\",\n",
    "        color_discrete_sequence=px.colors.qualitative.Bold\n",
    "    )\n",
    "    fig.show()\n"
   ]
  },
  {
   "cell_type": "code",
   "execution_count": 50,
   "id": "41c716b5-23a1-4258-aa98-4d80a713cd77",
   "metadata": {},
   "outputs": [
    {
     "data": {
      "application/vnd.plotly.v1+json": {
       "config": {
        "plotlyServerURL": "https://plot.ly"
       },
       "data": [
        {
         "customdata": {
          "bdata": "Lg==",
          "dtype": "i1",
          "shape": "1, 1"
         },
         "hovertemplate": "Phases=%{x}<br>mean=%{y}<br>count=%{customdata[0]}<extra></extra>",
         "legendgroup": "Early Phase 1",
         "marker": {
          "color": "#636efa",
          "size": {
           "bdata": "Lg==",
           "dtype": "i1"
          },
          "sizemode": "area",
          "sizeref": 6.0675,
          "symbol": "circle"
         },
         "mode": "markers",
         "name": "Early Phase 1",
         "orientation": "v",
         "showlegend": true,
         "type": "scatter",
         "x": [
          "Early Phase 1"
         ],
         "xaxis": "x",
         "y": {
          "bdata": "AAAAAAAAU0A=",
          "dtype": "f8"
         },
         "yaxis": "y"
        },
        {
         "customdata": {
          "bdata": "SgU=",
          "dtype": "i2",
          "shape": "1, 1"
         },
         "hovertemplate": "Phases=%{x}<br>mean=%{y}<br>count=%{customdata[0]}<extra></extra>",
         "legendgroup": "Not Applicable",
         "marker": {
          "color": "#EF553B",
          "size": {
           "bdata": "SgU=",
           "dtype": "i2"
          },
          "sizemode": "area",
          "sizeref": 6.0675,
          "symbol": "circle"
         },
         "mode": "markers",
         "name": "Not Applicable",
         "orientation": "v",
         "showlegend": true,
         "type": "scatter",
         "x": [
          "Not Applicable"
         ],
         "xaxis": "x",
         "y": {
          "bdata": "UTU3Vizg0UA=",
          "dtype": "f8"
         },
         "yaxis": "y"
        },
        {
         "customdata": {
          "bdata": "ewk=",
          "dtype": "i2",
          "shape": "1, 1"
         },
         "hovertemplate": "Phases=%{x}<br>mean=%{y}<br>count=%{customdata[0]}<extra></extra>",
         "legendgroup": "Not Reported",
         "marker": {
          "color": "#00cc96",
          "size": {
           "bdata": "ewk=",
           "dtype": "i2"
          },
          "sizemode": "area",
          "sizeref": 6.0675,
          "symbol": "circle"
         },
         "mode": "markers",
         "name": "Not Reported",
         "orientation": "v",
         "showlegend": true,
         "type": "scatter",
         "x": [
          "Not Reported"
         ],
         "xaxis": "x",
         "y": {
          "bdata": "BydKc4Fs30A=",
          "dtype": "f8"
         },
         "yaxis": "y"
        },
        {
         "customdata": {
          "bdata": "6gA=",
          "dtype": "i2",
          "shape": "1, 1"
         },
         "hovertemplate": "Phases=%{x}<br>mean=%{y}<br>count=%{customdata[0]}<extra></extra>",
         "legendgroup": "Phase 1",
         "marker": {
          "color": "#ab63fa",
          "size": {
           "bdata": "6gA=",
           "dtype": "i2"
          },
          "sizemode": "area",
          "sizeref": 6.0675,
          "symbol": "circle"
         },
         "mode": "markers",
         "name": "Phase 1",
         "orientation": "v",
         "showlegend": true,
         "type": "scatter",
         "x": [
          "Phase 1"
         ],
         "xaxis": "x",
         "y": {
          "bdata": "uHzLt3wrWUA=",
          "dtype": "f8"
         },
         "yaxis": "y"
        },
        {
         "customdata": {
          "bdata": "wAA=",
          "dtype": "i2",
          "shape": "1, 1"
         },
         "hovertemplate": "Phases=%{x}<br>mean=%{y}<br>count=%{customdata[0]}<extra></extra>",
         "legendgroup": "Phase 1|Phase 2",
         "marker": {
          "color": "#FFA15A",
          "size": {
           "bdata": "wAA=",
           "dtype": "i2"
          },
          "sizemode": "area",
          "sizeref": 6.0675,
          "symbol": "circle"
         },
         "mode": "markers",
         "name": "Phase 1|Phase 2",
         "orientation": "v",
         "showlegend": true,
         "type": "scatter",
         "x": [
          "Phase 1|Phase 2"
         ],
         "xaxis": "x",
         "y": {
          "bdata": "VVVVVdV3bkA=",
          "dtype": "f8"
         },
         "yaxis": "y"
        },
        {
         "customdata": {
          "bdata": "rQI=",
          "dtype": "i2",
          "shape": "1, 1"
         },
         "hovertemplate": "Phases=%{x}<br>mean=%{y}<br>count=%{customdata[0]}<extra></extra>",
         "legendgroup": "Phase 2",
         "marker": {
          "color": "#19d3f3",
          "size": {
           "bdata": "rQI=",
           "dtype": "i2"
          },
          "sizemode": "area",
          "sizeref": 6.0675,
          "symbol": "circle"
         },
         "mode": "markers",
         "name": "Phase 2",
         "orientation": "v",
         "showlegend": true,
         "type": "scatter",
         "x": [
          "Phase 2"
         ],
         "xaxis": "x",
         "y": {
          "bdata": "8zPp0DXwf0A=",
          "dtype": "f8"
         },
         "yaxis": "y"
        },
        {
         "customdata": {
          "bdata": "yAA=",
          "dtype": "i2",
          "shape": "1, 1"
         },
         "hovertemplate": "Phases=%{x}<br>mean=%{y}<br>count=%{customdata[0]}<extra></extra>",
         "legendgroup": "Phase 2|Phase 3",
         "marker": {
          "color": "#FF6692",
          "size": {
           "bdata": "yAA=",
           "dtype": "i2"
          },
          "sizemode": "area",
          "sizeref": 6.0675,
          "symbol": "circle"
         },
         "mode": "markers",
         "name": "Phase 2|Phase 3",
         "orientation": "v",
         "showlegend": true,
         "type": "scatter",
         "x": [
          "Phase 2|Phase 3"
         ],
         "xaxis": "x",
         "y": {
          "bdata": "SOF6FC6xl0A=",
          "dtype": "f8"
         },
         "yaxis": "y"
        },
        {
         "customdata": {
          "bdata": "wgE=",
          "dtype": "i2",
          "shape": "1, 1"
         },
         "hovertemplate": "Phases=%{x}<br>mean=%{y}<br>count=%{customdata[0]}<extra></extra>",
         "legendgroup": "Phase 3",
         "marker": {
          "color": "#B6E880",
          "size": {
           "bdata": "wgE=",
           "dtype": "i2"
          },
          "sizemode": "area",
          "sizeref": 6.0675,
          "symbol": "circle"
         },
         "mode": "markers",
         "name": "Phase 3",
         "orientation": "v",
         "showlegend": true,
         "type": "scatter",
         "x": [
          "Phase 3"
         ],
         "xaxis": "x",
         "y": {
          "bdata": "LtiCLdh1qUA=",
          "dtype": "f8"
         },
         "yaxis": "y"
        },
        {
         "customdata": {
          "bdata": "oQA=",
          "dtype": "i2",
          "shape": "1, 1"
         },
         "hovertemplate": "Phases=%{x}<br>mean=%{y}<br>count=%{customdata[0]}<extra></extra>",
         "legendgroup": "Phase 4",
         "marker": {
          "color": "#FF97FF",
          "size": {
           "bdata": "oQA=",
           "dtype": "i2"
          },
          "sizemode": "area",
          "sizeref": 6.0675,
          "symbol": "circle"
         },
         "mode": "markers",
         "name": "Phase 4",
         "orientation": "v",
         "showlegend": true,
         "type": "scatter",
         "x": [
          "Phase 4"
         ],
         "xaxis": "x",
         "y": {
          "bdata": "r1JM0F25l0A=",
          "dtype": "f8"
         },
         "yaxis": "y"
        }
       ],
       "layout": {
        "legend": {
         "itemsizing": "constant",
         "title": {
          "text": "Phases"
         },
         "tracegroupgap": 0
        },
        "template": {
         "data": {
          "bar": [
           {
            "error_x": {
             "color": "#2a3f5f"
            },
            "error_y": {
             "color": "#2a3f5f"
            },
            "marker": {
             "line": {
              "color": "#E5ECF6",
              "width": 0.5
             },
             "pattern": {
              "fillmode": "overlay",
              "size": 10,
              "solidity": 0.2
             }
            },
            "type": "bar"
           }
          ],
          "barpolar": [
           {
            "marker": {
             "line": {
              "color": "#E5ECF6",
              "width": 0.5
             },
             "pattern": {
              "fillmode": "overlay",
              "size": 10,
              "solidity": 0.2
             }
            },
            "type": "barpolar"
           }
          ],
          "carpet": [
           {
            "aaxis": {
             "endlinecolor": "#2a3f5f",
             "gridcolor": "white",
             "linecolor": "white",
             "minorgridcolor": "white",
             "startlinecolor": "#2a3f5f"
            },
            "baxis": {
             "endlinecolor": "#2a3f5f",
             "gridcolor": "white",
             "linecolor": "white",
             "minorgridcolor": "white",
             "startlinecolor": "#2a3f5f"
            },
            "type": "carpet"
           }
          ],
          "choropleth": [
           {
            "colorbar": {
             "outlinewidth": 0,
             "ticks": ""
            },
            "type": "choropleth"
           }
          ],
          "contour": [
           {
            "colorbar": {
             "outlinewidth": 0,
             "ticks": ""
            },
            "colorscale": [
             [
              0,
              "#0d0887"
             ],
             [
              0.1111111111111111,
              "#46039f"
             ],
             [
              0.2222222222222222,
              "#7201a8"
             ],
             [
              0.3333333333333333,
              "#9c179e"
             ],
             [
              0.4444444444444444,
              "#bd3786"
             ],
             [
              0.5555555555555556,
              "#d8576b"
             ],
             [
              0.6666666666666666,
              "#ed7953"
             ],
             [
              0.7777777777777778,
              "#fb9f3a"
             ],
             [
              0.8888888888888888,
              "#fdca26"
             ],
             [
              1,
              "#f0f921"
             ]
            ],
            "type": "contour"
           }
          ],
          "contourcarpet": [
           {
            "colorbar": {
             "outlinewidth": 0,
             "ticks": ""
            },
            "type": "contourcarpet"
           }
          ],
          "heatmap": [
           {
            "colorbar": {
             "outlinewidth": 0,
             "ticks": ""
            },
            "colorscale": [
             [
              0,
              "#0d0887"
             ],
             [
              0.1111111111111111,
              "#46039f"
             ],
             [
              0.2222222222222222,
              "#7201a8"
             ],
             [
              0.3333333333333333,
              "#9c179e"
             ],
             [
              0.4444444444444444,
              "#bd3786"
             ],
             [
              0.5555555555555556,
              "#d8576b"
             ],
             [
              0.6666666666666666,
              "#ed7953"
             ],
             [
              0.7777777777777778,
              "#fb9f3a"
             ],
             [
              0.8888888888888888,
              "#fdca26"
             ],
             [
              1,
              "#f0f921"
             ]
            ],
            "type": "heatmap"
           }
          ],
          "histogram": [
           {
            "marker": {
             "pattern": {
              "fillmode": "overlay",
              "size": 10,
              "solidity": 0.2
             }
            },
            "type": "histogram"
           }
          ],
          "histogram2d": [
           {
            "colorbar": {
             "outlinewidth": 0,
             "ticks": ""
            },
            "colorscale": [
             [
              0,
              "#0d0887"
             ],
             [
              0.1111111111111111,
              "#46039f"
             ],
             [
              0.2222222222222222,
              "#7201a8"
             ],
             [
              0.3333333333333333,
              "#9c179e"
             ],
             [
              0.4444444444444444,
              "#bd3786"
             ],
             [
              0.5555555555555556,
              "#d8576b"
             ],
             [
              0.6666666666666666,
              "#ed7953"
             ],
             [
              0.7777777777777778,
              "#fb9f3a"
             ],
             [
              0.8888888888888888,
              "#fdca26"
             ],
             [
              1,
              "#f0f921"
             ]
            ],
            "type": "histogram2d"
           }
          ],
          "histogram2dcontour": [
           {
            "colorbar": {
             "outlinewidth": 0,
             "ticks": ""
            },
            "colorscale": [
             [
              0,
              "#0d0887"
             ],
             [
              0.1111111111111111,
              "#46039f"
             ],
             [
              0.2222222222222222,
              "#7201a8"
             ],
             [
              0.3333333333333333,
              "#9c179e"
             ],
             [
              0.4444444444444444,
              "#bd3786"
             ],
             [
              0.5555555555555556,
              "#d8576b"
             ],
             [
              0.6666666666666666,
              "#ed7953"
             ],
             [
              0.7777777777777778,
              "#fb9f3a"
             ],
             [
              0.8888888888888888,
              "#fdca26"
             ],
             [
              1,
              "#f0f921"
             ]
            ],
            "type": "histogram2dcontour"
           }
          ],
          "mesh3d": [
           {
            "colorbar": {
             "outlinewidth": 0,
             "ticks": ""
            },
            "type": "mesh3d"
           }
          ],
          "parcoords": [
           {
            "line": {
             "colorbar": {
              "outlinewidth": 0,
              "ticks": ""
             }
            },
            "type": "parcoords"
           }
          ],
          "pie": [
           {
            "automargin": true,
            "type": "pie"
           }
          ],
          "scatter": [
           {
            "fillpattern": {
             "fillmode": "overlay",
             "size": 10,
             "solidity": 0.2
            },
            "type": "scatter"
           }
          ],
          "scatter3d": [
           {
            "line": {
             "colorbar": {
              "outlinewidth": 0,
              "ticks": ""
             }
            },
            "marker": {
             "colorbar": {
              "outlinewidth": 0,
              "ticks": ""
             }
            },
            "type": "scatter3d"
           }
          ],
          "scattercarpet": [
           {
            "marker": {
             "colorbar": {
              "outlinewidth": 0,
              "ticks": ""
             }
            },
            "type": "scattercarpet"
           }
          ],
          "scattergeo": [
           {
            "marker": {
             "colorbar": {
              "outlinewidth": 0,
              "ticks": ""
             }
            },
            "type": "scattergeo"
           }
          ],
          "scattergl": [
           {
            "marker": {
             "colorbar": {
              "outlinewidth": 0,
              "ticks": ""
             }
            },
            "type": "scattergl"
           }
          ],
          "scattermap": [
           {
            "marker": {
             "colorbar": {
              "outlinewidth": 0,
              "ticks": ""
             }
            },
            "type": "scattermap"
           }
          ],
          "scattermapbox": [
           {
            "marker": {
             "colorbar": {
              "outlinewidth": 0,
              "ticks": ""
             }
            },
            "type": "scattermapbox"
           }
          ],
          "scatterpolar": [
           {
            "marker": {
             "colorbar": {
              "outlinewidth": 0,
              "ticks": ""
             }
            },
            "type": "scatterpolar"
           }
          ],
          "scatterpolargl": [
           {
            "marker": {
             "colorbar": {
              "outlinewidth": 0,
              "ticks": ""
             }
            },
            "type": "scatterpolargl"
           }
          ],
          "scatterternary": [
           {
            "marker": {
             "colorbar": {
              "outlinewidth": 0,
              "ticks": ""
             }
            },
            "type": "scatterternary"
           }
          ],
          "surface": [
           {
            "colorbar": {
             "outlinewidth": 0,
             "ticks": ""
            },
            "colorscale": [
             [
              0,
              "#0d0887"
             ],
             [
              0.1111111111111111,
              "#46039f"
             ],
             [
              0.2222222222222222,
              "#7201a8"
             ],
             [
              0.3333333333333333,
              "#9c179e"
             ],
             [
              0.4444444444444444,
              "#bd3786"
             ],
             [
              0.5555555555555556,
              "#d8576b"
             ],
             [
              0.6666666666666666,
              "#ed7953"
             ],
             [
              0.7777777777777778,
              "#fb9f3a"
             ],
             [
              0.8888888888888888,
              "#fdca26"
             ],
             [
              1,
              "#f0f921"
             ]
            ],
            "type": "surface"
           }
          ],
          "table": [
           {
            "cells": {
             "fill": {
              "color": "#EBF0F8"
             },
             "line": {
              "color": "white"
             }
            },
            "header": {
             "fill": {
              "color": "#C8D4E3"
             },
             "line": {
              "color": "white"
             }
            },
            "type": "table"
           }
          ]
         },
         "layout": {
          "annotationdefaults": {
           "arrowcolor": "#2a3f5f",
           "arrowhead": 0,
           "arrowwidth": 1
          },
          "autotypenumbers": "strict",
          "coloraxis": {
           "colorbar": {
            "outlinewidth": 0,
            "ticks": ""
           }
          },
          "colorscale": {
           "diverging": [
            [
             0,
             "#8e0152"
            ],
            [
             0.1,
             "#c51b7d"
            ],
            [
             0.2,
             "#de77ae"
            ],
            [
             0.3,
             "#f1b6da"
            ],
            [
             0.4,
             "#fde0ef"
            ],
            [
             0.5,
             "#f7f7f7"
            ],
            [
             0.6,
             "#e6f5d0"
            ],
            [
             0.7,
             "#b8e186"
            ],
            [
             0.8,
             "#7fbc41"
            ],
            [
             0.9,
             "#4d9221"
            ],
            [
             1,
             "#276419"
            ]
           ],
           "sequential": [
            [
             0,
             "#0d0887"
            ],
            [
             0.1111111111111111,
             "#46039f"
            ],
            [
             0.2222222222222222,
             "#7201a8"
            ],
            [
             0.3333333333333333,
             "#9c179e"
            ],
            [
             0.4444444444444444,
             "#bd3786"
            ],
            [
             0.5555555555555556,
             "#d8576b"
            ],
            [
             0.6666666666666666,
             "#ed7953"
            ],
            [
             0.7777777777777778,
             "#fb9f3a"
            ],
            [
             0.8888888888888888,
             "#fdca26"
            ],
            [
             1,
             "#f0f921"
            ]
           ],
           "sequentialminus": [
            [
             0,
             "#0d0887"
            ],
            [
             0.1111111111111111,
             "#46039f"
            ],
            [
             0.2222222222222222,
             "#7201a8"
            ],
            [
             0.3333333333333333,
             "#9c179e"
            ],
            [
             0.4444444444444444,
             "#bd3786"
            ],
            [
             0.5555555555555556,
             "#d8576b"
            ],
            [
             0.6666666666666666,
             "#ed7953"
            ],
            [
             0.7777777777777778,
             "#fb9f3a"
            ],
            [
             0.8888888888888888,
             "#fdca26"
            ],
            [
             1,
             "#f0f921"
            ]
           ]
          },
          "colorway": [
           "#636efa",
           "#EF553B",
           "#00cc96",
           "#ab63fa",
           "#FFA15A",
           "#19d3f3",
           "#FF6692",
           "#B6E880",
           "#FF97FF",
           "#FECB52"
          ],
          "font": {
           "color": "#2a3f5f"
          },
          "geo": {
           "bgcolor": "white",
           "lakecolor": "white",
           "landcolor": "#E5ECF6",
           "showlakes": true,
           "showland": true,
           "subunitcolor": "white"
          },
          "hoverlabel": {
           "align": "left"
          },
          "hovermode": "closest",
          "mapbox": {
           "style": "light"
          },
          "paper_bgcolor": "white",
          "plot_bgcolor": "#E5ECF6",
          "polar": {
           "angularaxis": {
            "gridcolor": "white",
            "linecolor": "white",
            "ticks": ""
           },
           "bgcolor": "#E5ECF6",
           "radialaxis": {
            "gridcolor": "white",
            "linecolor": "white",
            "ticks": ""
           }
          },
          "scene": {
           "xaxis": {
            "backgroundcolor": "#E5ECF6",
            "gridcolor": "white",
            "gridwidth": 2,
            "linecolor": "white",
            "showbackground": true,
            "ticks": "",
            "zerolinecolor": "white"
           },
           "yaxis": {
            "backgroundcolor": "#E5ECF6",
            "gridcolor": "white",
            "gridwidth": 2,
            "linecolor": "white",
            "showbackground": true,
            "ticks": "",
            "zerolinecolor": "white"
           },
           "zaxis": {
            "backgroundcolor": "#E5ECF6",
            "gridcolor": "white",
            "gridwidth": 2,
            "linecolor": "white",
            "showbackground": true,
            "ticks": "",
            "zerolinecolor": "white"
           }
          },
          "shapedefaults": {
           "line": {
            "color": "#2a3f5f"
           }
          },
          "ternary": {
           "aaxis": {
            "gridcolor": "white",
            "linecolor": "white",
            "ticks": ""
           },
           "baxis": {
            "gridcolor": "white",
            "linecolor": "white",
            "ticks": ""
           },
           "bgcolor": "#E5ECF6",
           "caxis": {
            "gridcolor": "white",
            "linecolor": "white",
            "ticks": ""
           }
          },
          "title": {
           "x": 0.05
          },
          "xaxis": {
           "automargin": true,
           "gridcolor": "white",
           "linecolor": "white",
           "ticks": "",
           "title": {
            "standoff": 15
           },
           "zerolinecolor": "white",
           "zerolinewidth": 2
          },
          "yaxis": {
           "automargin": true,
           "gridcolor": "white",
           "linecolor": "white",
           "ticks": "",
           "title": {
            "standoff": 15
           },
           "zerolinecolor": "white",
           "zerolinewidth": 2
          }
         }
        },
        "title": {
         "text": "  Avg Enrollment by Phases (size = # of trials)"
        },
        "xaxis": {
         "anchor": "y",
         "categoryarray": [
          "Early Phase 1",
          "Not Applicable",
          "Not Reported",
          "Phase 1",
          "Phase 1|Phase 2",
          "Phase 2",
          "Phase 2|Phase 3",
          "Phase 3",
          "Phase 4"
         ],
         "categoryorder": "array",
         "domain": [
          0,
          1
         ],
         "title": {
          "text": "Phases"
         }
        },
        "yaxis": {
         "anchor": "x",
         "domain": [
          0,
          1
         ],
         "title": {
          "text": "mean"
         }
        }
       }
      },
      "image/png": "[encoded data removed]"
     },
     "metadata": {},
     "output_type": "display_data"
    }
   ],
   "source": [
    "# 3.  Enrollment vs Phases\n",
    "if {\"Phases\",\"Enrollment\"}.issubset(df.columns):\n",
    "    bubble_data = df.groupby(\"Phases\")[\"Enrollment\"].agg([\"mean\",\"count\"]).reset_index()\n",
    "    fig = px.scatter(\n",
    "        bubble_data,\n",
    "        x=\"Phases\",\n",
    "        y=\"mean\",\n",
    "        size=\"count\",\n",
    "        color=\"Phases\",\n",
    "        hover_data=[\"count\"],\n",
    "        title=\"  Avg Enrollment by Phases (size = # of trials)\"\n",
    "    )\n",
    "    fig.show()"
   ]
  },
  {
   "cell_type": "code",
   "execution_count": 34,
   "id": "1e991711-602e-4a36-a9f9-9bc65046aa26",
   "metadata": {},
   "outputs": [
    {
     "data": {
      "application/vnd.plotly.v1+json": {
       "config": {
        "plotlyServerURL": "https://plot.ly"
       },
       "data": [
        {
         "alignmentgroup": "True",
         "box": {
          "visible": true
         },
         "hovertemplate": "Status=%{x}<br>Enrollment=%{y}<extra></extra>",
         "legendgroup": "Active, not recruiting",
         "marker": {
          "color": "#636efa"
         },
         "name": "Active, not recruiting",
         "offsetgroup": "Active, not recruiting",
         "orientation": "v",
         "points": "all",
         "scalegroup": "True",
         "showlegend": true,
         "type": "violin",
         "x": [
          "Active, not recruiting",
          "Active, not recruiting",
          "Active, not recruiting",
          "Active, not recruiting",
          "Active, not recruiting",
          "Active, not recruiting",
          "Active, not recruiting",
          "Active, not recruiting",
          "Active, not recruiting",
          "Active, not recruiting",
          "Active, not recruiting",
          "Active, not recruiting",
          "Active, not recruiting",
          "Active, not recruiting",
          "Active, not recruiting",
          "Active, not recruiting",
          "Active, not recruiting",
          "Active, not recruiting",
          "Active, not recruiting",
          "Active, not recruiting",
          "Active, not recruiting",
          "Active, not recruiting",
          "Active, not recruiting",
          "Active, not recruiting",
          "Active, not recruiting",
          "Active, not recruiting",
          "Active, not recruiting",
          "Active, not recruiting",
          "Active, not recruiting",
          "Active, not recruiting",
          "Active, not recruiting",
          "Active, not recruiting",
          "Active, not recruiting",
          "Active, not recruiting",
          "Active, not recruiting",
          "Active, not recruiting",
          "Active, not recruiting",
          "Active, not recruiting",
          "Active, not recruiting",
          "Active, not recruiting",
          "Active, not recruiting",
          "Active, not recruiting",
          "Active, not recruiting",
          "Active, not recruiting",
          "Active, not recruiting",
          "Active, not recruiting",
          "Active, not recruiting",
          "Active, not recruiting",
          "Active, not recruiting",
          "Active, not recruiting",
          "Active, not recruiting",
          "Active, not recruiting",
          "Active, not recruiting",
          "Active, not recruiting",
          "Active, not recruiting",
          "Active, not recruiting",
          "Active, not recruiting",
          "Active, not recruiting",
          "Active, not recruiting",
          "Active, not recruiting",
          "Active, not recruiting",
          "Active, not recruiting",
          "Active, not recruiting",
          "Active, not recruiting",
          "Active, not recruiting",
          "Active, not recruiting",
          "Active, not recruiting",
          "Active, not recruiting",
          "Active, not recruiting",
          "Active, not recruiting",
          "Active, not recruiting",
          "Active, not recruiting",
          "Active, not recruiting",
          "Active, not recruiting",
          "Active, not recruiting",
          "Active, not recruiting",
          "Active, not recruiting",
          "Active, not recruiting",
          "Active, not recruiting",
          "Active, not recruiting",
          "Active, not recruiting",
          "Active, not recruiting",
          "Active, not recruiting",
          "Active, not recruiting",
          "Active, not recruiting",
          "Active, not recruiting",
          "Active, not recruiting",
          "Active, not recruiting",
          "Active, not recruiting",
          "Active, not recruiting",
          "Active, not recruiting",
          "Active, not recruiting",
          "Active, not recruiting",
          "Active, not recruiting",
          "Active, not recruiting",
          "Active, not recruiting",
          "Active, not recruiting",
          "Active, not recruiting",
          "Active, not recruiting",
          "Active, not recruiting",
          "Active, not recruiting",
          "Active, not recruiting",
          "Active, not recruiting",
          "Active, not recruiting",
          "Active, not recruiting",
          "Active, not recruiting",
          "Active, not recruiting",
          "Active, not recruiting",
          "Active, not recruiting",
          "Active, not recruiting",
          "Active, not recruiting",
          "Active, not recruiting",
          "Active, not recruiting",
          "Active, not recruiting",
          "Active, not recruiting",
          "Active, not recruiting",
          "Active, not recruiting",
          "Active, not recruiting",
          "Active, not recruiting",
          "Active, not recruiting",
          "Active, not recruiting",
          "Active, not recruiting",
          "Active, not recruiting",
          "Active, not recruiting",
          "Active, not recruiting",
          "Active, not recruiting",
          "Active, not recruiting",
          "Active, not recruiting",
          "Active, not recruiting",
          "Active, not recruiting",
          "Active, not recruiting",
          "Active, not recruiting",
          "Active, not recruiting",
          "Active, not recruiting",
          "Active, not recruiting",
          "Active, not recruiting",
          "Active, not recruiting",
          "Active, not recruiting",
          "Active, not recruiting",
          "Active, not recruiting",
          "Active, not recruiting",
          "Active, not recruiting",
          "Active, not recruiting",
          "Active, not recruiting",
          "Active, not recruiting",
          "Active, not recruiting",
          "Active, not recruiting",
          "Active, not recruiting",
          "Active, not recruiting",
          "Active, not recruiting",
          "Active, not recruiting",
          "Active, not recruiting",
          "Active, not recruiting",
          "Active, not recruiting",
          "Active, not recruiting",
          "Active, not recruiting",
          "Active, not recruiting",
          "Active, not recruiting",
          "Active, not recruiting",
          "Active, not recruiting",
          "Active, not recruiting",
          "Active, not recruiting",
          "Active, not recruiting",
          "Active, not recruiting",
          "Active, not recruiting",
          "Active, not recruiting",
          "Active, not recruiting",
          "Active, not recruiting",
          "Active, not recruiting",
          "Active, not recruiting",
          "Active, not recruiting",
          "Active, not recruiting",
          "Active, not recruiting",
          "Active, not recruiting",
          "Active, not recruiting",
          "Active, not recruiting",
          "Active, not recruiting",
          "Active, not recruiting",
          "Active, not recruiting",
          "Active, not recruiting",
          "Active, not recruiting",
          "Active, not recruiting",
          "Active, not recruiting",
          "Active, not recruiting",
          "Active, not recruiting",
          "Active, not recruiting",
          "Active, not recruiting",
          "Active, not recruiting",
          "Active, not recruiting",
          "Active, not recruiting",
          "Active, not recruiting",
          "Active, not recruiting",
          "Active, not recruiting",
          "Active, not recruiting",
          "Active, not recruiting",
          "Active, not recruiting",
          "Active, not recruiting",
          "Active, not recruiting",
          "Active, not recruiting",
          "Active, not recruiting",
          "Active, not recruiting",
          "Active, not recruiting",
          "Active, not recruiting",
          "Active, not recruiting",
          "Active, not recruiting",
          "Active, not recruiting",
          "Active, not recruiting",
          "Active, not recruiting",
          "Active, not recruiting",
          "Active, not recruiting",
          "Active, not recruiting",
          "Active, not recruiting",
          "Active, not recruiting",
          "Active, not recruiting",
          "Active, not recruiting",
          "Active, not recruiting",
          "Active, not recruiting",
          "Active, not recruiting",
          "Active, not recruiting",
          "Active, not recruiting",
          "Active, not recruiting",
          "Active, not recruiting",
          "Active, not recruiting",
          "Active, not recruiting",
          "Active, not recruiting",
          "Active, not recruiting",
          "Active, not recruiting",
          "Active, not recruiting",
          "Active, not recruiting",
          "Active, not recruiting",
          "Active, not recruiting",
          "Active, not recruiting",
          "Active, not recruiting",
          "Active, not recruiting",
          "Active, not recruiting",
          "Active, not recruiting",
          "Active, not recruiting",
          "Active, not recruiting",
          "Active, not recruiting",
          "Active, not recruiting",
          "Active, not recruiting",
          "Active, not recruiting",
          "Active, not recruiting",
          "Active, not recruiting",
          "Active, not recruiting",
          "Active, not recruiting",
          "Active, not recruiting",
          "Active, not recruiting",
          "Active, not recruiting",
          "Active, not recruiting",
          "Active, not recruiting",
          "Active, not recruiting",
          "Active, not recruiting",
          "Active, not recruiting",
          "Active, not recruiting",
          "Active, not recruiting",
          "Active, not recruiting",
          "Active, not recruiting",
          "Active, not recruiting",
          "Active, not recruiting",
          "Active, not recruiting",
          "Active, not recruiting",
          "Active, not recruiting",
          "Active, not recruiting",
          "Active, not recruiting",
          "Active, not recruiting",
          "Active, not recruiting",
          "Active, not recruiting",
          "Active, not recruiting",
          "Active, not recruiting",
          "Active, not recruiting",
          "Active, not recruiting",
          "Active, not recruiting",
          "Active, not recruiting",
          "Active, not recruiting",
          "Active, not recruiting",
          "Active, not recruiting",
          "Active, not recruiting",
          "Active, not recruiting",
          "Active, not recruiting",
          "Active, not recruiting",
          "Active, not recruiting",
          "Active, not recruiting",
          "Active, not recruiting",
          "Active, not recruiting",
          "Active, not recruiting",
          "Active, not recruiting",
          "Active, not recruiting",
          "Active, not recruiting",
          "Active, not recruiting",
          "Active, not recruiting",
          "Active, not recruiting",
          "Active, not recruiting",
          "Active, not recruiting",
          "Active, not recruiting",
          "Active, not recruiting",
          "Active, not recruiting",
          "Active, not recruiting",
          "Active, not recruiting",
          "Active, not recruiting",
          "Active, not recruiting",
          "Active, not recruiting",
          "Active, not recruiting",
          "Active, not recruiting",
          "Active, not recruiting",
          "Active, not recruiting",
          "Active, not recruiting",
          "Active, not recruiting",
          "Active, not recruiting",
          "Active, not recruiting",
          "Active, not recruiting",
          "Active, not recruiting",
          "Active, not recruiting",
          "Active, not recruiting",
          "Active, not recruiting",
          "Active, not recruiting",
          "Active, not recruiting",
          "Active, not recruiting",
          "Active, not recruiting",
          "Active, not recruiting",
          "Active, not recruiting",
          "Active, not recruiting",
          "Active, not recruiting",
          "Active, not recruiting",
          "Active, not recruiting",
          "Active, not recruiting",
          "Active, not recruiting",
          "Active, not recruiting",
          "Active, not recruiting",
          "Active, not recruiting",
          "Active, not recruiting",
          "Active, not recruiting",
          "Active, not recruiting",
          "Active, not recruiting",
          "Active, not recruiting",
          "Active, not recruiting",
          "Active, not recruiting",
          "Active, not recruiting",
          "Active, not recruiting",
          "Active, not recruiting",
          "Active, not recruiting",
          "Active, not recruiting",
          "Active, not recruiting",
          "Active, not recruiting",
          "Active, not recruiting",
          "Active, not recruiting",
          "Active, not recruiting",
          "Active, not recruiting",
          "Active, not recruiting",
          "Active, not recruiting",
          "Active, not recruiting",
          "Active, not recruiting",
          "Active, not recruiting",
          "Active, not recruiting",
          "Active, not recruiting",
          "Active, not recruiting",
          "Active, not recruiting",
          "Active, not recruiting",
          "Active, not recruiting",
          "Active, not recruiting",
          "Active, not recruiting",
          "Active, not recruiting",
          "Active, not recruiting",
          "Active, not recruiting",
          "Active, not recruiting",
          "Active, not recruiting",
          "Active, not recruiting",
          "Active, not recruiting",
          "Active, not recruiting",
          "Active, not recruiting",
          "Active, not recruiting",
          "Active, not recruiting",
          "Active, not recruiting",
          "Active, not recruiting",
          "Active, not recruiting",
          "Active, not recruiting",
          "Active, not recruiting",
          "Active, not recruiting",
          "Active, not recruiting",
          "Active, not recruiting",
          "Active, not recruiting",
          "Active, not recruiting",
          "Active, not recruiting",
          "Active, not recruiting",
          "Active, not recruiting",
          "Active, not recruiting",
          "Active, not recruiting",
          "Active, not recruiting",
          "Active, not recruiting",
          "Active, not recruiting",
          "Active, not recruiting",
          "Active, not recruiting",
          "Active, not recruiting",
          "Active, not recruiting",
          "Active, not recruiting",
          "Active, not recruiting",
          "Active, not recruiting",
          "Active, not recruiting",
          "Active, not recruiting",
          "Active, not recruiting",
          "Active, not recruiting",
          "Active, not recruiting",
          "Active, not recruiting",
          "Active, not recruiting",
          "Active, not recruiting",
          "Active, not recruiting",
          "Active, not recruiting",
          "Active, not recruiting",
          "Active, not recruiting",
          "Active, not recruiting",
          "Active, not recruiting",
          "Active, not recruiting",
          "Active, not recruiting",
          "Active, not recruiting",
          "Active, not recruiting",
          "Active, not recruiting",
          "Active, not recruiting",
          "Active, not recruiting",
          "Active, not recruiting",
          "Active, not recruiting",
          "Active, not recruiting",
          "Active, not recruiting",
          "Active, not recruiting",
          "Active, not recruiting",
          "Active, not recruiting",
          "Active, not recruiting",
          "Active, not recruiting",
          "Active, not recruiting",
          "Active, not recruiting",
          "Active, not recruiting",
          "Active, not recruiting",
          "Active, not recruiting",
          "Active, not recruiting",
          "Active, not recruiting",
          "Active, not recruiting",
          "Active, not recruiting",
          "Active, not recruiting",
          "Active, not recruiting",
          "Active, not recruiting",
          "Active, not recruiting",
          "Active, not recruiting",
          "Active, not recruiting",
          "Active, not recruiting",
          "Active, not recruiting",
          "Active, not recruiting",
          "Active, not recruiting",
          "Active, not recruiting",
          "Active, not recruiting",
          "Active, not recruiting",
          "Active, not recruiting",
          "Active, not recruiting",
          "Active, not recruiting",
          "Active, not recruiting",
          "Active, not recruiting",
          "Active, not recruiting",
          "Active, not recruiting",
          "Active, not recruiting",
          "Active, not recruiting",
          "Active, not recruiting",
          "Active, not recruiting",
          "Active, not recruiting",
          "Active, not recruiting",
          "Active, not recruiting",
          "Active, not recruiting",
          "Active, not recruiting",
          "Active, not recruiting",
          "Active, not recruiting",
          "Active, not recruiting",
          "Active, not recruiting",
          "Active, not recruiting",
          "Active, not recruiting",
          "Active, not recruiting",
          "Active, not recruiting",
          "Active, not recruiting",
          "Active, not recruiting",
          "Active, not recruiting",
          "Active, not recruiting",
          "Active, not recruiting",
          "Active, not recruiting",
          "Active, not recruiting",
          "Active, not recruiting",
          "Active, not recruiting",
          "Active, not recruiting",
          "Active, not recruiting"
         ],
         "x0": " ",
         "xaxis": "x",
         "y": {
          "bdata": "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",
          "dtype": "f8"
         },
         "y0": " ",
         "yaxis": "y"
        },
        {
         "alignmentgroup": "True",
         "box": {
          "visible": true
         },
         "hovertemplate": "Status=%{x}<br>Enrollment=%{y}<extra></extra>",
         "legendgroup": "Not yet recruiting",
         "marker": {
          "color": "#EF553B"
         },
         "name": "Not yet recruiting",
         "offsetgroup": "Not yet recruiting",
         "orientation": "v",
         "points": "all",
         "scalegroup": "True",
         "showlegend": true,
         "type": "violin",
         "x": [
          "Not yet recruiting",
          "Not yet recruiting",
          "Not yet recruiting",
          "Not yet recruiting",
          "Not yet recruiting",
          "Not yet recruiting",
          "Not yet recruiting",
          "Not yet recruiting",
          "Not yet recruiting",
          "Not yet recruiting",
          "Not yet recruiting",
          "Not yet recruiting",
          "Not yet recruiting",
          "Not yet recruiting",
          "Not yet recruiting",
          "Not yet recruiting",
          "Not yet recruiting",
          "Not yet recruiting",
          "Not yet recruiting",
          "Not yet recruiting",
          "Not yet recruiting",
          "Not yet recruiting",
          "Not yet recruiting",
          "Not yet recruiting",
          "Not yet recruiting",
          "Not yet recruiting",
          "Not yet recruiting",
          "Not yet recruiting",
          "Not yet recruiting",
          "Not yet recruiting",
          "Not yet recruiting",
          "Not yet recruiting",
          "Not yet recruiting",
          "Not yet recruiting",
          "Not yet recruiting",
          "Not yet recruiting",
          "Not yet recruiting",
          "Not yet recruiting",
          "Not yet recruiting",
          "Not yet recruiting",
          "Not yet recruiting",
          "Not yet recruiting",
          "Not yet recruiting",
          "Not yet recruiting",
          "Not yet recruiting",
          "Not yet recruiting",
          "Not yet recruiting",
          "Not yet recruiting",
          "Not yet recruiting",
          "Not yet recruiting",
          "Not yet recruiting",
          "Not yet recruiting",
          "Not yet recruiting",
          "Not yet recruiting",
          "Not yet recruiting",
          "Not yet recruiting",
          "Not yet recruiting",
          "Not yet recruiting",
          "Not yet recruiting",
          "Not yet recruiting",
          "Not yet recruiting",
          "Not yet recruiting",
          "Not yet recruiting",
          "Not yet recruiting",
          "Not yet recruiting",
          "Not yet recruiting",
          "Not yet recruiting",
          "Not yet recruiting",
          "Not yet recruiting",
          "Not yet recruiting",
          "Not yet recruiting",
          "Not yet recruiting",
          "Not yet recruiting",
          "Not yet recruiting",
          "Not yet recruiting",
          "Not yet recruiting",
          "Not yet recruiting",
          "Not yet recruiting",
          "Not yet recruiting",
          "Not yet recruiting",
          "Not yet recruiting",
          "Not yet recruiting",
          "Not yet recruiting",
          "Not yet recruiting",
          "Not yet recruiting",
          "Not yet recruiting",
          "Not yet recruiting",
          "Not yet recruiting",
          "Not yet recruiting",
          "Not yet recruiting",
          "Not yet recruiting",
          "Not yet recruiting",
          "Not yet recruiting",
          "Not yet recruiting",
          "Not yet recruiting",
          "Not yet recruiting",
          "Not yet recruiting",
          "Not yet recruiting",
          "Not yet recruiting",
          "Not yet recruiting",
          "Not yet recruiting",
          "Not yet recruiting",
          "Not yet recruiting",
          "Not yet recruiting",
          "Not yet recruiting",
          "Not yet recruiting",
          "Not yet recruiting",
          "Not yet recruiting",
          "Not yet recruiting",
          "Not yet recruiting",
          "Not yet recruiting",
          "Not yet recruiting",
          "Not yet recruiting",
          "Not yet recruiting",
          "Not yet recruiting",
          "Not yet recruiting",
          "Not yet recruiting",
          "Not yet recruiting",
          "Not yet recruiting",
          "Not yet recruiting",
          "Not yet recruiting",
          "Not yet recruiting",
          "Not yet recruiting",
          "Not yet recruiting",
          "Not yet recruiting",
          "Not yet recruiting",
          "Not yet recruiting",
          "Not yet recruiting",
          "Not yet recruiting",
          "Not yet recruiting",
          "Not yet recruiting",
          "Not yet recruiting",
          "Not yet recruiting",
          "Not yet recruiting",
          "Not yet recruiting",
          "Not yet recruiting",
          "Not yet recruiting",
          "Not yet recruiting",
          "Not yet recruiting",
          "Not yet recruiting",
          "Not yet recruiting",
          "Not yet recruiting",
          "Not yet recruiting",
          "Not yet recruiting",
          "Not yet recruiting",
          "Not yet recruiting",
          "Not yet recruiting",
          "Not yet recruiting",
          "Not yet recruiting",
          "Not yet recruiting",
          "Not yet recruiting",
          "Not yet recruiting",
          "Not yet recruiting",
          "Not yet recruiting",
          "Not yet recruiting",
          "Not yet recruiting",
          "Not yet recruiting",
          "Not yet recruiting",
          "Not yet recruiting",
          "Not yet recruiting",
          "Not yet recruiting",
          "Not yet recruiting",
          "Not yet recruiting",
          "Not yet recruiting",
          "Not yet recruiting",
          "Not yet recruiting",
          "Not yet recruiting",
          "Not yet recruiting",
          "Not yet recruiting",
          "Not yet recruiting",
          "Not yet recruiting",
          "Not yet recruiting",
          "Not yet recruiting",
          "Not yet recruiting",
          "Not yet recruiting",
          "Not yet recruiting",
          "Not yet recruiting",
          "Not yet recruiting",
          "Not yet recruiting",
          "Not yet recruiting",
          "Not yet recruiting",
          "Not yet recruiting",
          "Not yet recruiting",
          "Not yet recruiting",
          "Not yet recruiting",
          "Not yet recruiting",
          "Not yet recruiting",
          "Not yet recruiting",
          "Not yet recruiting",
          "Not yet recruiting",
          "Not yet recruiting",
          "Not yet recruiting",
          "Not yet recruiting",
          "Not yet recruiting",
          "Not yet recruiting",
          "Not yet recruiting",
          "Not yet recruiting",
          "Not yet recruiting",
          "Not yet recruiting",
          "Not yet recruiting",
          "Not yet recruiting",
          "Not yet recruiting",
          "Not yet recruiting",
          "Not yet recruiting",
          "Not yet recruiting",
          "Not yet recruiting",
          "Not yet recruiting",
          "Not yet recruiting",
          "Not yet recruiting",
          "Not yet recruiting",
          "Not yet recruiting",
          "Not yet recruiting",
          "Not yet recruiting",
          "Not yet recruiting",
          "Not yet recruiting",
          "Not yet recruiting",
          "Not yet recruiting",
          "Not yet recruiting",
          "Not yet recruiting",
          "Not yet recruiting",
          "Not yet recruiting",
          "Not yet recruiting",
          "Not yet recruiting",
          "Not yet recruiting",
          "Not yet recruiting",
          "Not yet recruiting",
          "Not yet recruiting",
          "Not yet recruiting",
          "Not yet recruiting",
          "Not yet recruiting",
          "Not yet recruiting",
          "Not yet recruiting",
          "Not yet recruiting",
          "Not yet recruiting",
          "Not yet recruiting",
          "Not yet recruiting",
          "Not yet recruiting",
          "Not yet recruiting",
          "Not yet recruiting",
          "Not yet recruiting",
          "Not yet recruiting",
          "Not yet recruiting",
          "Not yet recruiting",
          "Not yet recruiting",
          "Not yet recruiting",
          "Not yet recruiting",
          "Not yet recruiting",
          "Not yet recruiting",
          "Not yet recruiting",
          "Not yet recruiting",
          "Not yet recruiting",
          "Not yet recruiting",
          "Not yet recruiting",
          "Not yet recruiting",
          "Not yet recruiting",
          "Not yet recruiting",
          "Not yet recruiting",
          "Not yet recruiting",
          "Not yet recruiting",
          "Not yet recruiting",
          "Not yet recruiting",
          "Not yet recruiting",
          "Not yet recruiting",
          "Not yet recruiting",
          "Not yet recruiting",
          "Not yet recruiting",
          "Not yet recruiting",
          "Not yet recruiting",
          "Not yet recruiting",
          "Not yet recruiting",
          "Not yet recruiting",
          "Not yet recruiting",
          "Not yet recruiting",
          "Not yet recruiting",
          "Not yet recruiting",
          "Not yet recruiting",
          "Not yet recruiting",
          "Not yet recruiting",
          "Not yet recruiting",
          "Not yet recruiting",
          "Not yet recruiting",
          "Not yet recruiting",
          "Not yet recruiting",
          "Not yet recruiting",
          "Not yet recruiting",
          "Not yet recruiting",
          "Not yet recruiting",
          "Not yet recruiting",
          "Not yet recruiting",
          "Not yet recruiting",
          "Not yet recruiting",
          "Not yet recruiting",
          "Not yet recruiting",
          "Not yet recruiting",
          "Not yet recruiting",
          "Not yet recruiting",
          "Not yet recruiting",
          "Not yet recruiting",
          "Not yet recruiting",
          "Not yet recruiting",
          "Not yet recruiting",
          "Not yet recruiting",
          "Not yet recruiting",
          "Not yet recruiting",
          "Not yet recruiting",
          "Not yet recruiting",
          "Not yet recruiting",
          "Not yet recruiting",
          "Not yet recruiting",
          "Not yet recruiting",
          "Not yet recruiting",
          "Not yet recruiting",
          "Not yet recruiting",
          "Not yet recruiting",
          "Not yet recruiting",
          "Not yet recruiting",
          "Not yet recruiting",
          "Not yet recruiting",
          "Not yet recruiting",
          "Not yet recruiting",
          "Not yet recruiting",
          "Not yet recruiting",
          "Not yet recruiting",
          "Not yet recruiting",
          "Not yet recruiting",
          "Not yet recruiting",
          "Not yet recruiting",
          "Not yet recruiting",
          "Not yet recruiting",
          "Not yet recruiting",
          "Not yet recruiting",
          "Not yet recruiting",
          "Not yet recruiting",
          "Not yet recruiting",
          "Not yet recruiting",
          "Not yet recruiting",
          "Not yet recruiting",
          "Not yet recruiting",
          "Not yet recruiting",
          "Not yet recruiting",
          "Not yet recruiting",
          "Not yet recruiting",
          "Not yet recruiting",
          "Not yet recruiting",
          "Not yet recruiting",
          "Not yet recruiting",
          "Not yet recruiting",
          "Not yet recruiting",
          "Not yet recruiting",
          "Not yet recruiting",
          "Not yet recruiting",
          "Not yet recruiting",
          "Not yet recruiting",
          "Not yet recruiting",
          "Not yet recruiting",
          "Not yet recruiting",
          "Not yet recruiting",
          "Not yet recruiting",
          "Not yet recruiting",
          "Not yet recruiting",
          "Not yet recruiting",
          "Not yet recruiting",
          "Not yet recruiting",
          "Not yet recruiting",
          "Not yet recruiting",
          "Not yet recruiting",
          "Not yet recruiting",
          "Not yet recruiting",
          "Not yet recruiting",
          "Not yet recruiting",
          "Not yet recruiting",
          "Not yet recruiting",
          "Not yet recruiting",
          "Not yet recruiting",
          "Not yet recruiting",
          "Not yet recruiting",
          "Not yet recruiting",
          "Not yet recruiting",
          "Not yet recruiting",
          "Not yet recruiting",
          "Not yet recruiting",
          "Not yet recruiting",
          "Not yet recruiting",
          "Not yet recruiting",
          "Not yet recruiting",
          "Not yet recruiting",
          "Not yet recruiting",
          "Not yet recruiting",
          "Not yet recruiting",
          "Not yet recruiting",
          "Not yet recruiting",
          "Not yet recruiting",
          "Not yet recruiting",
          "Not yet recruiting",
          "Not yet recruiting",
          "Not yet recruiting",
          "Not yet recruiting",
          "Not yet recruiting",
          "Not yet recruiting",
          "Not yet recruiting",
          "Not yet recruiting",
          "Not yet recruiting",
          "Not yet recruiting",
          "Not yet recruiting",
          "Not yet recruiting",
          "Not yet recruiting",
          "Not yet recruiting",
          "Not yet recruiting",
          "Not yet recruiting",
          "Not yet recruiting",
          "Not yet recruiting",
          "Not yet recruiting",
          "Not yet recruiting",
          "Not yet recruiting",
          "Not yet recruiting",
          "Not yet recruiting",
          "Not yet recruiting",
          "Not yet recruiting",
          "Not yet recruiting",
          "Not yet recruiting",
          "Not yet recruiting",
          "Not yet recruiting",
          "Not yet recruiting",
          "Not yet recruiting",
          "Not yet recruiting",
          "Not yet recruiting",
          "Not yet recruiting",
          "Not yet recruiting",
          "Not yet recruiting",
          "Not yet recruiting",
          "Not yet recruiting",
          "Not yet recruiting",
          "Not yet recruiting",
          "Not yet recruiting",
          "Not yet recruiting",
          "Not yet recruiting",
          "Not yet recruiting",
          "Not yet recruiting",
          "Not yet recruiting",
          "Not yet recruiting",
          "Not yet recruiting",
          "Not yet recruiting",
          "Not yet recruiting",
          "Not yet recruiting",
          "Not yet recruiting",
          "Not yet recruiting",
          "Not yet recruiting",
          "Not yet recruiting",
          "Not yet recruiting",
          "Not yet recruiting",
          "Not yet recruiting",
          "Not yet recruiting",
          "Not yet recruiting",
          "Not yet recruiting",
          "Not yet recruiting",
          "Not yet recruiting",
          "Not yet recruiting",
          "Not yet recruiting",
          "Not yet recruiting",
          "Not yet recruiting",
          "Not yet recruiting",
          "Not yet recruiting",
          "Not yet recruiting",
          "Not yet recruiting",
          "Not yet recruiting",
          "Not yet recruiting",
          "Not yet recruiting",
          "Not yet recruiting",
          "Not yet recruiting",
          "Not yet recruiting",
          "Not yet recruiting",
          "Not yet recruiting",
          "Not yet recruiting",
          "Not yet recruiting",
          "Not yet recruiting",
          "Not yet recruiting",
          "Not yet recruiting",
          "Not yet recruiting",
          "Not yet recruiting",
          "Not yet recruiting",
          "Not yet recruiting",
          "Not yet recruiting",
          "Not yet recruiting",
          "Not yet recruiting",
          "Not yet recruiting",
          "Not yet recruiting",
          "Not yet recruiting",
          "Not yet recruiting",
          "Not yet recruiting",
          "Not yet recruiting",
          "Not yet recruiting",
          "Not yet recruiting",
          "Not yet recruiting",
          "Not yet recruiting",
          "Not yet recruiting",
          "Not yet recruiting",
          "Not yet recruiting",
          "Not yet recruiting",
          "Not yet recruiting",
          "Not yet recruiting",
          "Not yet recruiting",
          "Not yet recruiting",
          "Not yet recruiting",
          "Not yet recruiting",
          "Not yet recruiting",
          "Not yet recruiting",
          "Not yet recruiting",
          "Not yet recruiting",
          "Not yet recruiting",
          "Not yet recruiting",
          "Not yet recruiting",
          "Not yet recruiting",
          "Not yet recruiting",
          "Not yet recruiting",
          "Not yet recruiting",
          "Not yet recruiting",
          "Not yet recruiting",
          "Not yet recruiting",
          "Not yet recruiting",
          "Not yet recruiting",
          "Not yet recruiting",
          "Not yet recruiting",
          "Not yet recruiting",
          "Not yet recruiting",
          "Not yet recruiting",
          "Not yet recruiting",
          "Not yet recruiting",
          "Not yet recruiting",
          "Not yet recruiting",
          "Not yet recruiting",
          "Not yet recruiting",
          "Not yet recruiting",
          "Not yet recruiting",
          "Not yet recruiting",
          "Not yet recruiting",
          "Not yet recruiting",
          "Not yet recruiting",
          "Not yet recruiting",
          "Not yet recruiting",
          "Not yet recruiting",
          "Not yet recruiting",
          "Not yet recruiting",
          "Not yet recruiting",
          "Not yet recruiting",
          "Not yet recruiting",
          "Not yet recruiting",
          "Not yet recruiting",
          "Not yet recruiting",
          "Not yet recruiting",
          "Not yet recruiting",
          "Not yet recruiting",
          "Not yet recruiting",
          "Not yet recruiting",
          "Not yet recruiting",
          "Not yet recruiting",
          "Not yet recruiting",
          "Not yet recruiting",
          "Not yet recruiting",
          "Not yet recruiting",
          "Not yet recruiting",
          "Not yet recruiting",
          "Not yet recruiting",
          "Not yet recruiting",
          "Not yet recruiting",
          "Not yet recruiting",
          "Not yet recruiting",
          "Not yet recruiting",
          "Not yet recruiting",
          "Not yet recruiting",
          "Not yet recruiting",
          "Not yet recruiting",
          "Not yet recruiting",
          "Not yet recruiting",
          "Not yet recruiting",
          "Not yet recruiting",
          "Not yet recruiting",
          "Not yet recruiting",
          "Not yet recruiting",
          "Not yet recruiting",
          "Not yet recruiting",
          "Not yet recruiting",
          "Not yet recruiting",
          "Not yet recruiting",
          "Not yet recruiting",
          "Not yet recruiting",
          "Not yet recruiting",
          "Not yet recruiting",
          "Not yet recruiting",
          "Not yet recruiting",
          "Not yet recruiting",
          "Not yet recruiting",
          "Not yet recruiting",
          "Not yet recruiting",
          "Not yet recruiting",
          "Not yet recruiting",
          "Not yet recruiting",
          "Not yet recruiting",
          "Not yet recruiting",
          "Not yet recruiting",
          "Not yet recruiting",
          "Not yet recruiting",
          "Not yet recruiting",
          "Not yet recruiting",
          "Not yet recruiting",
          "Not yet recruiting",
          "Not yet recruiting",
          "Not yet recruiting",
          "Not yet recruiting",
          "Not yet recruiting",
          "Not yet recruiting",
          "Not yet recruiting",
          "Not yet recruiting",
          "Not yet recruiting",
          "Not yet recruiting",
          "Not yet recruiting",
          "Not yet recruiting",
          "Not yet recruiting",
          "Not yet recruiting",
          "Not yet recruiting",
          "Not yet recruiting",
          "Not yet recruiting",
          "Not yet recruiting",
          "Not yet recruiting",
          "Not yet recruiting",
          "Not yet recruiting",
          "Not yet recruiting",
          "Not yet recruiting",
          "Not yet recruiting",
          "Not yet recruiting",
          "Not yet recruiting",
          "Not yet recruiting",
          "Not yet recruiting",
          "Not yet recruiting",
          "Not yet recruiting",
          "Not yet recruiting",
          "Not yet recruiting",
          "Not yet recruiting",
          "Not yet recruiting",
          "Not yet recruiting",
          "Not yet recruiting",
          "Not yet recruiting",
          "Not yet recruiting",
          "Not yet recruiting",
          "Not yet recruiting",
          "Not yet recruiting",
          "Not yet recruiting",
          "Not yet recruiting",
          "Not yet recruiting",
          "Not yet recruiting",
          "Not yet recruiting",
          "Not yet recruiting",
          "Not yet recruiting",
          "Not yet recruiting",
          "Not yet recruiting",
          "Not yet recruiting",
          "Not yet recruiting",
          "Not yet recruiting",
          "Not yet recruiting",
          "Not yet recruiting",
          "Not yet recruiting",
          "Not yet recruiting",
          "Not yet recruiting",
          "Not yet recruiting",
          "Not yet recruiting",
          "Not yet recruiting",
          "Not yet recruiting",
          "Not yet recruiting",
          "Not yet recruiting",
          "Not yet recruiting",
          "Not yet recruiting",
          "Not yet recruiting",
          "Not yet recruiting",
          "Not yet recruiting",
          "Not yet recruiting",
          "Not yet recruiting",
          "Not yet recruiting",
          "Not yet recruiting",
          "Not yet recruiting",
          "Not yet recruiting",
          "Not yet recruiting",
          "Not yet recruiting",
          "Not yet recruiting",
          "Not yet recruiting",
          "Not yet recruiting",
          "Not yet recruiting",
          "Not yet recruiting",
          "Not yet recruiting",
          "Not yet recruiting",
          "Not yet recruiting",
          "Not yet recruiting",
          "Not yet recruiting",
          "Not yet recruiting",
          "Not yet recruiting",
          "Not yet recruiting",
          "Not yet recruiting",
          "Not yet recruiting",
          "Not yet recruiting",
          "Not yet recruiting",
          "Not yet recruiting",
          "Not yet recruiting",
          "Not yet recruiting",
          "Not yet recruiting",
          "Not yet recruiting",
          "Not yet recruiting",
          "Not yet recruiting",
          "Not yet recruiting",
          "Not yet recruiting",
          "Not yet recruiting",
          "Not yet recruiting",
          "Not yet recruiting",
          "Not yet recruiting",
          "Not yet recruiting",
          "Not yet recruiting",
          "Not yet recruiting",
          "Not yet recruiting",
          "Not yet recruiting",
          "Not yet recruiting",
          "Not yet recruiting",
          "Not yet recruiting",
          "Not yet recruiting",
          "Not yet recruiting",
          "Not yet recruiting",
          "Not yet recruiting",
          "Not yet recruiting",
          "Not yet recruiting",
          "Not yet recruiting",
          "Not yet recruiting",
          "Not yet recruiting",
          "Not yet recruiting",
          "Not yet recruiting",
          "Not yet recruiting",
          "Not yet recruiting",
          "Not yet recruiting",
          "Not yet recruiting",
          "Not yet recruiting",
          "Not yet recruiting",
          "Not yet recruiting",
          "Not yet recruiting",
          "Not yet recruiting",
          "Not yet recruiting",
          "Not yet recruiting",
          "Not yet recruiting",
          "Not yet recruiting",
          "Not yet recruiting",
          "Not yet recruiting",
          "Not yet recruiting",
          "Not yet recruiting",
          "Not yet recruiting",
          "Not yet recruiting",
          "Not yet recruiting",
          "Not yet recruiting",
          "Not yet recruiting",
          "Not yet recruiting",
          "Not yet recruiting",
          "Not yet recruiting",
          "Not yet recruiting",
          "Not yet recruiting",
          "Not yet recruiting",
          "Not yet recruiting",
          "Not yet recruiting",
          "Not yet recruiting",
          "Not yet recruiting",
          "Not yet recruiting",
          "Not yet recruiting",
          "Not yet recruiting",
          "Not yet recruiting",
          "Not yet recruiting",
          "Not yet recruiting",
          "Not yet recruiting",
          "Not yet recruiting",
          "Not yet recruiting",
          "Not yet recruiting",
          "Not yet recruiting",
          "Not yet recruiting",
          "Not yet recruiting",
          "Not yet recruiting",
          "Not yet recruiting",
          "Not yet recruiting",
          "Not yet recruiting",
          "Not yet recruiting",
          "Not yet recruiting",
          "Not yet recruiting",
          "Not yet recruiting",
          "Not yet recruiting",
          "Not yet recruiting",
          "Not yet recruiting",
          "Not yet recruiting",
          "Not yet recruiting",
          "Not yet recruiting",
          "Not yet recruiting",
          "Not yet recruiting",
          "Not yet recruiting",
          "Not yet recruiting",
          "Not yet recruiting",
          "Not yet recruiting",
          "Not yet recruiting",
          "Not yet recruiting",
          "Not yet recruiting",
          "Not yet recruiting",
          "Not yet recruiting",
          "Not yet recruiting",
          "Not yet recruiting",
          "Not yet recruiting",
          "Not yet recruiting",
          "Not yet recruiting",
          "Not yet recruiting",
          "Not yet recruiting",
          "Not yet recruiting",
          "Not yet recruiting",
          "Not yet recruiting",
          "Not yet recruiting",
          "Not yet recruiting",
          "Not yet recruiting",
          "Not yet recruiting",
          "Not yet recruiting",
          "Not yet recruiting",
          "Not yet recruiting",
          "Not yet recruiting",
          "Not yet recruiting",
          "Not yet recruiting",
          "Not yet recruiting",
          "Not yet recruiting",
          "Not yet recruiting",
          "Not yet recruiting",
          "Not yet recruiting",
          "Not yet recruiting",
          "Not yet recruiting",
          "Not yet recruiting",
          "Not yet recruiting",
          "Not yet recruiting",
          "Not yet recruiting",
          "Not yet recruiting",
          "Not yet recruiting",
          "Not yet recruiting",
          "Not yet recruiting",
          "Not yet recruiting",
          "Not yet recruiting",
          "Not yet recruiting",
          "Not yet recruiting",
          "Not yet recruiting",
          "Not yet recruiting",
          "Not yet recruiting",
          "Not yet recruiting",
          "Not yet recruiting",
          "Not yet recruiting",
          "Not yet recruiting",
          "Not yet recruiting",
          "Not yet recruiting",
          "Not yet recruiting",
          "Not yet recruiting",
          "Not yet recruiting",
          "Not yet recruiting",
          "Not yet recruiting",
          "Not yet recruiting",
          "Not yet recruiting",
          "Not yet recruiting",
          "Not yet recruiting",
          "Not yet recruiting",
          "Not yet recruiting",
          "Not yet recruiting",
          "Not yet recruiting",
          "Not yet recruiting",
          "Not yet recruiting",
          "Not yet recruiting",
          "Not yet recruiting",
          "Not yet recruiting",
          "Not yet recruiting",
          "Not yet recruiting",
          "Not yet recruiting",
          "Not yet recruiting",
          "Not yet recruiting",
          "Not yet recruiting",
          "Not yet recruiting",
          "Not yet recruiting",
          "Not yet recruiting",
          "Not yet recruiting",
          "Not yet recruiting",
          "Not yet recruiting",
          "Not yet recruiting",
          "Not yet recruiting",
          "Not yet recruiting",
          "Not yet recruiting",
          "Not yet recruiting",
          "Not yet recruiting",
          "Not yet recruiting",
          "Not yet recruiting",
          "Not yet recruiting",
          "Not yet recruiting",
          "Not yet recruiting",
          "Not yet recruiting",
          "Not yet recruiting",
          "Not yet recruiting",
          "Not yet recruiting",
          "Not yet recruiting",
          "Not yet recruiting",
          "Not yet recruiting",
          "Not yet recruiting",
          "Not yet recruiting",
          "Not yet recruiting",
          "Not yet recruiting",
          "Not yet recruiting",
          "Not yet recruiting",
          "Not yet recruiting",
          "Not yet recruiting",
          "Not yet recruiting",
          "Not yet recruiting",
          "Not yet recruiting",
          "Not yet recruiting",
          "Not yet recruiting",
          "Not yet recruiting",
          "Not yet recruiting",
          "Not yet recruiting",
          "Not yet recruiting",
          "Not yet recruiting",
          "Not yet recruiting",
          "Not yet recruiting",
          "Not yet recruiting",
          "Not yet recruiting",
          "Not yet recruiting",
          "Not yet recruiting",
          "Not yet recruiting",
          "Not yet recruiting",
          "Not yet recruiting",
          "Not yet recruiting",
          "Not yet recruiting",
          "Not yet recruiting",
          "Not yet recruiting",
          "Not yet recruiting",
          "Not yet recruiting",
          "Not yet recruiting",
          "Not yet recruiting",
          "Not yet recruiting",
          "Not yet recruiting",
          "Not yet recruiting",
          "Not yet recruiting",
          "Not yet recruiting",
          "Not yet recruiting",
          "Not yet recruiting",
          "Not yet recruiting",
          "Not yet recruiting",
          "Not yet recruiting",
          "Not yet recruiting",
          "Not yet recruiting",
          "Not yet recruiting",
          "Not yet recruiting",
          "Not yet recruiting",
          "Not yet recruiting",
          "Not yet recruiting",
          "Not yet recruiting",
          "Not yet recruiting",
          "Not yet recruiting",
          "Not yet recruiting",
          "Not yet recruiting",
          "Not yet recruiting"
         ],
         "x0": " ",
         "xaxis": "x",
         "y": {
          "bdata": "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",
          "dtype": "f8"
         },
         "y0": " ",
         "yaxis": "y"
        },
        {
         "alignmentgroup": "True",
         "box": {
          "visible": true
         },
         "hovertemplate": "Status=%{x}<br>Enrollment=%{y}<extra></extra>",
         "legendgroup": "Recruiting",
         "marker": {
          "color": "#00cc96"
         },
         "name": "Recruiting",
         "offsetgroup": "Recruiting",
         "orientation": "v",
         "points": "all",
         "scalegroup": "True",
         "showlegend": true,
         "type": "violin",
         "x": [
          "Recruiting",
          "Recruiting",
          "Recruiting",
          "Recruiting",
          "Recruiting",
          "Recruiting",
          "Recruiting",
          "Recruiting",
          "Recruiting",
          "Recruiting",
          "Recruiting",
          "Recruiting",
          "Recruiting",
          "Recruiting",
          "Recruiting",
          "Recruiting",
          "Recruiting",
          "Recruiting",
          "Recruiting",
          "Recruiting",
          "Recruiting",
          "Recruiting",
          "Recruiting",
          "Recruiting",
          "Recruiting",
          "Recruiting",
          "Recruiting",
          "Recruiting",
          "Recruiting",
          "Recruiting",
          "Recruiting",
          "Recruiting",
          "Recruiting",
          "Recruiting",
          "Recruiting",
          "Recruiting",
          "Recruiting",
          "Recruiting",
          "Recruiting",
          "Recruiting",
          "Recruiting",
          "Recruiting",
          "Recruiting",
          "Recruiting",
          "Recruiting",
          "Recruiting",
          "Recruiting",
          "Recruiting",
          "Recruiting",
          "Recruiting",
          "Recruiting",
          "Recruiting",
          "Recruiting",
          "Recruiting",
          "Recruiting",
          "Recruiting",
          "Recruiting",
          "Recruiting",
          "Recruiting",
          "Recruiting",
          "Recruiting",
          "Recruiting",
          "Recruiting",
          "Recruiting",
          "Recruiting",
          "Recruiting",
          "Recruiting",
          "Recruiting",
          "Recruiting",
          "Recruiting",
          "Recruiting",
          "Recruiting",
          "Recruiting",
          "Recruiting",
          "Recruiting",
          "Recruiting",
          "Recruiting",
          "Recruiting",
          "Recruiting",
          "Recruiting",
          "Recruiting",
          "Recruiting",
          "Recruiting",
          "Recruiting",
          "Recruiting",
          "Recruiting",
          "Recruiting",
          "Recruiting",
          "Recruiting",
          "Recruiting",
          "Recruiting",
          "Recruiting",
          "Recruiting",
          "Recruiting",
          "Recruiting",
          "Recruiting",
          "Recruiting",
          "Recruiting",
          "Recruiting",
          "Recruiting",
          "Recruiting",
          "Recruiting",
          "Recruiting",
          "Recruiting",
          "Recruiting",
          "Recruiting",
          "Recruiting",
          "Recruiting",
          "Recruiting",
          "Recruiting",
          "Recruiting",
          "Recruiting",
          "Recruiting",
          "Recruiting",
          "Recruiting",
          "Recruiting",
          "Recruiting",
          "Recruiting",
          "Recruiting",
          "Recruiting",
          "Recruiting",
          "Recruiting",
          "Recruiting",
          "Recruiting",
          "Recruiting",
          "Recruiting",
          "Recruiting",
          "Recruiting",
          "Recruiting",
          "Recruiting",
          "Recruiting",
          "Recruiting",
          "Recruiting",
          "Recruiting",
          "Recruiting",
          "Recruiting",
          "Recruiting",
          "Recruiting",
          "Recruiting",
          "Recruiting",
          "Recruiting",
          "Recruiting",
          "Recruiting",
          "Recruiting",
          "Recruiting",
          "Recruiting",
          "Recruiting",
          "Recruiting",
          "Recruiting",
          "Recruiting",
          "Recruiting",
          "Recruiting",
          "Recruiting",
          "Recruiting",
          "Recruiting",
          "Recruiting",
          "Recruiting",
          "Recruiting",
          "Recruiting",
          "Recruiting",
          "Recruiting",
          "Recruiting",
          "Recruiting",
          "Recruiting",
          "Recruiting",
          "Recruiting",
          "Recruiting",
          "Recruiting",
          "Recruiting",
          "Recruiting",
          "Recruiting",
          "Recruiting",
          "Recruiting",
          "Recruiting",
          "Recruiting",
          "Recruiting",
          "Recruiting",
          "Recruiting",
          "Recruiting",
          "Recruiting",
          "Recruiting",
          "Recruiting",
          "Recruiting",
          "Recruiting",
          "Recruiting",
          "Recruiting",
          "Recruiting",
          "Recruiting",
          "Recruiting",
          "Recruiting",
          "Recruiting",
          "Recruiting",
          "Recruiting",
          "Recruiting",
          "Recruiting",
          "Recruiting",
          "Recruiting",
          "Recruiting",
          "Recruiting",
          "Recruiting",
          "Recruiting",
          "Recruiting",
          "Recruiting",
          "Recruiting",
          "Recruiting",
          "Recruiting",
          "Recruiting",
          "Recruiting",
          "Recruiting",
          "Recruiting",
          "Recruiting",
          "Recruiting",
          "Recruiting",
          "Recruiting",
          "Recruiting",
          "Recruiting",
          "Recruiting",
          "Recruiting",
          "Recruiting",
          "Recruiting",
          "Recruiting",
          "Recruiting",
          "Recruiting",
          "Recruiting",
          "Recruiting",
          "Recruiting",
          "Recruiting",
          "Recruiting",
          "Recruiting",
          "Recruiting",
          "Recruiting",
          "Recruiting",
          "Recruiting",
          "Recruiting",
          "Recruiting",
          "Recruiting",
          "Recruiting",
          "Recruiting",
          "Recruiting",
          "Recruiting",
          "Recruiting",
          "Recruiting",
          "Recruiting",
          "Recruiting",
          "Recruiting",
          "Recruiting",
          "Recruiting",
          "Recruiting",
          "Recruiting",
          "Recruiting",
          "Recruiting",
          "Recruiting",
          "Recruiting",
          "Recruiting",
          "Recruiting",
          "Recruiting",
          "Recruiting",
          "Recruiting",
          "Recruiting",
          "Recruiting",
          "Recruiting",
          "Recruiting",
          "Recruiting",
          "Recruiting",
          "Recruiting",
          "Recruiting",
          "Recruiting",
          "Recruiting",
          "Recruiting",
          "Recruiting",
          "Recruiting",
          "Recruiting",
          "Recruiting",
          "Recruiting",
          "Recruiting",
          "Recruiting",
          "Recruiting",
          "Recruiting",
          "Recruiting",
          "Recruiting",
          "Recruiting",
          "Recruiting",
          "Recruiting",
          "Recruiting",
          "Recruiting",
          "Recruiting",
          "Recruiting",
          "Recruiting",
          "Recruiting",
          "Recruiting",
          "Recruiting",
          "Recruiting",
          "Recruiting",
          "Recruiting",
          "Recruiting",
          "Recruiting",
          "Recruiting",
          "Recruiting",
          "Recruiting",
          "Recruiting",
          "Recruiting",
          "Recruiting",
          "Recruiting",
          "Recruiting",
          "Recruiting",
          "Recruiting",
          "Recruiting",
          "Recruiting",
          "Recruiting",
          "Recruiting",
          "Recruiting",
          "Recruiting",
          "Recruiting",
          "Recruiting",
          "Recruiting",
          "Recruiting",
          "Recruiting",
          "Recruiting",
          "Recruiting",
          "Recruiting",
          "Recruiting",
          "Recruiting",
          "Recruiting",
          "Recruiting",
          "Recruiting",
          "Recruiting",
          "Recruiting",
          "Recruiting",
          "Recruiting",
          "Recruiting",
          "Recruiting",
          "Recruiting",
          "Recruiting",
          "Recruiting",
          "Recruiting",
          "Recruiting",
          "Recruiting",
          "Recruiting",
          "Recruiting",
          "Recruiting",
          "Recruiting",
          "Recruiting",
          "Recruiting",
          "Recruiting",
          "Recruiting",
          "Recruiting",
          "Recruiting",
          "Recruiting",
          "Recruiting",
          "Recruiting",
          "Recruiting",
          "Recruiting",
          "Recruiting",
          "Recruiting",
          "Recruiting",
          "Recruiting",
          "Recruiting",
          "Recruiting",
          "Recruiting",
          "Recruiting",
          "Recruiting",
          "Recruiting",
          "Recruiting",
          "Recruiting",
          "Recruiting",
          "Recruiting",
          "Recruiting",
          "Recruiting",
          "Recruiting",
          "Recruiting",
          "Recruiting",
          "Recruiting",
          "Recruiting",
          "Recruiting",
          "Recruiting",
          "Recruiting",
          "Recruiting",
          "Recruiting",
          "Recruiting",
          "Recruiting",
          "Recruiting",
          "Recruiting",
          "Recruiting",
          "Recruiting",
          "Recruiting",
          "Recruiting",
          "Recruiting",
          "Recruiting",
          "Recruiting",
          "Recruiting",
          "Recruiting",
          "Recruiting",
          "Recruiting",
          "Recruiting",
          "Recruiting",
          "Recruiting",
          "Recruiting",
          "Recruiting",
          "Recruiting",
          "Recruiting",
          "Recruiting",
          "Recruiting",
          "Recruiting",
          "Recruiting",
          "Recruiting",
          "Recruiting",
          "Recruiting",
          "Recruiting",
          "Recruiting",
          "Recruiting",
          "Recruiting",
          "Recruiting",
          "Recruiting",
          "Recruiting",
          "Recruiting",
          "Recruiting",
          "Recruiting",
          "Recruiting",
          "Recruiting",
          "Recruiting",
          "Recruiting",
          "Recruiting",
          "Recruiting",
          "Recruiting",
          "Recruiting",
          "Recruiting",
          "Recruiting",
          "Recruiting",
          "Recruiting",
          "Recruiting",
          "Recruiting",
          "Recruiting",
          "Recruiting",
          "Recruiting",
          "Recruiting",
          "Recruiting",
          "Recruiting",
          "Recruiting",
          "Recruiting",
          "Recruiting",
          "Recruiting",
          "Recruiting",
          "Recruiting",
          "Recruiting",
          "Recruiting",
          "Recruiting",
          "Recruiting",
          "Recruiting",
          "Recruiting",
          "Recruiting",
          "Recruiting",
          "Recruiting",
          "Recruiting",
          "Recruiting",
          "Recruiting",
          "Recruiting",
          "Recruiting",
          "Recruiting",
          "Recruiting",
          "Recruiting",
          "Recruiting",
          "Recruiting",
          "Recruiting",
          "Recruiting",
          "Recruiting",
          "Recruiting",
          "Recruiting",
          "Recruiting",
          "Recruiting",
          "Recruiting",
          "Recruiting",
          "Recruiting",
          "Recruiting",
          "Recruiting",
          "Recruiting",
          "Recruiting",
          "Recruiting",
          "Recruiting",
          "Recruiting",
          "Recruiting",
          "Recruiting",
          "Recruiting",
          "Recruiting",
          "Recruiting",
          "Recruiting",
          "Recruiting",
          "Recruiting",
          "Recruiting",
          "Recruiting",
          "Recruiting",
          "Recruiting",
          "Recruiting",
          "Recruiting",
          "Recruiting",
          "Recruiting",
          "Recruiting",
          "Recruiting",
          "Recruiting",
          "Recruiting",
          "Recruiting",
          "Recruiting",
          "Recruiting",
          "Recruiting",
          "Recruiting",
          "Recruiting",
          "Recruiting",
          "Recruiting",
          "Recruiting",
          "Recruiting",
          "Recruiting",
          "Recruiting",
          "Recruiting",
          "Recruiting",
          "Recruiting",
          "Recruiting",
          "Recruiting",
          "Recruiting",
          "Recruiting",
          "Recruiting",
          "Recruiting",
          "Recruiting",
          "Recruiting",
          "Recruiting",
          "Recruiting",
          "Recruiting",
          "Recruiting",
          "Recruiting",
          "Recruiting",
          "Recruiting",
          "Recruiting",
          "Recruiting",
          "Recruiting",
          "Recruiting",
          "Recruiting",
          "Recruiting",
          "Recruiting",
          "Recruiting",
          "Recruiting",
          "Recruiting",
          "Recruiting",
          "Recruiting",
          "Recruiting",
          "Recruiting",
          "Recruiting",
          "Recruiting",
          "Recruiting",
          "Recruiting",
          "Recruiting",
          "Recruiting",
          "Recruiting",
          "Recruiting",
          "Recruiting",
          "Recruiting",
          "Recruiting",
          "Recruiting",
          "Recruiting",
          "Recruiting",
          "Recruiting",
          "Recruiting",
          "Recruiting",
          "Recruiting",
          "Recruiting",
          "Recruiting",
          "Recruiting",
          "Recruiting",
          "Recruiting",
          "Recruiting",
          "Recruiting",
          "Recruiting",
          "Recruiting",
          "Recruiting",
          "Recruiting",
          "Recruiting",
          "Recruiting",
          "Recruiting",
          "Recruiting",
          "Recruiting",
          "Recruiting",
          "Recruiting",
          "Recruiting",
          "Recruiting",
          "Recruiting",
          "Recruiting",
          "Recruiting",
          "Recruiting",
          "Recruiting",
          "Recruiting",
          "Recruiting",
          "Recruiting",
          "Recruiting",
          "Recruiting",
          "Recruiting",
          "Recruiting",
          "Recruiting",
          "Recruiting",
          "Recruiting",
          "Recruiting",
          "Recruiting",
          "Recruiting",
          "Recruiting",
          "Recruiting",
          "Recruiting",
          "Recruiting",
          "Recruiting",
          "Recruiting",
          "Recruiting",
          "Recruiting",
          "Recruiting",
          "Recruiting",
          "Recruiting",
          "Recruiting",
          "Recruiting",
          "Recruiting",
          "Recruiting",
          "Recruiting",
          "Recruiting",
          "Recruiting",
          "Recruiting",
          "Recruiting",
          "Recruiting",
          "Recruiting",
          "Recruiting",
          "Recruiting",
          "Recruiting",
          "Recruiting",
          "Recruiting",
          "Recruiting",
          "Recruiting",
          "Recruiting",
          "Recruiting",
          "Recruiting",
          "Recruiting",
          "Recruiting",
          "Recruiting",
          "Recruiting",
          "Recruiting",
          "Recruiting",
          "Recruiting",
          "Recruiting",
          "Recruiting",
          "Recruiting",
          "Recruiting",
          "Recruiting",
          "Recruiting",
          "Recruiting",
          "Recruiting",
          "Recruiting",
          "Recruiting",
          "Recruiting",
          "Recruiting",
          "Recruiting",
          "Recruiting",
          "Recruiting",
          "Recruiting",
          "Recruiting",
          "Recruiting",
          "Recruiting",
          "Recruiting",
          "Recruiting",
          "Recruiting",
          "Recruiting",
          "Recruiting",
          "Recruiting",
          "Recruiting",
          "Recruiting",
          "Recruiting",
          "Recruiting",
          "Recruiting",
          "Recruiting",
          "Recruiting",
          "Recruiting",
          "Recruiting",
          "Recruiting",
          "Recruiting",
          "Recruiting",
          "Recruiting",
          "Recruiting",
          "Recruiting",
          "Recruiting",
          "Recruiting",
          "Recruiting",
          "Recruiting",
          "Recruiting",
          "Recruiting",
          "Recruiting",
          "Recruiting",
          "Recruiting",
          "Recruiting",
          "Recruiting",
          "Recruiting",
          "Recruiting",
          "Recruiting",
          "Recruiting",
          "Recruiting",
          "Recruiting",
          "Recruiting",
          "Recruiting",
          "Recruiting",
          "Recruiting",
          "Recruiting",
          "Recruiting",
          "Recruiting",
          "Recruiting",
          "Recruiting",
          "Recruiting",
          "Recruiting",
          "Recruiting",
          "Recruiting",
          "Recruiting",
          "Recruiting",
          "Recruiting",
          "Recruiting",
          "Recruiting",
          "Recruiting",
          "Recruiting",
          "Recruiting",
          "Recruiting",
          "Recruiting",
          "Recruiting",
          "Recruiting",
          "Recruiting",
          "Recruiting",
          "Recruiting",
          "Recruiting",
          "Recruiting",
          "Recruiting",
          "Recruiting",
          "Recruiting",
          "Recruiting",
          "Recruiting",
          "Recruiting",
          "Recruiting",
          "Recruiting",
          "Recruiting",
          "Recruiting",
          "Recruiting",
          "Recruiting",
          "Recruiting",
          "Recruiting",
          "Recruiting",
          "Recruiting",
          "Recruiting",
          "Recruiting",
          "Recruiting",
          "Recruiting",
          "Recruiting",
          "Recruiting",
          "Recruiting",
          "Recruiting",
          "Recruiting",
          "Recruiting",
          "Recruiting",
          "Recruiting",
          "Recruiting",
          "Recruiting",
          "Recruiting",
          "Recruiting",
          "Recruiting",
          "Recruiting",
          "Recruiting",
          "Recruiting",
          "Recruiting",
          "Recruiting",
          "Recruiting",
          "Recruiting",
          "Recruiting",
          "Recruiting",
          "Recruiting",
          "Recruiting",
          "Recruiting",
          "Recruiting",
          "Recruiting",
          "Recruiting",
          "Recruiting",
          "Recruiting",
          "Recruiting",
          "Recruiting",
          "Recruiting",
          "Recruiting",
          "Recruiting",
          "Recruiting",
          "Recruiting",
          "Recruiting",
          "Recruiting",
          "Recruiting",
          "Recruiting",
          "Recruiting",
          "Recruiting",
          "Recruiting",
          "Recruiting",
          "Recruiting",
          "Recruiting",
          "Recruiting",
          "Recruiting",
          "Recruiting",
          "Recruiting",
          "Recruiting",
          "Recruiting",
          "Recruiting",
          "Recruiting",
          "Recruiting",
          "Recruiting",
          "Recruiting",
          "Recruiting",
          "Recruiting",
          "Recruiting",
          "Recruiting",
          "Recruiting",
          "Recruiting",
          "Recruiting",
          "Recruiting",
          "Recruiting",
          "Recruiting",
          "Recruiting",
          "Recruiting",
          "Recruiting",
          "Recruiting",
          "Recruiting",
          "Recruiting",
          "Recruiting",
          "Recruiting",
          "Recruiting",
          "Recruiting",
          "Recruiting",
          "Recruiting",
          "Recruiting",
          "Recruiting",
          "Recruiting",
          "Recruiting",
          "Recruiting",
          "Recruiting",
          "Recruiting",
          "Recruiting",
          "Recruiting",
          "Recruiting",
          "Recruiting",
          "Recruiting",
          "Recruiting",
          "Recruiting",
          "Recruiting",
          "Recruiting",
          "Recruiting",
          "Recruiting",
          "Recruiting",
          "Recruiting",
          "Recruiting",
          "Recruiting",
          "Recruiting",
          "Recruiting",
          "Recruiting",
          "Recruiting",
          "Recruiting",
          "Recruiting",
          "Recruiting",
          "Recruiting",
          "Recruiting",
          "Recruiting",
          "Recruiting",
          "Recruiting",
          "Recruiting",
          "Recruiting",
          "Recruiting",
          "Recruiting",
          "Recruiting",
          "Recruiting",
          "Recruiting",
          "Recruiting",
          "Recruiting",
          "Recruiting",
          "Recruiting",
          "Recruiting",
          "Recruiting",
          "Recruiting",
          "Recruiting",
          "Recruiting",
          "Recruiting",
          "Recruiting",
          "Recruiting",
          "Recruiting",
          "Recruiting",
          "Recruiting",
          "Recruiting",
          "Recruiting",
          "Recruiting",
          "Recruiting",
          "Recruiting",
          "Recruiting",
          "Recruiting",
          "Recruiting",
          "Recruiting",
          "Recruiting",
          "Recruiting",
          "Recruiting",
          "Recruiting",
          "Recruiting",
          "Recruiting",
          "Recruiting",
          "Recruiting",
          "Recruiting",
          "Recruiting",
          "Recruiting",
          "Recruiting",
          "Recruiting",
          "Recruiting",
          "Recruiting",
          "Recruiting",
          "Recruiting",
          "Recruiting",
          "Recruiting",
          "Recruiting",
          "Recruiting",
          "Recruiting",
          "Recruiting",
          "Recruiting",
          "Recruiting",
          "Recruiting",
          "Recruiting",
          "Recruiting",
          "Recruiting",
          "Recruiting",
          "Recruiting",
          "Recruiting",
          "Recruiting",
          "Recruiting",
          "Recruiting",
          "Recruiting",
          "Recruiting",
          "Recruiting",
          "Recruiting",
          "Recruiting",
          "Recruiting",
          "Recruiting",
          "Recruiting",
          "Recruiting",
          "Recruiting",
          "Recruiting",
          "Recruiting",
          "Recruiting",
          "Recruiting",
          "Recruiting",
          "Recruiting",
          "Recruiting",
          "Recruiting",
          "Recruiting",
          "Recruiting",
          "Recruiting",
          "Recruiting",
          "Recruiting",
          "Recruiting",
          "Recruiting",
          "Recruiting",
          "Recruiting",
          "Recruiting",
          "Recruiting",
          "Recruiting",
          "Recruiting",
          "Recruiting",
          "Recruiting",
          "Recruiting",
          "Recruiting",
          "Recruiting",
          "Recruiting",
          "Recruiting",
          "Recruiting",
          "Recruiting",
          "Recruiting",
          "Recruiting",
          "Recruiting",
          "Recruiting",
          "Recruiting",
          "Recruiting",
          "Recruiting",
          "Recruiting",
          "Recruiting",
          "Recruiting",
          "Recruiting",
          "Recruiting",
          "Recruiting",
          "Recruiting",
          "Recruiting",
          "Recruiting",
          "Recruiting",
          "Recruiting",
          "Recruiting",
          "Recruiting",
          "Recruiting",
          "Recruiting",
          "Recruiting",
          "Recruiting",
          "Recruiting",
          "Recruiting",
          "Recruiting",
          "Recruiting",
          "Recruiting",
          "Recruiting",
          "Recruiting",
          "Recruiting",
          "Recruiting",
          "Recruiting",
          "Recruiting",
          "Recruiting",
          "Recruiting",
          "Recruiting",
          "Recruiting",
          "Recruiting",
          "Recruiting",
          "Recruiting",
          "Recruiting",
          "Recruiting",
          "Recruiting",
          "Recruiting",
          "Recruiting",
          "Recruiting",
          "Recruiting",
          "Recruiting",
          "Recruiting",
          "Recruiting",
          "Recruiting",
          "Recruiting",
          "Recruiting",
          "Recruiting",
          "Recruiting",
          "Recruiting",
          "Recruiting",
          "Recruiting",
          "Recruiting",
          "Recruiting",
          "Recruiting",
          "Recruiting",
          "Recruiting",
          "Recruiting",
          "Recruiting",
          "Recruiting",
          "Recruiting",
          "Recruiting",
          "Recruiting",
          "Recruiting",
          "Recruiting",
          "Recruiting",
          "Recruiting",
          "Recruiting",
          "Recruiting",
          "Recruiting",
          "Recruiting",
          "Recruiting",
          "Recruiting",
          "Recruiting",
          "Recruiting",
          "Recruiting",
          "Recruiting",
          "Recruiting",
          "Recruiting",
          "Recruiting",
          "Recruiting",
          "Recruiting",
          "Recruiting",
          "Recruiting",
          "Recruiting",
          "Recruiting",
          "Recruiting",
          "Recruiting",
          "Recruiting",
          "Recruiting",
          "Recruiting",
          "Recruiting",
          "Recruiting",
          "Recruiting",
          "Recruiting",
          "Recruiting",
          "Recruiting",
          "Recruiting",
          "Recruiting",
          "Recruiting",
          "Recruiting",
          "Recruiting",
          "Recruiting",
          "Recruiting",
          "Recruiting",
          "Recruiting",
          "Recruiting",
          "Recruiting",
          "Recruiting",
          "Recruiting",
          "Recruiting",
          "Recruiting",
          "Recruiting",
          "Recruiting",
          "Recruiting",
          "Recruiting",
          "Recruiting",
          "Recruiting",
          "Recruiting",
          "Recruiting",
          "Recruiting",
          "Recruiting",
          "Recruiting",
          "Recruiting",
          "Recruiting",
          "Recruiting",
          "Recruiting",
          "Recruiting",
          "Recruiting",
          "Recruiting",
          "Recruiting",
          "Recruiting",
          "Recruiting",
          "Recruiting",
          "Recruiting",
          "Recruiting",
          "Recruiting",
          "Recruiting",
          "Recruiting",
          "Recruiting",
          "Recruiting",
          "Recruiting",
          "Recruiting",
          "Recruiting",
          "Recruiting",
          "Recruiting",
          "Recruiting",
          "Recruiting",
          "Recruiting",
          "Recruiting",
          "Recruiting",
          "Recruiting",
          "Recruiting",
          "Recruiting",
          "Recruiting",
          "Recruiting",
          "Recruiting",
          "Recruiting",
          "Recruiting",
          "Recruiting",
          "Recruiting",
          "Recruiting",
          "Recruiting",
          "Recruiting",
          "Recruiting",
          "Recruiting",
          "Recruiting",
          "Recruiting",
          "Recruiting",
          "Recruiting",
          "Recruiting",
          "Recruiting",
          "Recruiting",
          "Recruiting",
          "Recruiting",
          "Recruiting",
          "Recruiting",
          "Recruiting",
          "Recruiting",
          "Recruiting",
          "Recruiting",
          "Recruiting",
          "Recruiting",
          "Recruiting",
          "Recruiting",
          "Recruiting",
          "Recruiting",
          "Recruiting",
          "Recruiting",
          "Recruiting",
          "Recruiting",
          "Recruiting",
          "Recruiting",
          "Recruiting",
          "Recruiting",
          "Recruiting",
          "Recruiting",
          "Recruiting",
          "Recruiting",
          "Recruiting",
          "Recruiting",
          "Recruiting",
          "Recruiting",
          "Recruiting",
          "Recruiting",
          "Recruiting",
          "Recruiting",
          "Recruiting",
          "Recruiting",
          "Recruiting",
          "Recruiting",
          "Recruiting",
          "Recruiting",
          "Recruiting",
          "Recruiting",
          "Recruiting",
          "Recruiting",
          "Recruiting",
          "Recruiting",
          "Recruiting",
          "Recruiting",
          "Recruiting",
          "Recruiting",
          "Recruiting",
          "Recruiting",
          "Recruiting",
          "Recruiting",
          "Recruiting",
          "Recruiting",
          "Recruiting",
          "Recruiting",
          "Recruiting",
          "Recruiting",
          "Recruiting",
          "Recruiting",
          "Recruiting",
          "Recruiting",
          "Recruiting",
          "Recruiting",
          "Recruiting",
          "Recruiting",
          "Recruiting",
          "Recruiting",
          "Recruiting",
          "Recruiting",
          "Recruiting",
          "Recruiting",
          "Recruiting",
          "Recruiting",
          "Recruiting",
          "Recruiting",
          "Recruiting",
          "Recruiting",
          "Recruiting",
          "Recruiting",
          "Recruiting",
          "Recruiting",
          "Recruiting",
          "Recruiting",
          "Recruiting",
          "Recruiting",
          "Recruiting",
          "Recruiting",
          "Recruiting",
          "Recruiting",
          "Recruiting",
          "Recruiting",
          "Recruiting",
          "Recruiting",
          "Recruiting",
          "Recruiting",
          "Recruiting",
          "Recruiting",
          "Recruiting",
          "Recruiting",
          "Recruiting",
          "Recruiting",
          "Recruiting",
          "Recruiting",
          "Recruiting",
          "Recruiting",
          "Recruiting",
          "Recruiting",
          "Recruiting",
          "Recruiting",
          "Recruiting",
          "Recruiting",
          "Recruiting",
          "Recruiting",
          "Recruiting",
          "Recruiting",
          "Recruiting",
          "Recruiting",
          "Recruiting",
          "Recruiting",
          "Recruiting",
          "Recruiting",
          "Recruiting",
          "Recruiting",
          "Recruiting",
          "Recruiting",
          "Recruiting",
          "Recruiting",
          "Recruiting",
          "Recruiting",
          "Recruiting",
          "Recruiting",
          "Recruiting",
          "Recruiting",
          "Recruiting",
          "Recruiting",
          "Recruiting",
          "Recruiting",
          "Recruiting",
          "Recruiting",
          "Recruiting",
          "Recruiting",
          "Recruiting",
          "Recruiting",
          "Recruiting",
          "Recruiting",
          "Recruiting",
          "Recruiting",
          "Recruiting",
          "Recruiting",
          "Recruiting",
          "Recruiting",
          "Recruiting",
          "Recruiting",
          "Recruiting",
          "Recruiting",
          "Recruiting",
          "Recruiting",
          "Recruiting",
          "Recruiting",
          "Recruiting",
          "Recruiting",
          "Recruiting",
          "Recruiting",
          "Recruiting",
          "Recruiting",
          "Recruiting",
          "Recruiting",
          "Recruiting",
          "Recruiting",
          "Recruiting",
          "Recruiting",
          "Recruiting",
          "Recruiting",
          "Recruiting",
          "Recruiting",
          "Recruiting",
          "Recruiting",
          "Recruiting",
          "Recruiting",
          "Recruiting",
          "Recruiting",
          "Recruiting",
          "Recruiting",
          "Recruiting",
          "Recruiting",
          "Recruiting",
          "Recruiting",
          "Recruiting",
          "Recruiting",
          "Recruiting",
          "Recruiting",
          "Recruiting",
          "Recruiting",
          "Recruiting",
          "Recruiting",
          "Recruiting",
          "Recruiting",
          "Recruiting",
          "Recruiting",
          "Recruiting",
          "Recruiting",
          "Recruiting",
          "Recruiting",
          "Recruiting",
          "Recruiting",
          "Recruiting",
          "Recruiting",
          "Recruiting",
          "Recruiting",
          "Recruiting",
          "Recruiting",
          "Recruiting",
          "Recruiting",
          "Recruiting",
          "Recruiting",
          "Recruiting",
          "Recruiting",
          "Recruiting",
          "Recruiting",
          "Recruiting",
          "Recruiting",
          "Recruiting",
          "Recruiting",
          "Recruiting",
          "Recruiting",
          "Recruiting",
          "Recruiting",
          "Recruiting",
          "Recruiting",
          "Recruiting",
          "Recruiting",
          "Recruiting",
          "Recruiting",
          "Recruiting",
          "Recruiting",
          "Recruiting",
          "Recruiting",
          "Recruiting",
          "Recruiting",
          "Recruiting",
          "Recruiting",
          "Recruiting",
          "Recruiting",
          "Recruiting",
          "Recruiting",
          "Recruiting",
          "Recruiting",
          "Recruiting",
          "Recruiting",
          "Recruiting",
          "Recruiting",
          "Recruiting",
          "Recruiting",
          "Recruiting",
          "Recruiting",
          "Recruiting",
          "Recruiting",
          "Recruiting",
          "Recruiting",
          "Recruiting",
          "Recruiting",
          "Recruiting",
          "Recruiting",
          "Recruiting",
          "Recruiting",
          "Recruiting",
          "Recruiting",
          "Recruiting",
          "Recruiting",
          "Recruiting",
          "Recruiting",
          "Recruiting",
          "Recruiting",
          "Recruiting",
          "Recruiting",
          "Recruiting",
          "Recruiting",
          "Recruiting",
          "Recruiting",
          "Recruiting",
          "Recruiting",
          "Recruiting",
          "Recruiting",
          "Recruiting",
          "Recruiting",
          "Recruiting",
          "Recruiting",
          "Recruiting",
          "Recruiting",
          "Recruiting",
          "Recruiting",
          "Recruiting",
          "Recruiting",
          "Recruiting",
          "Recruiting",
          "Recruiting",
          "Recruiting",
          "Recruiting",
          "Recruiting",
          "Recruiting",
          "Recruiting",
          "Recruiting",
          "Recruiting",
          "Recruiting",
          "Recruiting",
          "Recruiting",
          "Recruiting",
          "Recruiting",
          "Recruiting",
          "Recruiting",
          "Recruiting",
          "Recruiting",
          "Recruiting",
          "Recruiting",
          "Recruiting",
          "Recruiting",
          "Recruiting",
          "Recruiting",
          "Recruiting",
          "Recruiting",
          "Recruiting",
          "Recruiting",
          "Recruiting",
          "Recruiting",
          "Recruiting",
          "Recruiting",
          "Recruiting",
          "Recruiting",
          "Recruiting",
          "Recruiting",
          "Recruiting",
          "Recruiting",
          "Recruiting",
          "Recruiting",
          "Recruiting",
          "Recruiting",
          "Recruiting",
          "Recruiting",
          "Recruiting",
          "Recruiting",
          "Recruiting",
          "Recruiting",
          "Recruiting",
          "Recruiting",
          "Recruiting",
          "Recruiting",
          "Recruiting",
          "Recruiting",
          "Recruiting",
          "Recruiting",
          "Recruiting",
          "Recruiting",
          "Recruiting",
          "Recruiting",
          "Recruiting",
          "Recruiting",
          "Recruiting",
          "Recruiting",
          "Recruiting",
          "Recruiting",
          "Recruiting",
          "Recruiting",
          "Recruiting",
          "Recruiting",
          "Recruiting",
          "Recruiting",
          "Recruiting",
          "Recruiting",
          "Recruiting",
          "Recruiting",
          "Recruiting",
          "Recruiting",
          "Recruiting",
          "Recruiting",
          "Recruiting",
          "Recruiting",
          "Recruiting",
          "Recruiting",
          "Recruiting",
          "Recruiting",
          "Recruiting",
          "Recruiting",
          "Recruiting",
          "Recruiting",
          "Recruiting",
          "Recruiting",
          "Recruiting",
          "Recruiting",
          "Recruiting",
          "Recruiting",
          "Recruiting",
          "Recruiting",
          "Recruiting",
          "Recruiting",
          "Recruiting",
          "Recruiting",
          "Recruiting",
          "Recruiting",
          "Recruiting",
          "Recruiting",
          "Recruiting",
          "Recruiting",
          "Recruiting",
          "Recruiting",
          "Recruiting",
          "Recruiting",
          "Recruiting",
          "Recruiting",
          "Recruiting",
          "Recruiting",
          "Recruiting",
          "Recruiting",
          "Recruiting",
          "Recruiting",
          "Recruiting",
          "Recruiting",
          "Recruiting",
          "Recruiting",
          "Recruiting",
          "Recruiting",
          "Recruiting",
          "Recruiting",
          "Recruiting",
          "Recruiting",
          "Recruiting",
          "Recruiting",
          "Recruiting",
          "Recruiting",
          "Recruiting",
          "Recruiting",
          "Recruiting",
          "Recruiting",
          "Recruiting",
          "Recruiting",
          "Recruiting",
          "Recruiting",
          "Recruiting",
          "Recruiting",
          "Recruiting",
          "Recruiting",
          "Recruiting",
          "Recruiting",
          "Recruiting",
          "Recruiting",
          "Recruiting",
          "Recruiting",
          "Recruiting",
          "Recruiting",
          "Recruiting",
          "Recruiting",
          "Recruiting",
          "Recruiting",
          "Recruiting",
          "Recruiting",
          "Recruiting",
          "Recruiting",
          "Recruiting",
          "Recruiting",
          "Recruiting",
          "Recruiting",
          "Recruiting",
          "Recruiting",
          "Recruiting",
          "Recruiting",
          "Recruiting",
          "Recruiting",
          "Recruiting",
          "Recruiting",
          "Recruiting",
          "Recruiting",
          "Recruiting",
          "Recruiting",
          "Recruiting",
          "Recruiting",
          "Recruiting",
          "Recruiting",
          "Recruiting",
          "Recruiting",
          "Recruiting",
          "Recruiting",
          "Recruiting",
          "Recruiting",
          "Recruiting",
          "Recruiting",
          "Recruiting",
          "Recruiting",
          "Recruiting",
          "Recruiting",
          "Recruiting",
          "Recruiting",
          "Recruiting",
          "Recruiting",
          "Recruiting",
          "Recruiting",
          "Recruiting",
          "Recruiting",
          "Recruiting",
          "Recruiting",
          "Recruiting",
          "Recruiting",
          "Recruiting",
          "Recruiting",
          "Recruiting",
          "Recruiting",
          "Recruiting",
          "Recruiting",
          "Recruiting",
          "Recruiting",
          "Recruiting",
          "Recruiting",
          "Recruiting",
          "Recruiting",
          "Recruiting",
          "Recruiting",
          "Recruiting",
          "Recruiting",
          "Recruiting",
          "Recruiting",
          "Recruiting",
          "Recruiting",
          "Recruiting",
          "Recruiting",
          "Recruiting",
          "Recruiting",
          "Recruiting",
          "Recruiting",
          "Recruiting",
          "Recruiting",
          "Recruiting",
          "Recruiting",
          "Recruiting",
          "Recruiting",
          "Recruiting",
          "Recruiting",
          "Recruiting",
          "Recruiting",
          "Recruiting",
          "Recruiting",
          "Recruiting",
          "Recruiting",
          "Recruiting",
          "Recruiting",
          "Recruiting",
          "Recruiting",
          "Recruiting",
          "Recruiting",
          "Recruiting",
          "Recruiting",
          "Recruiting",
          "Recruiting",
          "Recruiting",
          "Recruiting",
          "Recruiting",
          "Recruiting",
          "Recruiting",
          "Recruiting",
          "Recruiting",
          "Recruiting",
          "Recruiting",
          "Recruiting",
          "Recruiting",
          "Recruiting",
          "Recruiting",
          "Recruiting",
          "Recruiting",
          "Recruiting",
          "Recruiting",
          "Recruiting",
          "Recruiting",
          "Recruiting",
          "Recruiting",
          "Recruiting",
          "Recruiting",
          "Recruiting",
          "Recruiting",
          "Recruiting",
          "Recruiting",
          "Recruiting",
          "Recruiting",
          "Recruiting",
          "Recruiting",
          "Recruiting",
          "Recruiting",
          "Recruiting",
          "Recruiting",
          "Recruiting",
          "Recruiting",
          "Recruiting",
          "Recruiting",
          "Recruiting",
          "Recruiting",
          "Recruiting",
          "Recruiting",
          "Recruiting",
          "Recruiting",
          "Recruiting",
          "Recruiting",
          "Recruiting",
          "Recruiting",
          "Recruiting",
          "Recruiting",
          "Recruiting",
          "Recruiting",
          "Recruiting",
          "Recruiting",
          "Recruiting",
          "Recruiting",
          "Recruiting",
          "Recruiting",
          "Recruiting",
          "Recruiting",
          "Recruiting",
          "Recruiting",
          "Recruiting",
          "Recruiting",
          "Recruiting",
          "Recruiting",
          "Recruiting",
          "Recruiting",
          "Recruiting",
          "Recruiting",
          "Recruiting",
          "Recruiting",
          "Recruiting",
          "Recruiting",
          "Recruiting",
          "Recruiting",
          "Recruiting",
          "Recruiting",
          "Recruiting",
          "Recruiting",
          "Recruiting",
          "Recruiting",
          "Recruiting",
          "Recruiting",
          "Recruiting",
          "Recruiting",
          "Recruiting",
          "Recruiting",
          "Recruiting",
          "Recruiting",
          "Recruiting",
          "Recruiting",
          "Recruiting",
          "Recruiting",
          "Recruiting",
          "Recruiting",
          "Recruiting",
          "Recruiting",
          "Recruiting",
          "Recruiting",
          "Recruiting",
          "Recruiting",
          "Recruiting",
          "Recruiting",
          "Recruiting",
          "Recruiting",
          "Recruiting",
          "Recruiting",
          "Recruiting",
          "Recruiting",
          "Recruiting",
          "Recruiting",
          "Recruiting",
          "Recruiting",
          "Recruiting",
          "Recruiting",
          "Recruiting",
          "Recruiting",
          "Recruiting",
          "Recruiting",
          "Recruiting",
          "Recruiting",
          "Recruiting",
          "Recruiting",
          "Recruiting",
          "Recruiting",
          "Recruiting",
          "Recruiting",
          "Recruiting",
          "Recruiting",
          "Recruiting",
          "Recruiting",
          "Recruiting",
          "Recruiting",
          "Recruiting",
          "Recruiting",
          "Recruiting",
          "Recruiting",
          "Recruiting",
          "Recruiting",
          "Recruiting",
          "Recruiting",
          "Recruiting",
          "Recruiting",
          "Recruiting",
          "Recruiting",
          "Recruiting",
          "Recruiting",
          "Recruiting",
          "Recruiting",
          "Recruiting",
          "Recruiting",
          "Recruiting",
          "Recruiting",
          "Recruiting",
          "Recruiting",
          "Recruiting",
          "Recruiting",
          "Recruiting",
          "Recruiting",
          "Recruiting",
          "Recruiting",
          "Recruiting",
          "Recruiting",
          "Recruiting",
          "Recruiting",
          "Recruiting",
          "Recruiting",
          "Recruiting",
          "Recruiting",
          "Recruiting",
          "Recruiting",
          "Recruiting",
          "Recruiting",
          "Recruiting",
          "Recruiting",
          "Recruiting",
          "Recruiting",
          "Recruiting",
          "Recruiting",
          "Recruiting",
          "Recruiting",
          "Recruiting",
          "Recruiting",
          "Recruiting",
          "Recruiting",
          "Recruiting",
          "Recruiting",
          "Recruiting",
          "Recruiting",
          "Recruiting",
          "Recruiting",
          "Recruiting",
          "Recruiting",
          "Recruiting",
          "Recruiting",
          "Recruiting",
          "Recruiting",
          "Recruiting",
          "Recruiting",
          "Recruiting",
          "Recruiting",
          "Recruiting",
          "Recruiting",
          "Recruiting",
          "Recruiting",
          "Recruiting",
          "Recruiting",
          "Recruiting",
          "Recruiting",
          "Recruiting",
          "Recruiting",
          "Recruiting",
          "Recruiting",
          "Recruiting",
          "Recruiting",
          "Recruiting",
          "Recruiting",
          "Recruiting",
          "Recruiting",
          "Recruiting",
          "Recruiting",
          "Recruiting",
          "Recruiting",
          "Recruiting",
          "Recruiting",
          "Recruiting",
          "Recruiting",
          "Recruiting",
          "Recruiting",
          "Recruiting",
          "Recruiting",
          "Recruiting",
          "Recruiting",
          "Recruiting",
          "Recruiting",
          "Recruiting",
          "Recruiting",
          "Recruiting",
          "Recruiting",
          "Recruiting",
          "Recruiting",
          "Recruiting",
          "Recruiting",
          "Recruiting",
          "Recruiting",
          "Recruiting",
          "Recruiting",
          "Recruiting",
          "Recruiting",
          "Recruiting",
          "Recruiting",
          "Recruiting",
          "Recruiting",
          "Recruiting",
          "Recruiting",
          "Recruiting",
          "Recruiting",
          "Recruiting",
          "Recruiting",
          "Recruiting",
          "Recruiting",
          "Recruiting",
          "Recruiting",
          "Recruiting",
          "Recruiting",
          "Recruiting",
          "Recruiting",
          "Recruiting",
          "Recruiting",
          "Recruiting",
          "Recruiting",
          "Recruiting",
          "Recruiting",
          "Recruiting",
          "Recruiting",
          "Recruiting",
          "Recruiting",
          "Recruiting",
          "Recruiting",
          "Recruiting",
          "Recruiting",
          "Recruiting",
          "Recruiting",
          "Recruiting",
          "Recruiting",
          "Recruiting",
          "Recruiting",
          "Recruiting",
          "Recruiting",
          "Recruiting",
          "Recruiting",
          "Recruiting",
          "Recruiting",
          "Recruiting",
          "Recruiting",
          "Recruiting",
          "Recruiting",
          "Recruiting",
          "Recruiting",
          "Recruiting",
          "Recruiting",
          "Recruiting",
          "Recruiting",
          "Recruiting",
          "Recruiting",
          "Recruiting",
          "Recruiting",
          "Recruiting",
          "Recruiting",
          "Recruiting",
          "Recruiting",
          "Recruiting",
          "Recruiting",
          "Recruiting",
          "Recruiting",
          "Recruiting",
          "Recruiting",
          "Recruiting",
          "Recruiting",
          "Recruiting",
          "Recruiting",
          "Recruiting",
          "Recruiting",
          "Recruiting",
          "Recruiting",
          "Recruiting",
          "Recruiting",
          "Recruiting",
          "Recruiting",
          "Recruiting",
          "Recruiting",
          "Recruiting",
          "Recruiting",
          "Recruiting",
          "Recruiting",
          "Recruiting",
          "Recruiting",
          "Recruiting",
          "Recruiting",
          "Recruiting",
          "Recruiting",
          "Recruiting",
          "Recruiting",
          "Recruiting",
          "Recruiting",
          "Recruiting",
          "Recruiting",
          "Recruiting",
          "Recruiting",
          "Recruiting",
          "Recruiting",
          "Recruiting",
          "Recruiting",
          "Recruiting",
          "Recruiting",
          "Recruiting",
          "Recruiting",
          "Recruiting",
          "Recruiting",
          "Recruiting",
          "Recruiting",
          "Recruiting",
          "Recruiting",
          "Recruiting",
          "Recruiting",
          "Recruiting",
          "Recruiting",
          "Recruiting",
          "Recruiting",
          "Recruiting",
          "Recruiting",
          "Recruiting",
          "Recruiting",
          "Recruiting",
          "Recruiting",
          "Recruiting",
          "Recruiting",
          "Recruiting",
          "Recruiting",
          "Recruiting",
          "Recruiting",
          "Recruiting",
          "Recruiting",
          "Recruiting",
          "Recruiting",
          "Recruiting",
          "Recruiting",
          "Recruiting",
          "Recruiting",
          "Recruiting",
          "Recruiting",
          "Recruiting",
          "Recruiting",
          "Recruiting",
          "Recruiting",
          "Recruiting",
          "Recruiting",
          "Recruiting",
          "Recruiting",
          "Recruiting",
          "Recruiting",
          "Recruiting",
          "Recruiting",
          "Recruiting",
          "Recruiting",
          "Recruiting",
          "Recruiting",
          "Recruiting",
          "Recruiting",
          "Recruiting",
          "Recruiting",
          "Recruiting",
          "Recruiting",
          "Recruiting",
          "Recruiting",
          "Recruiting",
          "Recruiting",
          "Recruiting",
          "Recruiting",
          "Recruiting",
          "Recruiting",
          "Recruiting",
          "Recruiting",
          "Recruiting",
          "Recruiting",
          "Recruiting",
          "Recruiting",
          "Recruiting",
          "Recruiting",
          "Recruiting",
          "Recruiting",
          "Recruiting",
          "Recruiting",
          "Recruiting",
          "Recruiting",
          "Recruiting",
          "Recruiting",
          "Recruiting",
          "Recruiting",
          "Recruiting",
          "Recruiting",
          "Recruiting",
          "Recruiting",
          "Recruiting",
          "Recruiting",
          "Recruiting",
          "Recruiting",
          "Recruiting",
          "Recruiting",
          "Recruiting",
          "Recruiting",
          "Recruiting",
          "Recruiting",
          "Recruiting",
          "Recruiting",
          "Recruiting",
          "Recruiting",
          "Recruiting",
          "Recruiting",
          "Recruiting",
          "Recruiting",
          "Recruiting",
          "Recruiting",
          "Recruiting",
          "Recruiting",
          "Recruiting",
          "Recruiting",
          "Recruiting",
          "Recruiting",
          "Recruiting",
          "Recruiting",
          "Recruiting",
          "Recruiting",
          "Recruiting",
          "Recruiting",
          "Recruiting",
          "Recruiting",
          "Recruiting",
          "Recruiting",
          "Recruiting",
          "Recruiting",
          "Recruiting",
          "Recruiting",
          "Recruiting",
          "Recruiting",
          "Recruiting",
          "Recruiting",
          "Recruiting",
          "Recruiting",
          "Recruiting",
          "Recruiting",
          "Recruiting",
          "Recruiting",
          "Recruiting",
          "Recruiting",
          "Recruiting",
          "Recruiting",
          "Recruiting",
          "Recruiting",
          "Recruiting",
          "Recruiting",
          "Recruiting",
          "Recruiting",
          "Recruiting",
          "Recruiting",
          "Recruiting",
          "Recruiting",
          "Recruiting",
          "Recruiting",
          "Recruiting",
          "Recruiting",
          "Recruiting",
          "Recruiting",
          "Recruiting",
          "Recruiting",
          "Recruiting",
          "Recruiting",
          "Recruiting",
          "Recruiting",
          "Recruiting",
          "Recruiting",
          "Recruiting",
          "Recruiting",
          "Recruiting",
          "Recruiting",
          "Recruiting",
          "Recruiting",
          "Recruiting",
          "Recruiting",
          "Recruiting",
          "Recruiting",
          "Recruiting",
          "Recruiting",
          "Recruiting",
          "Recruiting",
          "Recruiting",
          "Recruiting",
          "Recruiting",
          "Recruiting",
          "Recruiting",
          "Recruiting",
          "Recruiting",
          "Recruiting",
          "Recruiting",
          "Recruiting",
          "Recruiting",
          "Recruiting",
          "Recruiting",
          "Recruiting",
          "Recruiting",
          "Recruiting",
          "Recruiting",
          "Recruiting",
          "Recruiting",
          "Recruiting",
          "Recruiting",
          "Recruiting",
          "Recruiting",
          "Recruiting",
          "Recruiting",
          "Recruiting",
          "Recruiting",
          "Recruiting",
          "Recruiting",
          "Recruiting",
          "Recruiting",
          "Recruiting",
          "Recruiting",
          "Recruiting",
          "Recruiting",
          "Recruiting",
          "Recruiting",
          "Recruiting",
          "Recruiting",
          "Recruiting",
          "Recruiting",
          "Recruiting",
          "Recruiting",
          "Recruiting",
          "Recruiting",
          "Recruiting",
          "Recruiting",
          "Recruiting",
          "Recruiting",
          "Recruiting",
          "Recruiting",
          "Recruiting",
          "Recruiting",
          "Recruiting",
          "Recruiting",
          "Recruiting",
          "Recruiting",
          "Recruiting",
          "Recruiting",
          "Recruiting",
          "Recruiting",
          "Recruiting",
          "Recruiting",
          "Recruiting",
          "Recruiting",
          "Recruiting",
          "Recruiting",
          "Recruiting",
          "Recruiting",
          "Recruiting",
          "Recruiting",
          "Recruiting",
          "Recruiting",
          "Recruiting",
          "Recruiting",
          "Recruiting",
          "Recruiting",
          "Recruiting",
          "Recruiting",
          "Recruiting",
          "Recruiting",
          "Recruiting",
          "Recruiting",
          "Recruiting",
          "Recruiting",
          "Recruiting",
          "Recruiting",
          "Recruiting",
          "Recruiting",
          "Recruiting",
          "Recruiting",
          "Recruiting",
          "Recruiting",
          "Recruiting",
          "Recruiting",
          "Recruiting",
          "Recruiting",
          "Recruiting",
          "Recruiting",
          "Recruiting",
          "Recruiting",
          "Recruiting",
          "Recruiting",
          "Recruiting",
          "Recruiting",
          "Recruiting",
          "Recruiting",
          "Recruiting",
          "Recruiting",
          "Recruiting",
          "Recruiting",
          "Recruiting",
          "Recruiting",
          "Recruiting",
          "Recruiting",
          "Recruiting",
          "Recruiting",
          "Recruiting",
          "Recruiting",
          "Recruiting",
          "Recruiting",
          "Recruiting",
          "Recruiting",
          "Recruiting",
          "Recruiting",
          "Recruiting",
          "Recruiting",
          "Recruiting",
          "Recruiting",
          "Recruiting",
          "Recruiting",
          "Recruiting",
          "Recruiting",
          "Recruiting",
          "Recruiting",
          "Recruiting",
          "Recruiting",
          "Recruiting",
          "Recruiting",
          "Recruiting",
          "Recruiting",
          "Recruiting",
          "Recruiting",
          "Recruiting",
          "Recruiting",
          "Recruiting",
          "Recruiting",
          "Recruiting",
          "Recruiting",
          "Recruiting",
          "Recruiting",
          "Recruiting",
          "Recruiting",
          "Recruiting",
          "Recruiting",
          "Recruiting",
          "Recruiting",
          "Recruiting",
          "Recruiting",
          "Recruiting",
          "Recruiting",
          "Recruiting",
          "Recruiting",
          "Recruiting",
          "Recruiting",
          "Recruiting",
          "Recruiting",
          "Recruiting",
          "Recruiting",
          "Recruiting",
          "Recruiting",
          "Recruiting",
          "Recruiting",
          "Recruiting",
          "Recruiting",
          "Recruiting",
          "Recruiting",
          "Recruiting",
          "Recruiting",
          "Recruiting",
          "Recruiting",
          "Recruiting",
          "Recruiting",
          "Recruiting",
          "Recruiting",
          "Recruiting",
          "Recruiting",
          "Recruiting",
          "Recruiting",
          "Recruiting",
          "Recruiting",
          "Recruiting",
          "Recruiting",
          "Recruiting",
          "Recruiting",
          "Recruiting",
          "Recruiting",
          "Recruiting",
          "Recruiting",
          "Recruiting",
          "Recruiting",
          "Recruiting",
          "Recruiting",
          "Recruiting",
          "Recruiting",
          "Recruiting",
          "Recruiting",
          "Recruiting",
          "Recruiting",
          "Recruiting",
          "Recruiting",
          "Recruiting",
          "Recruiting",
          "Recruiting",
          "Recruiting",
          "Recruiting",
          "Recruiting",
          "Recruiting",
          "Recruiting",
          "Recruiting",
          "Recruiting",
          "Recruiting",
          "Recruiting",
          "Recruiting",
          "Recruiting",
          "Recruiting",
          "Recruiting",
          "Recruiting",
          "Recruiting",
          "Recruiting",
          "Recruiting",
          "Recruiting",
          "Recruiting",
          "Recruiting",
          "Recruiting",
          "Recruiting",
          "Recruiting",
          "Recruiting",
          "Recruiting",
          "Recruiting",
          "Recruiting",
          "Recruiting",
          "Recruiting",
          "Recruiting",
          "Recruiting",
          "Recruiting",
          "Recruiting",
          "Recruiting",
          "Recruiting",
          "Recruiting",
          "Recruiting",
          "Recruiting",
          "Recruiting",
          "Recruiting",
          "Recruiting",
          "Recruiting",
          "Recruiting",
          "Recruiting",
          "Recruiting",
          "Recruiting",
          "Recruiting",
          "Recruiting",
          "Recruiting",
          "Recruiting",
          "Recruiting",
          "Recruiting",
          "Recruiting",
          "Recruiting",
          "Recruiting",
          "Recruiting",
          "Recruiting",
          "Recruiting",
          "Recruiting",
          "Recruiting",
          "Recruiting",
          "Recruiting",
          "Recruiting",
          "Recruiting",
          "Recruiting",
          "Recruiting",
          "Recruiting",
          "Recruiting",
          "Recruiting",
          "Recruiting",
          "Recruiting",
          "Recruiting",
          "Recruiting",
          "Recruiting",
          "Recruiting",
          "Recruiting",
          "Recruiting",
          "Recruiting",
          "Recruiting",
          "Recruiting",
          "Recruiting",
          "Recruiting",
          "Recruiting",
          "Recruiting",
          "Recruiting",
          "Recruiting",
          "Recruiting",
          "Recruiting",
          "Recruiting",
          "Recruiting",
          "Recruiting",
          "Recruiting",
          "Recruiting",
          "Recruiting",
          "Recruiting",
          "Recruiting",
          "Recruiting",
          "Recruiting",
          "Recruiting",
          "Recruiting",
          "Recruiting",
          "Recruiting",
          "Recruiting",
          "Recruiting",
          "Recruiting",
          "Recruiting",
          "Recruiting",
          "Recruiting",
          "Recruiting",
          "Recruiting",
          "Recruiting",
          "Recruiting",
          "Recruiting",
          "Recruiting",
          "Recruiting",
          "Recruiting",
          "Recruiting",
          "Recruiting",
          "Recruiting",
          "Recruiting",
          "Recruiting",
          "Recruiting",
          "Recruiting",
          "Recruiting",
          "Recruiting",
          "Recruiting",
          "Recruiting",
          "Recruiting",
          "Recruiting",
          "Recruiting",
          "Recruiting",
          "Recruiting",
          "Recruiting",
          "Recruiting",
          "Recruiting",
          "Recruiting",
          "Recruiting",
          "Recruiting",
          "Recruiting",
          "Recruiting",
          "Recruiting",
          "Recruiting",
          "Recruiting",
          "Recruiting",
          "Recruiting",
          "Recruiting",
          "Recruiting",
          "Recruiting",
          "Recruiting",
          "Recruiting",
          "Recruiting",
          "Recruiting",
          "Recruiting",
          "Recruiting",
          "Recruiting",
          "Recruiting",
          "Recruiting",
          "Recruiting",
          "Recruiting",
          "Recruiting",
          "Recruiting",
          "Recruiting",
          "Recruiting",
          "Recruiting",
          "Recruiting",
          "Recruiting",
          "Recruiting",
          "Recruiting",
          "Recruiting",
          "Recruiting",
          "Recruiting",
          "Recruiting",
          "Recruiting",
          "Recruiting",
          "Recruiting",
          "Recruiting",
          "Recruiting",
          "Recruiting",
          "Recruiting",
          "Recruiting",
          "Recruiting",
          "Recruiting",
          "Recruiting",
          "Recruiting",
          "Recruiting",
          "Recruiting",
          "Recruiting",
          "Recruiting",
          "Recruiting",
          "Recruiting",
          "Recruiting",
          "Recruiting",
          "Recruiting",
          "Recruiting",
          "Recruiting",
          "Recruiting",
          "Recruiting",
          "Recruiting",
          "Recruiting",
          "Recruiting",
          "Recruiting",
          "Recruiting",
          "Recruiting",
          "Recruiting",
          "Recruiting",
          "Recruiting",
          "Recruiting",
          "Recruiting",
          "Recruiting",
          "Recruiting",
          "Recruiting",
          "Recruiting",
          "Recruiting",
          "Recruiting",
          "Recruiting",
          "Recruiting",
          "Recruiting",
          "Recruiting",
          "Recruiting",
          "Recruiting",
          "Recruiting",
          "Recruiting"
         ],
         "x0": " ",
         "xaxis": "x",
         "y": {
          "bdata": "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",
          "dtype": "f8"
         },
         "y0": " ",
         "yaxis": "y"
        },
        {
         "alignmentgroup": "True",
         "box": {
          "visible": true
         },
         "hovertemplate": "Status=%{x}<br>Enrollment=%{y}<extra></extra>",
         "legendgroup": "Enrolling by invitation",
         "marker": {
          "color": "#ab63fa"
         },
         "name": "Enrolling by invitation",
         "offsetgroup": "Enrolling by invitation",
         "orientation": "v",
         "points": "all",
         "scalegroup": "True",
         "showlegend": true,
         "type": "violin",
         "x": [
          "Enrolling by invitation",
          "Enrolling by invitation",
          "Enrolling by invitation",
          "Enrolling by invitation",
          "Enrolling by invitation",
          "Enrolling by invitation",
          "Enrolling by invitation",
          "Enrolling by invitation",
          "Enrolling by invitation",
          "Enrolling by invitation",
          "Enrolling by invitation",
          "Enrolling by invitation",
          "Enrolling by invitation",
          "Enrolling by invitation",
          "Enrolling by invitation",
          "Enrolling by invitation",
          "Enrolling by invitation",
          "Enrolling by invitation",
          "Enrolling by invitation",
          "Enrolling by invitation",
          "Enrolling by invitation",
          "Enrolling by invitation",
          "Enrolling by invitation",
          "Enrolling by invitation",
          "Enrolling by invitation",
          "Enrolling by invitation",
          "Enrolling by invitation",
          "Enrolling by invitation",
          "Enrolling by invitation",
          "Enrolling by invitation",
          "Enrolling by invitation",
          "Enrolling by invitation",
          "Enrolling by invitation",
          "Enrolling by invitation",
          "Enrolling by invitation",
          "Enrolling by invitation",
          "Enrolling by invitation",
          "Enrolling by invitation",
          "Enrolling by invitation",
          "Enrolling by invitation",
          "Enrolling by invitation",
          "Enrolling by invitation",
          "Enrolling by invitation",
          "Enrolling by invitation",
          "Enrolling by invitation",
          "Enrolling by invitation",
          "Enrolling by invitation",
          "Enrolling by invitation",
          "Enrolling by invitation",
          "Enrolling by invitation",
          "Enrolling by invitation",
          "Enrolling by invitation",
          "Enrolling by invitation",
          "Enrolling by invitation",
          "Enrolling by invitation",
          "Enrolling by invitation",
          "Enrolling by invitation",
          "Enrolling by invitation",
          "Enrolling by invitation",
          "Enrolling by invitation",
          "Enrolling by invitation",
          "Enrolling by invitation",
          "Enrolling by invitation",
          "Enrolling by invitation",
          "Enrolling by invitation",
          "Enrolling by invitation",
          "Enrolling by invitation",
          "Enrolling by invitation",
          "Enrolling by invitation",
          "Enrolling by invitation",
          "Enrolling by invitation",
          "Enrolling by invitation",
          "Enrolling by invitation",
          "Enrolling by invitation",
          "Enrolling by invitation",
          "Enrolling by invitation",
          "Enrolling by invitation",
          "Enrolling by invitation",
          "Enrolling by invitation",
          "Enrolling by invitation",
          "Enrolling by invitation",
          "Enrolling by invitation",
          "Enrolling by invitation",
          "Enrolling by invitation",
          "Enrolling by invitation",
          "Enrolling by invitation",
          "Enrolling by invitation",
          "Enrolling by invitation",
          "Enrolling by invitation",
          "Enrolling by invitation",
          "Enrolling by invitation",
          "Enrolling by invitation",
          "Enrolling by invitation",
          "Enrolling by invitation",
          "Enrolling by invitation",
          "Enrolling by invitation",
          "Enrolling by invitation",
          "Enrolling by invitation",
          "Enrolling by invitation",
          "Enrolling by invitation",
          "Enrolling by invitation",
          "Enrolling by invitation",
          "Enrolling by invitation",
          "Enrolling by invitation",
          "Enrolling by invitation",
          "Enrolling by invitation",
          "Enrolling by invitation",
          "Enrolling by invitation",
          "Enrolling by invitation",
          "Enrolling by invitation",
          "Enrolling by invitation",
          "Enrolling by invitation",
          "Enrolling by invitation",
          "Enrolling by invitation",
          "Enrolling by invitation",
          "Enrolling by invitation",
          "Enrolling by invitation",
          "Enrolling by invitation",
          "Enrolling by invitation",
          "Enrolling by invitation",
          "Enrolling by invitation",
          "Enrolling by invitation",
          "Enrolling by invitation",
          "Enrolling by invitation",
          "Enrolling by invitation",
          "Enrolling by invitation",
          "Enrolling by invitation",
          "Enrolling by invitation",
          "Enrolling by invitation",
          "Enrolling by invitation",
          "Enrolling by invitation",
          "Enrolling by invitation",
          "Enrolling by invitation",
          "Enrolling by invitation",
          "Enrolling by invitation",
          "Enrolling by invitation",
          "Enrolling by invitation",
          "Enrolling by invitation",
          "Enrolling by invitation",
          "Enrolling by invitation",
          "Enrolling by invitation",
          "Enrolling by invitation",
          "Enrolling by invitation",
          "Enrolling by invitation",
          "Enrolling by invitation",
          "Enrolling by invitation",
          "Enrolling by invitation",
          "Enrolling by invitation",
          "Enrolling by invitation",
          "Enrolling by invitation",
          "Enrolling by invitation",
          "Enrolling by invitation",
          "Enrolling by invitation",
          "Enrolling by invitation",
          "Enrolling by invitation",
          "Enrolling by invitation",
          "Enrolling by invitation",
          "Enrolling by invitation",
          "Enrolling by invitation",
          "Enrolling by invitation",
          "Enrolling by invitation",
          "Enrolling by invitation"
         ],
         "x0": " ",
         "xaxis": "x",
         "y": {
          "bdata": "AAAAAAAAJEAAAAAAAMByQAAAAAAAAGlAAAAAAABAj0AAAAAAAABOQAAAAAAAcKdAAAAAAADAgkAAAAAAAABOQAAAAAAAgFZAAAAAAABAf0AAAAAAAMCSQAAAAAAAQI9AAAAAAABAf0AAAAAAAABgQAAAAAAAAFlAAAAAAAAAWUAAAAAAAABpQAAAAAAA4HVAAAAAAACAQkAAAAAAAMBiQAAAAAAAwIJAAAAAAAAAaUAAAAAAAIijQAAAAAAAQH9AAAAAAAAANEAAAAAAAKCuQAAAAAAAAHlAAAAAAACAZEAAAAAAAABpQAAAAAAAQI9AAAAAAAAAXEAAAAAAAECPQAAAAAAAwHJAAAAAAAAAREAAAAAAAABZQAAAAAAAQJ9AAAAAAAAAMEAAAAAAAHB9QAAAAAAAAERAAAAAAAAAdEAAAAAAAECPQAAAAAAAQJ9AAAAAAABwl0AAAAAAAOB1QAAAAAAAwGpAAAAAAACARkAAAAAAAABpQAAAAAAAAFlAAAAAAAAAaUAAAAAAAABEQAAAAAAAAE5AAAAAAADAckAAAAAAAAAAQAAAAAAAiLNAAAAAAABAj0AAAAAAAECPQAAAAAAAAERAAAAAAABAf0AAAAAAAAA+QAAAAAAAQJ9AAAAAAAAgrEAAAAAAAABuQAAAAAAAAF5AAAAAAAAAWUAAAAAAAIizQAAAAAAAQJ9AAAAAAAAAeUAAAAAAAABJQAAAAAAAwHJAAAAAAADgbEAAAAAAAABJQAAAAAAAAF5AAAAAAAAAaUAAAAAAAABJQAAAAAAAAGlAAAAAAAAAJEAAAAAAAMCSQAAAAAAAkKpAAAAAAABAj0AAAAAAAAA+QAAAAAAAAGlAAAAAAADgjkAAAAAAAFirQAAAAAAAoHVAAAAAAADAckAAAAAAAIizQAAAAAAAcKdAAAAAAADAgkAAAAAAAABgQAAAAAAAQJ9AAAAAAAAAaUAAAAAAAMBSQAAAAAAAQG9AAAAAAAAAWUAAAAAAAIBmQAAAAAAAMJFAAAAAAAAAWUAAAAAAAIBmQAAAAAAAQI9AAAAAAAAATkAAAAAAAAA0QAAAAAAAAFlAAAAAAACghEAAAAAAAABJQAAAAAAAQI9AAAAAAAAAjkAAAAAAAIBRQAAAAAAAQH9AAAAAAABAj0AAAAAAAABZQAAAAAAAoHlAAAAAAAAAPkAAAAAAAABZQAAAAAAA4IVAAAAAAACAdEAAAAAAAIijQAAAAAAAQG9AAAAAAAAAaUAAAAAAAABJQAAAAAAAgFFAAAAAAAAAiUAAAAAAAIBhQAAAAAAAgGpAAAAAAAAAWUAAAAAAADiPQAAAAAAAAEJAAAAAAABAX0AAAAAAAMByQAAAAAAAQG9AAAAAAAAAaUAAAAAAAHCXQAAAAAAAwGJAAAAAAAAwoUAAAAAAAOBwQAAAAAAAAFlAAAAAAADAkkAAAAAAAABCQAAAAAAAQH9AAAAAAAAAZkAAAAAAAIBtQAAAAAAAAD5AAAAAAABAn0AAAAAAAECPQAAAAAAAAD5AAAAAAACIs0AAAAAAAABEQAAAAAAAgGNAAAAAAACAYUAAAAAAAECPQAAAAAAAcI1AAAAAAABwp0AAAAAAAABIQAAAAAAAADRAAAAAAAAAREAAAAAAAABZQAAAAAAAQGdAAAAAAAAAOUAAAAAAAHCHQAAAAAAAQI9AAAAAAAAAWUAAAAAAAIBjQAAAAAAAAGlA",
          "dtype": "f8"
         },
         "y0": " ",
         "yaxis": "y"
        },
        {
         "alignmentgroup": "True",
         "box": {
          "visible": true
         },
         "hovertemplate": "Status=%{x}<br>Enrollment=%{y}<extra></extra>",
         "legendgroup": "Suspended",
         "marker": {
          "color": "#FFA15A"
         },
         "name": "Suspended",
         "offsetgroup": "Suspended",
         "orientation": "v",
         "points": "all",
         "scalegroup": "True",
         "showlegend": true,
         "type": "violin",
         "x": [
          "Suspended",
          "Suspended",
          "Suspended",
          "Suspended",
          "Suspended",
          "Suspended",
          "Suspended",
          "Suspended",
          "Suspended",
          "Suspended",
          "Suspended",
          "Suspended",
          "Suspended",
          "Suspended",
          "Suspended",
          "Suspended",
          "Suspended",
          "Suspended",
          "Suspended",
          "Suspended",
          "Suspended",
          "Suspended",
          "Suspended",
          "Suspended",
          "Suspended",
          "Suspended"
         ],
         "x0": " ",
         "xaxis": "x",
         "y": {
          "bdata": "AAAAAAAASUAAAAAAAABpQAAAAAAAAF5AAAAAAADAUkAAAAAAAABZQAAAAAAAgF5AAAAAAADAUkAAAAAAAAAUQAAAAAAAkINAAAAAAAAAVEAAAAAAAMByQAAAAAAAAIRAAAAAAADAckAAAAAAAEBqQAAAAAAAQHNAAAAAAAAAaUAAAAAAAAB5QAAAAAAAADtAAAAAAADcokAAAAAAAABdQAAAAAAAAFlAAAAAAAAAJEAAAAAAAAAqQAAAAAAAQGdAAAAAAABAf0AAAAAAAFiBQA==",
          "dtype": "f8"
         },
         "y0": " ",
         "yaxis": "y"
        },
        {
         "alignmentgroup": "True",
         "box": {
          "visible": true
         },
         "hovertemplate": "Status=%{x}<br>Enrollment=%{y}<extra></extra>",
         "legendgroup": "Completed",
         "marker": {
          "color": "#19d3f3"
         },
         "name": "Completed",
         "offsetgroup": "Completed",
         "orientation": "v",
         "points": "all",
         "scalegroup": "True",
         "showlegend": true,
         "type": "violin",
         "x": [
          "Completed",
          "Completed",
          "Completed",
          "Completed",
          "Completed",
          "Completed",
          "Completed",
          "Completed",
          "Completed",
          "Completed",
          "Completed",
          "Completed",
          "Completed",
          "Completed",
          "Completed",
          "Completed",
          "Completed",
          "Completed",
          "Completed",
          "Completed",
          "Completed",
          "Completed",
          "Completed",
          "Completed",
          "Completed",
          "Completed",
          "Completed",
          "Completed",
          "Completed",
          "Completed",
          "Completed",
          "Completed",
          "Completed",
          "Completed",
          "Completed",
          "Completed",
          "Completed",
          "Completed",
          "Completed",
          "Completed",
          "Completed",
          "Completed",
          "Completed",
          "Completed",
          "Completed",
          "Completed",
          "Completed",
          "Completed",
          "Completed",
          "Completed",
          "Completed",
          "Completed",
          "Completed",
          "Completed",
          "Completed",
          "Completed",
          "Completed",
          "Completed",
          "Completed",
          "Completed",
          "Completed",
          "Completed",
          "Completed",
          "Completed",
          "Completed",
          "Completed",
          "Completed",
          "Completed",
          "Completed",
          "Completed",
          "Completed",
          "Completed",
          "Completed",
          "Completed",
          "Completed",
          "Completed",
          "Completed",
          "Completed",
          "Completed",
          "Completed",
          "Completed",
          "Completed",
          "Completed",
          "Completed",
          "Completed",
          "Completed",
          "Completed",
          "Completed",
          "Completed",
          "Completed",
          "Completed",
          "Completed",
          "Completed",
          "Completed",
          "Completed",
          "Completed",
          "Completed",
          "Completed",
          "Completed",
          "Completed",
          "Completed",
          "Completed",
          "Completed",
          "Completed",
          "Completed",
          "Completed",
          "Completed",
          "Completed",
          "Completed",
          "Completed",
          "Completed",
          "Completed",
          "Completed",
          "Completed",
          "Completed",
          "Completed",
          "Completed",
          "Completed",
          "Completed",
          "Completed",
          "Completed",
          "Completed",
          "Completed",
          "Completed",
          "Completed",
          "Completed",
          "Completed",
          "Completed",
          "Completed",
          "Completed",
          "Completed",
          "Completed",
          "Completed",
          "Completed",
          "Completed",
          "Completed",
          "Completed",
          "Completed",
          "Completed",
          "Completed",
          "Completed",
          "Completed",
          "Completed",
          "Completed",
          "Completed",
          "Completed",
          "Completed",
          "Completed",
          "Completed",
          "Completed",
          "Completed",
          "Completed",
          "Completed",
          "Completed",
          "Completed",
          "Completed",
          "Completed",
          "Completed",
          "Completed",
          "Completed",
          "Completed",
          "Completed",
          "Completed",
          "Completed",
          "Completed",
          "Completed",
          "Completed",
          "Completed",
          "Completed",
          "Completed",
          "Completed",
          "Completed",
          "Completed",
          "Completed",
          "Completed",
          "Completed",
          "Completed",
          "Completed",
          "Completed",
          "Completed",
          "Completed",
          "Completed",
          "Completed",
          "Completed",
          "Completed",
          "Completed",
          "Completed",
          "Completed",
          "Completed",
          "Completed",
          "Completed",
          "Completed",
          "Completed",
          "Completed",
          "Completed",
          "Completed",
          "Completed",
          "Completed",
          "Completed",
          "Completed",
          "Completed",
          "Completed",
          "Completed",
          "Completed",
          "Completed",
          "Completed",
          "Completed",
          "Completed",
          "Completed",
          "Completed",
          "Completed",
          "Completed",
          "Completed",
          "Completed",
          "Completed",
          "Completed",
          "Completed",
          "Completed",
          "Completed",
          "Completed",
          "Completed",
          "Completed",
          "Completed",
          "Completed",
          "Completed",
          "Completed",
          "Completed",
          "Completed",
          "Completed",
          "Completed",
          "Completed",
          "Completed",
          "Completed",
          "Completed",
          "Completed",
          "Completed",
          "Completed",
          "Completed",
          "Completed",
          "Completed",
          "Completed",
          "Completed",
          "Completed",
          "Completed",
          "Completed",
          "Completed",
          "Completed",
          "Completed",
          "Completed",
          "Completed",
          "Completed",
          "Completed",
          "Completed",
          "Completed",
          "Completed",
          "Completed",
          "Completed",
          "Completed",
          "Completed",
          "Completed",
          "Completed",
          "Completed",
          "Completed",
          "Completed",
          "Completed",
          "Completed",
          "Completed",
          "Completed",
          "Completed",
          "Completed",
          "Completed",
          "Completed",
          "Completed",
          "Completed",
          "Completed",
          "Completed",
          "Completed",
          "Completed",
          "Completed",
          "Completed",
          "Completed",
          "Completed",
          "Completed",
          "Completed",
          "Completed",
          "Completed",
          "Completed",
          "Completed",
          "Completed",
          "Completed",
          "Completed",
          "Completed",
          "Completed",
          "Completed",
          "Completed",
          "Completed",
          "Completed",
          "Completed",
          "Completed",
          "Completed",
          "Completed",
          "Completed",
          "Completed",
          "Completed",
          "Completed",
          "Completed",
          "Completed",
          "Completed",
          "Completed",
          "Completed",
          "Completed",
          "Completed",
          "Completed",
          "Completed",
          "Completed",
          "Completed",
          "Completed",
          "Completed",
          "Completed",
          "Completed",
          "Completed",
          "Completed",
          "Completed",
          "Completed",
          "Completed",
          "Completed",
          "Completed",
          "Completed",
          "Completed",
          "Completed",
          "Completed",
          "Completed",
          "Completed",
          "Completed",
          "Completed",
          "Completed",
          "Completed",
          "Completed",
          "Completed",
          "Completed",
          "Completed",
          "Completed",
          "Completed",
          "Completed",
          "Completed",
          "Completed",
          "Completed",
          "Completed",
          "Completed",
          "Completed",
          "Completed",
          "Completed",
          "Completed",
          "Completed",
          "Completed",
          "Completed",
          "Completed",
          "Completed",
          "Completed",
          "Completed",
          "Completed",
          "Completed",
          "Completed",
          "Completed",
          "Completed",
          "Completed",
          "Completed",
          "Completed",
          "Completed",
          "Completed",
          "Completed",
          "Completed",
          "Completed",
          "Completed",
          "Completed",
          "Completed",
          "Completed",
          "Completed",
          "Completed",
          "Completed",
          "Completed",
          "Completed",
          "Completed",
          "Completed",
          "Completed",
          "Completed",
          "Completed",
          "Completed",
          "Completed",
          "Completed",
          "Completed",
          "Completed",
          "Completed",
          "Completed",
          "Completed",
          "Completed",
          "Completed",
          "Completed",
          "Completed",
          "Completed",
          "Completed",
          "Completed",
          "Completed",
          "Completed",
          "Completed",
          "Completed",
          "Completed",
          "Completed",
          "Completed",
          "Completed",
          "Completed",
          "Completed",
          "Completed",
          "Completed",
          "Completed",
          "Completed",
          "Completed",
          "Completed",
          "Completed",
          "Completed",
          "Completed",
          "Completed",
          "Completed",
          "Completed",
          "Completed",
          "Completed",
          "Completed",
          "Completed",
          "Completed",
          "Completed",
          "Completed",
          "Completed",
          "Completed",
          "Completed",
          "Completed",
          "Completed",
          "Completed",
          "Completed",
          "Completed",
          "Completed",
          "Completed",
          "Completed",
          "Completed",
          "Completed",
          "Completed",
          "Completed",
          "Completed",
          "Completed",
          "Completed",
          "Completed",
          "Completed",
          "Completed",
          "Completed",
          "Completed",
          "Completed",
          "Completed",
          "Completed",
          "Completed",
          "Completed",
          "Completed",
          "Completed",
          "Completed",
          "Completed",
          "Completed",
          "Completed",
          "Completed",
          "Completed",
          "Completed",
          "Completed",
          "Completed",
          "Completed",
          "Completed",
          "Completed",
          "Completed",
          "Completed",
          "Completed",
          "Completed",
          "Completed",
          "Completed",
          "Completed",
          "Completed",
          "Completed",
          "Completed",
          "Completed",
          "Completed",
          "Completed",
          "Completed",
          "Completed",
          "Completed",
          "Completed",
          "Completed",
          "Completed",
          "Completed",
          "Completed",
          "Completed",
          "Completed",
          "Completed",
          "Completed",
          "Completed",
          "Completed",
          "Completed",
          "Completed",
          "Completed",
          "Completed",
          "Completed",
          "Completed",
          "Completed",
          "Completed",
          "Completed",
          "Completed",
          "Completed",
          "Completed",
          "Completed",
          "Completed",
          "Completed",
          "Completed",
          "Completed",
          "Completed",
          "Completed",
          "Completed",
          "Completed",
          "Completed",
          "Completed",
          "Completed",
          "Completed",
          "Completed",
          "Completed",
          "Completed",
          "Completed",
          "Completed",
          "Completed",
          "Completed",
          "Completed",
          "Completed",
          "Completed",
          "Completed",
          "Completed",
          "Completed",
          "Completed",
          "Completed",
          "Completed",
          "Completed",
          "Completed",
          "Completed",
          "Completed",
          "Completed",
          "Completed",
          "Completed",
          "Completed",
          "Completed",
          "Completed",
          "Completed",
          "Completed",
          "Completed",
          "Completed",
          "Completed",
          "Completed",
          "Completed",
          "Completed",
          "Completed",
          "Completed",
          "Completed",
          "Completed",
          "Completed",
          "Completed",
          "Completed",
          "Completed",
          "Completed",
          "Completed",
          "Completed",
          "Completed",
          "Completed",
          "Completed",
          "Completed",
          "Completed",
          "Completed",
          "Completed",
          "Completed",
          "Completed",
          "Completed",
          "Completed",
          "Completed",
          "Completed",
          "Completed",
          "Completed",
          "Completed",
          "Completed",
          "Completed",
          "Completed",
          "Completed",
          "Completed",
          "Completed",
          "Completed",
          "Completed",
          "Completed",
          "Completed",
          "Completed",
          "Completed",
          "Completed",
          "Completed",
          "Completed",
          "Completed",
          "Completed",
          "Completed",
          "Completed",
          "Completed",
          "Completed",
          "Completed",
          "Completed",
          "Completed",
          "Completed",
          "Completed",
          "Completed",
          "Completed",
          "Completed",
          "Completed",
          "Completed",
          "Completed",
          "Completed",
          "Completed",
          "Completed",
          "Completed",
          "Completed",
          "Completed",
          "Completed",
          "Completed",
          "Completed",
          "Completed",
          "Completed",
          "Completed",
          "Completed",
          "Completed",
          "Completed",
          "Completed",
          "Completed",
          "Completed",
          "Completed",
          "Completed",
          "Completed",
          "Completed",
          "Completed",
          "Completed",
          "Completed",
          "Completed",
          "Completed",
          "Completed",
          "Completed",
          "Completed",
          "Completed",
          "Completed",
          "Completed",
          "Completed",
          "Completed",
          "Completed",
          "Completed",
          "Completed",
          "Completed",
          "Completed",
          "Completed",
          "Completed",
          "Completed",
          "Completed",
          "Completed",
          "Completed",
          "Completed",
          "Completed",
          "Completed",
          "Completed",
          "Completed",
          "Completed",
          "Completed",
          "Completed",
          "Completed",
          "Completed",
          "Completed",
          "Completed",
          "Completed",
          "Completed",
          "Completed",
          "Completed",
          "Completed",
          "Completed",
          "Completed",
          "Completed",
          "Completed",
          "Completed",
          "Completed",
          "Completed",
          "Completed",
          "Completed",
          "Completed",
          "Completed",
          "Completed",
          "Completed",
          "Completed",
          "Completed",
          "Completed",
          "Completed",
          "Completed",
          "Completed",
          "Completed",
          "Completed",
          "Completed",
          "Completed",
          "Completed",
          "Completed",
          "Completed",
          "Completed",
          "Completed",
          "Completed",
          "Completed",
          "Completed",
          "Completed",
          "Completed",
          "Completed",
          "Completed",
          "Completed",
          "Completed",
          "Completed",
          "Completed",
          "Completed",
          "Completed",
          "Completed",
          "Completed",
          "Completed",
          "Completed",
          "Completed",
          "Completed",
          "Completed",
          "Completed",
          "Completed",
          "Completed",
          "Completed",
          "Completed",
          "Completed",
          "Completed",
          "Completed",
          "Completed",
          "Completed",
          "Completed",
          "Completed",
          "Completed",
          "Completed",
          "Completed",
          "Completed",
          "Completed",
          "Completed",
          "Completed",
          "Completed",
          "Completed",
          "Completed",
          "Completed",
          "Completed",
          "Completed",
          "Completed",
          "Completed",
          "Completed",
          "Completed",
          "Completed",
          "Completed",
          "Completed",
          "Completed",
          "Completed",
          "Completed",
          "Completed",
          "Completed",
          "Completed",
          "Completed",
          "Completed",
          "Completed",
          "Completed",
          "Completed",
          "Completed",
          "Completed",
          "Completed",
          "Completed",
          "Completed",
          "Completed",
          "Completed",
          "Completed",
          "Completed",
          "Completed",
          "Completed",
          "Completed",
          "Completed",
          "Completed",
          "Completed",
          "Completed",
          "Completed",
          "Completed",
          "Completed",
          "Completed",
          "Completed",
          "Completed",
          "Completed",
          "Completed",
          "Completed",
          "Completed",
          "Completed",
          "Completed",
          "Completed",
          "Completed",
          "Completed",
          "Completed",
          "Completed",
          "Completed",
          "Completed",
          "Completed",
          "Completed",
          "Completed",
          "Completed",
          "Completed",
          "Completed",
          "Completed",
          "Completed",
          "Completed",
          "Completed",
          "Completed",
          "Completed",
          "Completed",
          "Completed",
          "Completed",
          "Completed",
          "Completed",
          "Completed",
          "Completed",
          "Completed",
          "Completed",
          "Completed",
          "Completed",
          "Completed",
          "Completed",
          "Completed",
          "Completed",
          "Completed",
          "Completed",
          "Completed",
          "Completed",
          "Completed",
          "Completed",
          "Completed",
          "Completed",
          "Completed",
          "Completed",
          "Completed",
          "Completed",
          "Completed",
          "Completed",
          "Completed",
          "Completed",
          "Completed",
          "Completed",
          "Completed",
          "Completed",
          "Completed",
          "Completed",
          "Completed",
          "Completed",
          "Completed",
          "Completed",
          "Completed",
          "Completed",
          "Completed",
          "Completed",
          "Completed",
          "Completed",
          "Completed",
          "Completed",
          "Completed",
          "Completed",
          "Completed",
          "Completed",
          "Completed",
          "Completed",
          "Completed",
          "Completed",
          "Completed",
          "Completed",
          "Completed",
          "Completed",
          "Completed",
          "Completed",
          "Completed",
          "Completed",
          "Completed",
          "Completed",
          "Completed",
          "Completed",
          "Completed",
          "Completed",
          "Completed",
          "Completed",
          "Completed",
          "Completed",
          "Completed",
          "Completed",
          "Completed",
          "Completed",
          "Completed",
          "Completed",
          "Completed",
          "Completed",
          "Completed",
          "Completed",
          "Completed",
          "Completed",
          "Completed",
          "Completed",
          "Completed",
          "Completed",
          "Completed",
          "Completed",
          "Completed",
          "Completed",
          "Completed",
          "Completed",
          "Completed",
          "Completed",
          "Completed",
          "Completed",
          "Completed",
          "Completed",
          "Completed",
          "Completed",
          "Completed",
          "Completed",
          "Completed",
          "Completed",
          "Completed",
          "Completed",
          "Completed",
          "Completed",
          "Completed",
          "Completed",
          "Completed",
          "Completed",
          "Completed",
          "Completed",
          "Completed",
          "Completed",
          "Completed",
          "Completed",
          "Completed",
          "Completed",
          "Completed",
          "Completed",
          "Completed",
          "Completed",
          "Completed",
          "Completed",
          "Completed",
          "Completed",
          "Completed",
          "Completed",
          "Completed",
          "Completed",
          "Completed",
          "Completed",
          "Completed",
          "Completed",
          "Completed",
          "Completed",
          "Completed",
          "Completed",
          "Completed",
          "Completed",
          "Completed",
          "Completed",
          "Completed",
          "Completed",
          "Completed",
          "Completed",
          "Completed",
          "Completed",
          "Completed",
          "Completed",
          "Completed",
          "Completed",
          "Completed",
          "Completed",
          "Completed",
          "Completed"
         ],
         "x0": " ",
         "xaxis": "x",
         "y": {
          "bdata": "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",
          "dtype": "f8"
         },
         "y0": " ",
         "yaxis": "y"
        },
        {
         "alignmentgroup": "True",
         "box": {
          "visible": true
         },
         "hovertemplate": "Status=%{x}<br>Enrollment=%{y}<extra></extra>",
         "legendgroup": "Withdrawn",
         "marker": {
          "color": "#FF6692"
         },
         "name": "Withdrawn",
         "offsetgroup": "Withdrawn",
         "orientation": "v",
         "points": "all",
         "scalegroup": "True",
         "showlegend": true,
         "type": "violin",
         "x": [
          "Withdrawn",
          "Withdrawn",
          "Withdrawn",
          "Withdrawn",
          "Withdrawn",
          "Withdrawn",
          "Withdrawn",
          "Withdrawn",
          "Withdrawn",
          "Withdrawn",
          "Withdrawn",
          "Withdrawn",
          "Withdrawn",
          "Withdrawn",
          "Withdrawn",
          "Withdrawn",
          "Withdrawn",
          "Withdrawn",
          "Withdrawn",
          "Withdrawn",
          "Withdrawn",
          "Withdrawn",
          "Withdrawn",
          "Withdrawn",
          "Withdrawn",
          "Withdrawn",
          "Withdrawn",
          "Withdrawn",
          "Withdrawn",
          "Withdrawn",
          "Withdrawn",
          "Withdrawn",
          "Withdrawn",
          "Withdrawn",
          "Withdrawn",
          "Withdrawn",
          "Withdrawn",
          "Withdrawn",
          "Withdrawn",
          "Withdrawn",
          "Withdrawn",
          "Withdrawn",
          "Withdrawn",
          "Withdrawn",
          "Withdrawn",
          "Withdrawn",
          "Withdrawn",
          "Withdrawn",
          "Withdrawn",
          "Withdrawn",
          "Withdrawn",
          "Withdrawn",
          "Withdrawn",
          "Withdrawn",
          "Withdrawn",
          "Withdrawn",
          "Withdrawn",
          "Withdrawn",
          "Withdrawn",
          "Withdrawn",
          "Withdrawn",
          "Withdrawn",
          "Withdrawn",
          "Withdrawn",
          "Withdrawn",
          "Withdrawn",
          "Withdrawn",
          "Withdrawn",
          "Withdrawn",
          "Withdrawn",
          "Withdrawn",
          "Withdrawn",
          "Withdrawn",
          "Withdrawn",
          "Withdrawn",
          "Withdrawn",
          "Withdrawn",
          "Withdrawn",
          "Withdrawn",
          "Withdrawn",
          "Withdrawn",
          "Withdrawn",
          "Withdrawn",
          "Withdrawn",
          "Withdrawn",
          "Withdrawn",
          "Withdrawn",
          "Withdrawn",
          "Withdrawn",
          "Withdrawn",
          "Withdrawn",
          "Withdrawn",
          "Withdrawn",
          "Withdrawn",
          "Withdrawn",
          "Withdrawn",
          "Withdrawn",
          "Withdrawn",
          "Withdrawn",
          "Withdrawn",
          "Withdrawn",
          "Withdrawn",
          "Withdrawn",
          "Withdrawn",
          "Withdrawn",
          "Withdrawn",
          "Withdrawn"
         ],
         "x0": " ",
         "xaxis": "x",
         "y": {
          "bdata": "AAAAAAAAAAAAAAAAAAAAAAAAAAAAAAAAAAAAAAAAAAAAAAAAAAAAAAAAAAAAAAAAAAAAAAAAAAAAAAAAAAAAAAAAAAAAAAAAAAAAAAAAAAAAAAAAAAAAAAAAAAAAAAAAAAAAAAAAAAAAAAAAAAAAAAAAAAAAAAAAAAAAAAAAAAAAAAAAAAAAAAAAAAAAAAAAAAAAAAAAAAAAAAAAAAAAAAAAAAAAAAAAAAAAAAAAAAAAAAAAAAAAAAAAAAAAAAAAAAAAAAAAAAAAAAAAAAAAAAAAAAAAAAAAAAAAAAAAAAAAAAAAAAAAAAAAAAAAAAAAAAAAAAAAAAAAAAAAAAAAAAAAAAAAAAAAAAAAAAAAAAAAAAAAAAAAAAAAAAAAAAAAAAAAAAAAAAAAAAAAAAAAAAAAAAAAAAAAAAAAAAAAAAAAAAAAAAAAAAAAAAAAAAAAAAAAAAAAAAAAAAAAAAAAAAAAAAAAAAAAAAAAAAAAAAAAAAAAAAAAAAAAAAAAAAAAAAAAAAAAAAAAAAAAAAAAAAAAAAAAAAAAAAAAAAAAAAAAAAAAAAAAAAAAAAAAAAAAAAAAAAAAAAAAAAAAAAAAAAAAAAAAAAAAAAAAAAAAAAAAAAAAAAAAAAAAAAAAAAAAAAAAAAAAAAAAAAAAAAAAAAAAAAAAAAAAAAAAAAAAAAAAAAAAAAAAAAAAAAAAAAAAAAAAAAAAAAAAAAAAAAAAAAAAAAAAAAAAAAAAAAAAAAAAAAAAAAAAAAAAAAAAAAAAAAAAAAAAAAAAAAAAAAAAAAAAAAAAAAAAAAAAAAAAAAAAAAAAAAAAAAAAAAAAAAAAAAAAAAAAAAAAAAAAAAAAAAAAAAAAAAAAAAAAAAAAAAAAAAAAAAAAAAAAAAAAAAAAAAAAAAAAAAAAAAAAAAAAAAAAAAAAAAAAAAAAAAAAAAAAAAAAAAAAAAAAAAAAAAAAAAAAAAAAAAAAAAAAAAAAAAAAAAAAAAAAAAAAAAAAAAAAAAAAAAAAAAAAAAAAAAAAAAAAAAAAAAAAAAAAAAAAAAAAAAAAAAAAAAAAAAAAAAAAAAAAAAAAAAAAAAAAAAAAAAAAAAAAAAAAAAAAAAAAAAAAAAAAAAAAAAAAAAAAAAAAAAAAAAAAAA==",
          "dtype": "f8"
         },
         "y0": " ",
         "yaxis": "y"
        },
        {
         "alignmentgroup": "True",
         "box": {
          "visible": true
         },
         "hovertemplate": "Status=%{x}<br>Enrollment=%{y}<extra></extra>",
         "legendgroup": "Terminated",
         "marker": {
          "color": "#B6E880"
         },
         "name": "Terminated",
         "offsetgroup": "Terminated",
         "orientation": "v",
         "points": "all",
         "scalegroup": "True",
         "showlegend": true,
         "type": "violin",
         "x": [
          "Terminated",
          "Terminated",
          "Terminated",
          "Terminated",
          "Terminated",
          "Terminated",
          "Terminated",
          "Terminated",
          "Terminated",
          "Terminated",
          "Terminated",
          "Terminated",
          "Terminated",
          "Terminated",
          "Terminated",
          "Terminated",
          "Terminated",
          "Terminated",
          "Terminated",
          "Terminated",
          "Terminated",
          "Terminated",
          "Terminated",
          "Terminated",
          "Terminated",
          "Terminated",
          "Terminated",
          "Terminated",
          "Terminated",
          "Terminated",
          "Terminated",
          "Terminated",
          "Terminated",
          "Terminated",
          "Terminated",
          "Terminated",
          "Terminated",
          "Terminated",
          "Terminated",
          "Terminated",
          "Terminated",
          "Terminated",
          "Terminated",
          "Terminated",
          "Terminated",
          "Terminated",
          "Terminated",
          "Terminated",
          "Terminated",
          "Terminated",
          "Terminated",
          "Terminated",
          "Terminated",
          "Terminated",
          "Terminated",
          "Terminated",
          "Terminated",
          "Terminated",
          "Terminated",
          "Terminated",
          "Terminated",
          "Terminated",
          "Terminated",
          "Terminated",
          "Terminated",
          "Terminated",
          "Terminated",
          "Terminated",
          "Terminated",
          "Terminated",
          "Terminated",
          "Terminated",
          "Terminated",
          "Terminated"
         ],
         "x0": " ",
         "xaxis": "x",
         "y": {
          "bdata": "AAAAAACAg0AAAAAAAIBCQAAAAAAAADBAAAAAAAAAMUAAAAAAAAAzQAAAAAAAAChAAAAAAAAAP0AAAAAAAIBiQAAAAAAAACZAAAAAAACAX0AAAAAAAAAxQAAAAAAAAABAAAAAAAAAVEAAAAAAAKBlQAAAAAAAACBAAAAAAAAAQkAAAAAAAMBRQAAAAAAAQGJAAAAAAAAATUAAAAAAAAAcQAAAAAAAABRAAAAAAABgakAAAAAAAIiCQAAAAAAAAABAAAAAAACAUUAAAAAAAAA0QAAAAAAAACZAAAAAAAAAIEAAAAAAAAA2QAAAAAAAAD5AAAAAAAAARkAAAAAAAAA+QAAAAAAAAERAAAAAAAAgYUAAAAAAAAA1QAAAAAAAAPA/AAAAAABAX0AAAAAAAAA+QAAAAAAAAEFAAAAAAABAU0AAAAAAAAAUQAAAAAAAwFdAAAAAAAAAFEAAAAAAAEBQQAAAAAAAADRAAAAAAAAAOUAAAAAAAIBGQAAAAAAAgEtAAAAAAAAACEAAAAAAAAAAQAAAAAAAQFpAAAAAAACAS0AAAAAAAABfQAAAAAAAADVAAAAAAAAA8D8AAAAAAKBtQAAAAAAAAEZAAAAAAAAARkAAAAAAAAAgQAAAAAAAIGBAAAAAAAAAS0AAAAAAAAAQQAAAAAAAsHJAAAAAAABwcEAAAAAAAAAcQAAAAAAAAPA/AAAAAAAAMEAAAAAAADBwQAAAAAAAAG1AAAAAAAAAAEAAAAAAAIBEQAAAAAAAgERAAAAAAAAANEAAAAAAAABMQA==",
          "dtype": "f8"
         },
         "y0": " ",
         "yaxis": "y"
        }
       ],
       "layout": {
        "legend": {
         "title": {
          "text": "Status"
         },
         "tracegroupgap": 0
        },
        "template": {
         "data": {
          "bar": [
           {
            "error_x": {
             "color": "#2a3f5f"
            },
            "error_y": {
             "color": "#2a3f5f"
            },
            "marker": {
             "line": {
              "color": "#E5ECF6",
              "width": 0.5
             },
             "pattern": {
              "fillmode": "overlay",
              "size": 10,
              "solidity": 0.2
             }
            },
            "type": "bar"
           }
          ],
          "barpolar": [
           {
            "marker": {
             "line": {
              "color": "#E5ECF6",
              "width": 0.5
             },
             "pattern": {
              "fillmode": "overlay",
              "size": 10,
              "solidity": 0.2
             }
            },
            "type": "barpolar"
           }
          ],
          "carpet": [
           {
            "aaxis": {
             "endlinecolor": "#2a3f5f",
             "gridcolor": "white",
             "linecolor": "white",
             "minorgridcolor": "white",
             "startlinecolor": "#2a3f5f"
            },
            "baxis": {
             "endlinecolor": "#2a3f5f",
             "gridcolor": "white",
             "linecolor": "white",
             "minorgridcolor": "white",
             "startlinecolor": "#2a3f5f"
            },
            "type": "carpet"
           }
          ],
          "choropleth": [
           {
            "colorbar": {
             "outlinewidth": 0,
             "ticks": ""
            },
            "type": "choropleth"
           }
          ],
          "contour": [
           {
            "colorbar": {
             "outlinewidth": 0,
             "ticks": ""
            },
            "colorscale": [
             [
              0,
              "#0d0887"
             ],
             [
              0.1111111111111111,
              "#46039f"
             ],
             [
              0.2222222222222222,
              "#7201a8"
             ],
             [
              0.3333333333333333,
              "#9c179e"
             ],
             [
              0.4444444444444444,
              "#bd3786"
             ],
             [
              0.5555555555555556,
              "#d8576b"
             ],
             [
              0.6666666666666666,
              "#ed7953"
             ],
             [
              0.7777777777777778,
              "#fb9f3a"
             ],
             [
              0.8888888888888888,
              "#fdca26"
             ],
             [
              1,
              "#f0f921"
             ]
            ],
            "type": "contour"
           }
          ],
          "contourcarpet": [
           {
            "colorbar": {
             "outlinewidth": 0,
             "ticks": ""
            },
            "type": "contourcarpet"
           }
          ],
          "heatmap": [
           {
            "colorbar": {
             "outlinewidth": 0,
             "ticks": ""
            },
            "colorscale": [
             [
              0,
              "#0d0887"
             ],
             [
              0.1111111111111111,
              "#46039f"
             ],
             [
              0.2222222222222222,
              "#7201a8"
             ],
             [
              0.3333333333333333,
              "#9c179e"
             ],
             [
              0.4444444444444444,
              "#bd3786"
             ],
             [
              0.5555555555555556,
              "#d8576b"
             ],
             [
              0.6666666666666666,
              "#ed7953"
             ],
             [
              0.7777777777777778,
              "#fb9f3a"
             ],
             [
              0.8888888888888888,
              "#fdca26"
             ],
             [
              1,
              "#f0f921"
             ]
            ],
            "type": "heatmap"
           }
          ],
          "histogram": [
           {
            "marker": {
             "pattern": {
              "fillmode": "overlay",
              "size": 10,
              "solidity": 0.2
             }
            },
            "type": "histogram"
           }
          ],
          "histogram2d": [
           {
            "colorbar": {
             "outlinewidth": 0,
             "ticks": ""
            },
            "colorscale": [
             [
              0,
              "#0d0887"
             ],
             [
              0.1111111111111111,
              "#46039f"
             ],
             [
              0.2222222222222222,
              "#7201a8"
             ],
             [
              0.3333333333333333,
              "#9c179e"
             ],
             [
              0.4444444444444444,
              "#bd3786"
             ],
             [
              0.5555555555555556,
              "#d8576b"
             ],
             [
              0.6666666666666666,
              "#ed7953"
             ],
             [
              0.7777777777777778,
              "#fb9f3a"
             ],
             [
              0.8888888888888888,
              "#fdca26"
             ],
             [
              1,
              "#f0f921"
             ]
            ],
            "type": "histogram2d"
           }
          ],
          "histogram2dcontour": [
           {
            "colorbar": {
             "outlinewidth": 0,
             "ticks": ""
            },
            "colorscale": [
             [
              0,
              "#0d0887"
             ],
             [
              0.1111111111111111,
              "#46039f"
             ],
             [
              0.2222222222222222,
              "#7201a8"
             ],
             [
              0.3333333333333333,
              "#9c179e"
             ],
             [
              0.4444444444444444,
              "#bd3786"
             ],
             [
              0.5555555555555556,
              "#d8576b"
             ],
             [
              0.6666666666666666,
              "#ed7953"
             ],
             [
              0.7777777777777778,
              "#fb9f3a"
             ],
             [
              0.8888888888888888,
              "#fdca26"
             ],
             [
              1,
              "#f0f921"
             ]
            ],
            "type": "histogram2dcontour"
           }
          ],
          "mesh3d": [
           {
            "colorbar": {
             "outlinewidth": 0,
             "ticks": ""
            },
            "type": "mesh3d"
           }
          ],
          "parcoords": [
           {
            "line": {
             "colorbar": {
              "outlinewidth": 0,
              "ticks": ""
             }
            },
            "type": "parcoords"
           }
          ],
          "pie": [
           {
            "automargin": true,
            "type": "pie"
           }
          ],
          "scatter": [
           {
            "fillpattern": {
             "fillmode": "overlay",
             "size": 10,
             "solidity": 0.2
            },
            "type": "scatter"
           }
          ],
          "scatter3d": [
           {
            "line": {
             "colorbar": {
              "outlinewidth": 0,
              "ticks": ""
             }
            },
            "marker": {
             "colorbar": {
              "outlinewidth": 0,
              "ticks": ""
             }
            },
            "type": "scatter3d"
           }
          ],
          "scattercarpet": [
           {
            "marker": {
             "colorbar": {
              "outlinewidth": 0,
              "ticks": ""
             }
            },
            "type": "scattercarpet"
           }
          ],
          "scattergeo": [
           {
            "marker": {
             "colorbar": {
              "outlinewidth": 0,
              "ticks": ""
             }
            },
            "type": "scattergeo"
           }
          ],
          "scattergl": [
           {
            "marker": {
             "colorbar": {
              "outlinewidth": 0,
              "ticks": ""
             }
            },
            "type": "scattergl"
           }
          ],
          "scattermap": [
           {
            "marker": {
             "colorbar": {
              "outlinewidth": 0,
              "ticks": ""
             }
            },
            "type": "scattermap"
           }
          ],
          "scattermapbox": [
           {
            "marker": {
             "colorbar": {
              "outlinewidth": 0,
              "ticks": ""
             }
            },
            "type": "scattermapbox"
           }
          ],
          "scatterpolar": [
           {
            "marker": {
             "colorbar": {
              "outlinewidth": 0,
              "ticks": ""
             }
            },
            "type": "scatterpolar"
           }
          ],
          "scatterpolargl": [
           {
            "marker": {
             "colorbar": {
              "outlinewidth": 0,
              "ticks": ""
             }
            },
            "type": "scatterpolargl"
           }
          ],
          "scatterternary": [
           {
            "marker": {
             "colorbar": {
              "outlinewidth": 0,
              "ticks": ""
             }
            },
            "type": "scatterternary"
           }
          ],
          "surface": [
           {
            "colorbar": {
             "outlinewidth": 0,
             "ticks": ""
            },
            "colorscale": [
             [
              0,
              "#0d0887"
             ],
             [
              0.1111111111111111,
              "#46039f"
             ],
             [
              0.2222222222222222,
              "#7201a8"
             ],
             [
              0.3333333333333333,
              "#9c179e"
             ],
             [
              0.4444444444444444,
              "#bd3786"
             ],
             [
              0.5555555555555556,
              "#d8576b"
             ],
             [
              0.6666666666666666,
              "#ed7953"
             ],
             [
              0.7777777777777778,
              "#fb9f3a"
             ],
             [
              0.8888888888888888,
              "#fdca26"
             ],
             [
              1,
              "#f0f921"
             ]
            ],
            "type": "surface"
           }
          ],
          "table": [
           {
            "cells": {
             "fill": {
              "color": "#EBF0F8"
             },
             "line": {
              "color": "white"
             }
            },
            "header": {
             "fill": {
              "color": "#C8D4E3"
             },
             "line": {
              "color": "white"
             }
            },
            "type": "table"
           }
          ]
         },
         "layout": {
          "annotationdefaults": {
           "arrowcolor": "#2a3f5f",
           "arrowhead": 0,
           "arrowwidth": 1
          },
          "autotypenumbers": "strict",
          "coloraxis": {
           "colorbar": {
            "outlinewidth": 0,
            "ticks": ""
           }
          },
          "colorscale": {
           "diverging": [
            [
             0,
             "#8e0152"
            ],
            [
             0.1,
             "#c51b7d"
            ],
            [
             0.2,
             "#de77ae"
            ],
            [
             0.3,
             "#f1b6da"
            ],
            [
             0.4,
             "#fde0ef"
            ],
            [
             0.5,
             "#f7f7f7"
            ],
            [
             0.6,
             "#e6f5d0"
            ],
            [
             0.7,
             "#b8e186"
            ],
            [
             0.8,
             "#7fbc41"
            ],
            [
             0.9,
             "#4d9221"
            ],
            [
             1,
             "#276419"
            ]
           ],
           "sequential": [
            [
             0,
             "#0d0887"
            ],
            [
             0.1111111111111111,
             "#46039f"
            ],
            [
             0.2222222222222222,
             "#7201a8"
            ],
            [
             0.3333333333333333,
             "#9c179e"
            ],
            [
             0.4444444444444444,
             "#bd3786"
            ],
            [
             0.5555555555555556,
             "#d8576b"
            ],
            [
             0.6666666666666666,
             "#ed7953"
            ],
            [
             0.7777777777777778,
             "#fb9f3a"
            ],
            [
             0.8888888888888888,
             "#fdca26"
            ],
            [
             1,
             "#f0f921"
            ]
           ],
           "sequentialminus": [
            [
             0,
             "#0d0887"
            ],
            [
             0.1111111111111111,
             "#46039f"
            ],
            [
             0.2222222222222222,
             "#7201a8"
            ],
            [
             0.3333333333333333,
             "#9c179e"
            ],
            [
             0.4444444444444444,
             "#bd3786"
            ],
            [
             0.5555555555555556,
             "#d8576b"
            ],
            [
             0.6666666666666666,
             "#ed7953"
            ],
            [
             0.7777777777777778,
             "#fb9f3a"
            ],
            [
             0.8888888888888888,
             "#fdca26"
            ],
            [
             1,
             "#f0f921"
            ]
           ]
          },
          "colorway": [
           "#636efa",
           "#EF553B",
           "#00cc96",
           "#ab63fa",
           "#FFA15A",
           "#19d3f3",
           "#FF6692",
           "#B6E880",
           "#FF97FF",
           "#FECB52"
          ],
          "font": {
           "color": "#2a3f5f"
          },
          "geo": {
           "bgcolor": "white",
           "lakecolor": "white",
           "landcolor": "#E5ECF6",
           "showlakes": true,
           "showland": true,
           "subunitcolor": "white"
          },
          "hoverlabel": {
           "align": "left"
          },
          "hovermode": "closest",
          "mapbox": {
           "style": "light"
          },
          "paper_bgcolor": "white",
          "plot_bgcolor": "#E5ECF6",
          "polar": {
           "angularaxis": {
            "gridcolor": "white",
            "linecolor": "white",
            "ticks": ""
           },
           "bgcolor": "#E5ECF6",
           "radialaxis": {
            "gridcolor": "white",
            "linecolor": "white",
            "ticks": ""
           }
          },
          "scene": {
           "xaxis": {
            "backgroundcolor": "#E5ECF6",
            "gridcolor": "white",
            "gridwidth": 2,
            "linecolor": "white",
            "showbackground": true,
            "ticks": "",
            "zerolinecolor": "white"
           },
           "yaxis": {
            "backgroundcolor": "#E5ECF6",
            "gridcolor": "white",
            "gridwidth": 2,
            "linecolor": "white",
            "showbackground": true,
            "ticks": "",
            "zerolinecolor": "white"
           },
           "zaxis": {
            "backgroundcolor": "#E5ECF6",
            "gridcolor": "white",
            "gridwidth": 2,
            "linecolor": "white",
            "showbackground": true,
            "ticks": "",
            "zerolinecolor": "white"
           }
          },
          "shapedefaults": {
           "line": {
            "color": "#2a3f5f"
           }
          },
          "ternary": {
           "aaxis": {
            "gridcolor": "white",
            "linecolor": "white",
            "ticks": ""
           },
           "baxis": {
            "gridcolor": "white",
            "linecolor": "white",
            "ticks": ""
           },
           "bgcolor": "#E5ECF6",
           "caxis": {
            "gridcolor": "white",
            "linecolor": "white",
            "ticks": ""
           }
          },
          "title": {
           "x": 0.05
          },
          "xaxis": {
           "automargin": true,
           "gridcolor": "white",
           "linecolor": "white",
           "ticks": "",
           "title": {
            "standoff": 15
           },
           "zerolinecolor": "white",
           "zerolinewidth": 2
          },
          "yaxis": {
           "automargin": true,
           "gridcolor": "white",
           "linecolor": "white",
           "ticks": "",
           "title": {
            "standoff": 15
           },
           "zerolinecolor": "white",
           "zerolinewidth": 2
          }
         }
        },
        "title": {
         "text": "  Enrollment Distribution by Trial Status"
        },
        "violinmode": "overlay",
        "xaxis": {
         "anchor": "y",
         "categoryarray": [
          "Active, not recruiting",
          "Not yet recruiting",
          "Recruiting",
          "Enrolling by invitation",
          "Suspended",
          "Completed",
          "Withdrawn",
          "Terminated"
         ],
         "categoryorder": "array",
         "domain": [
          0,
          1
         ],
         "title": {
          "text": "Status"
         }
        },
        "yaxis": {
         "anchor": "x",
         "domain": [
          0,
          1
         ],
         "title": {
          "text": "Enrollment"
         }
        }
       }
      },
      "image/png": "[encoded data removed]"
     },
     "metadata": {},
     "output_type": "display_data"
    }
   ],
   "source": [
    "# 4. Enrollment by Status\n",
    "if {\"Status\",\"Enrollment\"}.issubset(df.columns):\n",
    "    fig = px.violin(\n",
    "        df[df[\"Enrollment\"] < df[\"Enrollment\"].quantile(0.95)], # remove outliers\n",
    "        x=\"Status\",\n",
    "        y=\"Enrollment\",\n",
    "        box=True,\n",
    "        points=\"all\",\n",
    "        color=\"Status\",\n",
    "        title=\"  Enrollment Distribution by Trial Status\"\n",
    "    )\n",
    "    fig.show()"
   ]
  },
  {
   "cell_type": "code",
   "execution_count": 36,
   "id": "d5ebae86-725f-4498-815f-f05f6d10dde5",
   "metadata": {},
   "outputs": [
    {
     "data": {
      "image/png": "[encoded data removed]",
      "text/plain": [
       "<Figure size 1000x600 with 1 Axes>"
      ]
     },
     "metadata": {},
     "output_type": "display_data"
    }
   ],
   "source": [
    "# 5. Status by Gender\n",
    "if {\"Status\",\"Gender\"}.issubset(df.columns):\n",
    "    stacked_data = pd.crosstab(df[\"Status\"], df[\"Gender\"])\n",
    "    stacked_data.plot(\n",
    "        kind=\"bar\",\n",
    "        stacked=True,\n",
    "        figsize=(10,6),\n",
    "        colormap=\"Set2\"\n",
    "    )\n",
    "    plt.title(\" Status of Trials by Gender\")\n",
    "    plt.xlabel(\"Status\")\n",
    "    plt.ylabel(\"Number of Trials\")\n",
    "    plt.legend(title=\"Gender\")\n",
    "    plt.show()"
   ]
  },
  {
   "cell_type": "code",
   "execution_count": 40,
   "id": "7e64afaf-bb21-42fc-b128-58e2884459da",
   "metadata": {},
   "outputs": [
    {
     "data": {
      "application/vnd.plotly.v1+json": {
       "config": {
        "plotlyServerURL": "https://plot.ly"
       },
       "data": [
        {
         "link": {
          "source": [
           0,
           0,
           0,
           0,
           0,
           0,
           0,
           1,
           1,
           1,
           1,
           1,
           1,
           1,
           1,
           2,
           2,
           2,
           2,
           2,
           2,
           2,
           2,
           2,
           2,
           2,
           2,
           3,
           3,
           3,
           3,
           3,
           3,
           3,
           4,
           4,
           4,
           4,
           4,
           4,
           4,
           4,
           5,
           5,
           5,
           5,
           5,
           5,
           5,
           5,
           6,
           6,
           6,
           6,
           6,
           6,
           6,
           6,
           7,
           7,
           7,
           7,
           7,
           7,
           7,
           7,
           8,
           8,
           8,
           8,
           8,
           8,
           8,
           8
          ],
          "target": [
           9,
           10,
           11,
           12,
           13,
           14,
           15,
           9,
           10,
           11,
           12,
           13,
           14,
           16,
           15,
           9,
           17,
           18,
           10,
           11,
           19,
           12,
           13,
           14,
           20,
           16,
           15,
           9,
           10,
           11,
           12,
           13,
           16,
           15,
           9,
           10,
           11,
           12,
           13,
           14,
           16,
           15,
           9,
           10,
           11,
           12,
           13,
           14,
           16,
           15,
           9,
           10,
           11,
           12,
           13,
           14,
           16,
           15,
           9,
           10,
           11,
           12,
           13,
           14,
           16,
           15,
           9,
           10,
           11,
           12,
           13,
           14,
           16,
           15
          ],
          "value": {
           "bdata": "BwADAAQABQAWAAIAAwBvAOIANgAaAYcCAgANABMArwACABMANQJgAAwAXgHIBAIAAQAEAAsALAAmAAEAKgBiAAQABwAaABEAAwAuAFwAAgACAAQAUQBOAAoAcgBXAQQAGQAeAA8AFAABAC4AZgAEAAYABgA7ADgABgBZAMQACQAPABQACAAWAAYAHgBRAAIABQAHAA==",
           "dtype": "i2"
          }
         },
         "node": {
          "label": [
           "Early Phase 1",
           "Not Applicable",
           "Not Reported",
           "Phase 1",
           "Phase 1|Phase 2",
           "Phase 2",
           "Phase 2|Phase 3",
           "Phase 3",
           "Phase 4",
           "Active, not recruiting",
           "Completed",
           "Enrolling by invitation",
           "Not yet recruiting",
           "Recruiting",
           "Suspended",
           "Withdrawn",
           "Terminated",
           "Approved for marketing",
           "Available",
           "No longer available",
           "Temporarily not available"
          ],
          "line": {
           "color": "black",
           "width": 0.5
          },
          "pad": 15,
          "thickness": 20
         },
         "type": "sankey"
        }
       ],
       "layout": {
        "font": {
         "size": 12
        },
        "template": {
         "data": {
          "bar": [
           {
            "error_x": {
             "color": "#2a3f5f"
            },
            "error_y": {
             "color": "#2a3f5f"
            },
            "marker": {
             "line": {
              "color": "#E5ECF6",
              "width": 0.5
             },
             "pattern": {
              "fillmode": "overlay",
              "size": 10,
              "solidity": 0.2
             }
            },
            "type": "bar"
           }
          ],
          "barpolar": [
           {
            "marker": {
             "line": {
              "color": "#E5ECF6",
              "width": 0.5
             },
             "pattern": {
              "fillmode": "overlay",
              "size": 10,
              "solidity": 0.2
             }
            },
            "type": "barpolar"
           }
          ],
          "carpet": [
           {
            "aaxis": {
             "endlinecolor": "#2a3f5f",
             "gridcolor": "white",
             "linecolor": "white",
             "minorgridcolor": "white",
             "startlinecolor": "#2a3f5f"
            },
            "baxis": {
             "endlinecolor": "#2a3f5f",
             "gridcolor": "white",
             "linecolor": "white",
             "minorgridcolor": "white",
             "startlinecolor": "#2a3f5f"
            },
            "type": "carpet"
           }
          ],
          "choropleth": [
           {
            "colorbar": {
             "outlinewidth": 0,
             "ticks": ""
            },
            "type": "choropleth"
           }
          ],
          "contour": [
           {
            "colorbar": {
             "outlinewidth": 0,
             "ticks": ""
            },
            "colorscale": [
             [
              0,
              "#0d0887"
             ],
             [
              0.1111111111111111,
              "#46039f"
             ],
             [
              0.2222222222222222,
              "#7201a8"
             ],
             [
              0.3333333333333333,
              "#9c179e"
             ],
             [
              0.4444444444444444,
              "#bd3786"
             ],
             [
              0.5555555555555556,
              "#d8576b"
             ],
             [
              0.6666666666666666,
              "#ed7953"
             ],
             [
              0.7777777777777778,
              "#fb9f3a"
             ],
             [
              0.8888888888888888,
              "#fdca26"
             ],
             [
              1,
              "#f0f921"
             ]
            ],
            "type": "contour"
           }
          ],
          "contourcarpet": [
           {
            "colorbar": {
             "outlinewidth": 0,
             "ticks": ""
            },
            "type": "contourcarpet"
           }
          ],
          "heatmap": [
           {
            "colorbar": {
             "outlinewidth": 0,
             "ticks": ""
            },
            "colorscale": [
             [
              0,
              "#0d0887"
             ],
             [
              0.1111111111111111,
              "#46039f"
             ],
             [
              0.2222222222222222,
              "#7201a8"
             ],
             [
              0.3333333333333333,
              "#9c179e"
             ],
             [
              0.4444444444444444,
              "#bd3786"
             ],
             [
              0.5555555555555556,
              "#d8576b"
             ],
             [
              0.6666666666666666,
              "#ed7953"
             ],
             [
              0.7777777777777778,
              "#fb9f3a"
             ],
             [
              0.8888888888888888,
              "#fdca26"
             ],
             [
              1,
              "#f0f921"
             ]
            ],
            "type": "heatmap"
           }
          ],
          "histogram": [
           {
            "marker": {
             "pattern": {
              "fillmode": "overlay",
              "size": 10,
              "solidity": 0.2
             }
            },
            "type": "histogram"
           }
          ],
          "histogram2d": [
           {
            "colorbar": {
             "outlinewidth": 0,
             "ticks": ""
            },
            "colorscale": [
             [
              0,
              "#0d0887"
             ],
             [
              0.1111111111111111,
              "#46039f"
             ],
             [
              0.2222222222222222,
              "#7201a8"
             ],
             [
              0.3333333333333333,
              "#9c179e"
             ],
             [
              0.4444444444444444,
              "#bd3786"
             ],
             [
              0.5555555555555556,
              "#d8576b"
             ],
             [
              0.6666666666666666,
              "#ed7953"
             ],
             [
              0.7777777777777778,
              "#fb9f3a"
             ],
             [
              0.8888888888888888,
              "#fdca26"
             ],
             [
              1,
              "#f0f921"
             ]
            ],
            "type": "histogram2d"
           }
          ],
          "histogram2dcontour": [
           {
            "colorbar": {
             "outlinewidth": 0,
             "ticks": ""
            },
            "colorscale": [
             [
              0,
              "#0d0887"
             ],
             [
              0.1111111111111111,
              "#46039f"
             ],
             [
              0.2222222222222222,
              "#7201a8"
             ],
             [
              0.3333333333333333,
              "#9c179e"
             ],
             [
              0.4444444444444444,
              "#bd3786"
             ],
             [
              0.5555555555555556,
              "#d8576b"
             ],
             [
              0.6666666666666666,
              "#ed7953"
             ],
             [
              0.7777777777777778,
              "#fb9f3a"
             ],
             [
              0.8888888888888888,
              "#fdca26"
             ],
             [
              1,
              "#f0f921"
             ]
            ],
            "type": "histogram2dcontour"
           }
          ],
          "mesh3d": [
           {
            "colorbar": {
             "outlinewidth": 0,
             "ticks": ""
            },
            "type": "mesh3d"
           }
          ],
          "parcoords": [
           {
            "line": {
             "colorbar": {
              "outlinewidth": 0,
              "ticks": ""
             }
            },
            "type": "parcoords"
           }
          ],
          "pie": [
           {
            "automargin": true,
            "type": "pie"
           }
          ],
          "scatter": [
           {
            "fillpattern": {
             "fillmode": "overlay",
             "size": 10,
             "solidity": 0.2
            },
            "type": "scatter"
           }
          ],
          "scatter3d": [
           {
            "line": {
             "colorbar": {
              "outlinewidth": 0,
              "ticks": ""
             }
            },
            "marker": {
             "colorbar": {
              "outlinewidth": 0,
              "ticks": ""
             }
            },
            "type": "scatter3d"
           }
          ],
          "scattercarpet": [
           {
            "marker": {
             "colorbar": {
              "outlinewidth": 0,
              "ticks": ""
             }
            },
            "type": "scattercarpet"
           }
          ],
          "scattergeo": [
           {
            "marker": {
             "colorbar": {
              "outlinewidth": 0,
              "ticks": ""
             }
            },
            "type": "scattergeo"
           }
          ],
          "scattergl": [
           {
            "marker": {
             "colorbar": {
              "outlinewidth": 0,
              "ticks": ""
             }
            },
            "type": "scattergl"
           }
          ],
          "scattermap": [
           {
            "marker": {
             "colorbar": {
              "outlinewidth": 0,
              "ticks": ""
             }
            },
            "type": "scattermap"
           }
          ],
          "scattermapbox": [
           {
            "marker": {
             "colorbar": {
              "outlinewidth": 0,
              "ticks": ""
             }
            },
            "type": "scattermapbox"
           }
          ],
          "scatterpolar": [
           {
            "marker": {
             "colorbar": {
              "outlinewidth": 0,
              "ticks": ""
             }
            },
            "type": "scatterpolar"
           }
          ],
          "scatterpolargl": [
           {
            "marker": {
             "colorbar": {
              "outlinewidth": 0,
              "ticks": ""
             }
            },
            "type": "scatterpolargl"
           }
          ],
          "scatterternary": [
           {
            "marker": {
             "colorbar": {
              "outlinewidth": 0,
              "ticks": ""
             }
            },
            "type": "scatterternary"
           }
          ],
          "surface": [
           {
            "colorbar": {
             "outlinewidth": 0,
             "ticks": ""
            },
            "colorscale": [
             [
              0,
              "#0d0887"
             ],
             [
              0.1111111111111111,
              "#46039f"
             ],
             [
              0.2222222222222222,
              "#7201a8"
             ],
             [
              0.3333333333333333,
              "#9c179e"
             ],
             [
              0.4444444444444444,
              "#bd3786"
             ],
             [
              0.5555555555555556,
              "#d8576b"
             ],
             [
              0.6666666666666666,
              "#ed7953"
             ],
             [
              0.7777777777777778,
              "#fb9f3a"
             ],
             [
              0.8888888888888888,
              "#fdca26"
             ],
             [
              1,
              "#f0f921"
             ]
            ],
            "type": "surface"
           }
          ],
          "table": [
           {
            "cells": {
             "fill": {
              "color": "#EBF0F8"
             },
             "line": {
              "color": "white"
             }
            },
            "header": {
             "fill": {
              "color": "#C8D4E3"
             },
             "line": {
              "color": "white"
             }
            },
            "type": "table"
           }
          ]
         },
         "layout": {
          "annotationdefaults": {
           "arrowcolor": "#2a3f5f",
           "arrowhead": 0,
           "arrowwidth": 1
          },
          "autotypenumbers": "strict",
          "coloraxis": {
           "colorbar": {
            "outlinewidth": 0,
            "ticks": ""
           }
          },
          "colorscale": {
           "diverging": [
            [
             0,
             "#8e0152"
            ],
            [
             0.1,
             "#c51b7d"
            ],
            [
             0.2,
             "#de77ae"
            ],
            [
             0.3,
             "#f1b6da"
            ],
            [
             0.4,
             "#fde0ef"
            ],
            [
             0.5,
             "#f7f7f7"
            ],
            [
             0.6,
             "#e6f5d0"
            ],
            [
             0.7,
             "#b8e186"
            ],
            [
             0.8,
             "#7fbc41"
            ],
            [
             0.9,
             "#4d9221"
            ],
            [
             1,
             "#276419"
            ]
           ],
           "sequential": [
            [
             0,
             "#0d0887"
            ],
            [
             0.1111111111111111,
             "#46039f"
            ],
            [
             0.2222222222222222,
             "#7201a8"
            ],
            [
             0.3333333333333333,
             "#9c179e"
            ],
            [
             0.4444444444444444,
             "#bd3786"
            ],
            [
             0.5555555555555556,
             "#d8576b"
            ],
            [
             0.6666666666666666,
             "#ed7953"
            ],
            [
             0.7777777777777778,
             "#fb9f3a"
            ],
            [
             0.8888888888888888,
             "#fdca26"
            ],
            [
             1,
             "#f0f921"
            ]
           ],
           "sequentialminus": [
            [
             0,
             "#0d0887"
            ],
            [
             0.1111111111111111,
             "#46039f"
            ],
            [
             0.2222222222222222,
             "#7201a8"
            ],
            [
             0.3333333333333333,
             "#9c179e"
            ],
            [
             0.4444444444444444,
             "#bd3786"
            ],
            [
             0.5555555555555556,
             "#d8576b"
            ],
            [
             0.6666666666666666,
             "#ed7953"
            ],
            [
             0.7777777777777778,
             "#fb9f3a"
            ],
            [
             0.8888888888888888,
             "#fdca26"
            ],
            [
             1,
             "#f0f921"
            ]
           ]
          },
          "colorway": [
           "#636efa",
           "#EF553B",
           "#00cc96",
           "#ab63fa",
           "#FFA15A",
           "#19d3f3",
           "#FF6692",
           "#B6E880",
           "#FF97FF",
           "#FECB52"
          ],
          "font": {
           "color": "#2a3f5f"
          },
          "geo": {
           "bgcolor": "white",
           "lakecolor": "white",
           "landcolor": "#E5ECF6",
           "showlakes": true,
           "showland": true,
           "subunitcolor": "white"
          },
          "hoverlabel": {
           "align": "left"
          },
          "hovermode": "closest",
          "mapbox": {
           "style": "light"
          },
          "paper_bgcolor": "white",
          "plot_bgcolor": "#E5ECF6",
          "polar": {
           "angularaxis": {
            "gridcolor": "white",
            "linecolor": "white",
            "ticks": ""
           },
           "bgcolor": "#E5ECF6",
           "radialaxis": {
            "gridcolor": "white",
            "linecolor": "white",
            "ticks": ""
           }
          },
          "scene": {
           "xaxis": {
            "backgroundcolor": "#E5ECF6",
            "gridcolor": "white",
            "gridwidth": 2,
            "linecolor": "white",
            "showbackground": true,
            "ticks": "",
            "zerolinecolor": "white"
           },
           "yaxis": {
            "backgroundcolor": "#E5ECF6",
            "gridcolor": "white",
            "gridwidth": 2,
            "linecolor": "white",
            "showbackground": true,
            "ticks": "",
            "zerolinecolor": "white"
           },
           "zaxis": {
            "backgroundcolor": "#E5ECF6",
            "gridcolor": "white",
            "gridwidth": 2,
            "linecolor": "white",
            "showbackground": true,
            "ticks": "",
            "zerolinecolor": "white"
           }
          },
          "shapedefaults": {
           "line": {
            "color": "#2a3f5f"
           }
          },
          "ternary": {
           "aaxis": {
            "gridcolor": "white",
            "linecolor": "white",
            "ticks": ""
           },
           "baxis": {
            "gridcolor": "white",
            "linecolor": "white",
            "ticks": ""
           },
           "bgcolor": "#E5ECF6",
           "caxis": {
            "gridcolor": "white",
            "linecolor": "white",
            "ticks": ""
           }
          },
          "title": {
           "x": 0.05
          },
          "xaxis": {
           "automargin": true,
           "gridcolor": "white",
           "linecolor": "white",
           "ticks": "",
           "title": {
            "standoff": 15
           },
           "zerolinecolor": "white",
           "zerolinewidth": 2
          },
          "yaxis": {
           "automargin": true,
           "gridcolor": "white",
           "linecolor": "white",
           "ticks": "",
           "title": {
            "standoff": 15
           },
           "zerolinecolor": "white",
           "zerolinewidth": 2
          }
         }
        },
        "title": {
         "text": "Trial Phases → Status"
        }
       }
      },
      "image/png": "[encoded data removed]"
     },
     "metadata": {},
     "output_type": "display_data"
    }
   ],
   "source": [
    "import plotly.graph_objects as go\n",
    "\n",
    "if {\"Phases\",\"Status\"}.issubset(df.columns):\n",
    "    phase_counts = df.groupby([\"Phases\",\"Status\"]).size().reset_index(name=\"count\")\n",
    "    \n",
    "    labels = list(phase_counts[\"Phases\"].unique()) + list(phase_counts[\"Status\"].unique())\n",
    "    source = phase_counts[\"Phases\"].map({v:i for i,v in enumerate(labels)}).tolist()\n",
    "    target = phase_counts[\"Status\"].map({v:i for i,v in enumerate(labels)}).tolist()\n",
    "    \n",
    "    fig = go.Figure(data=[go.Sankey(\n",
    "        node=dict(pad=15, thickness=20, line=dict(color=\"black\", width=0.5), label=labels),\n",
    "        link=dict(source=source, target=target, value=phase_counts[\"count\"])\n",
    "    )])\n",
    "    fig.update_layout(title_text= \"Trial Phases → Status\", font_size=12)\n",
    "    fig.show()\n"
   ]
  },
  {
   "cell_type": "code",
   "execution_count": null,
   "id": "6d5e23c5-7706-478c-bf14-dafc24186a3c",
   "metadata": {},
   "outputs": [],
   "source": []
  }
 ],
 "metadata": {
  "kernelspec": {
   "display_name": "Python 3 (ipykernel)",
   "language": "python",
   "name": "python3"
  },
  "language_info": {
   "codemirror_mode": {
    "name": "ipython",
    "version": 3
   },
   "file_extension": ".py",
   "mimetype": "text/x-python",
   "name": "python",
   "nbconvert_exporter": "python",
   "pygments_lexer": "ipython3",
   "version": "3.13.7"
  }
 },
 "nbformat": 4,
 "nbformat_minor": 5
}
